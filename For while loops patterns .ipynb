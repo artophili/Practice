{
 "cells": [
  {
   "cell_type": "markdown",
   "id": "ed4f20fe",
   "metadata": {},
   "source": [
    "FOR LOOPS\n",
    "The range() function returns a sequence of numbers, starting from 0 by default, and  increments by 1 (by default), and stops before a specified number.\n",
    "Syntax\n",
    "\n",
    "range(Lower Limit, Upper Limit, Step Value)"
   ]
  },
  {
   "cell_type": "code",
   "execution_count": 1,
   "id": "a9e7af11",
   "metadata": {},
   "outputs": [
    {
     "name": "stdout",
     "output_type": "stream",
     "text": [
      "10\n",
      "0\n",
      "1\n",
      "2\n",
      "3\n",
      "4\n",
      "5\n",
      "6\n",
      "7\n",
      "8\n",
      "9\n",
      "10\n"
     ]
    }
   ],
   "source": [
    "n = int(input())\n",
    "for i in range(0,n+1):\n",
    "    print(i)\n"
   ]
  },
  {
   "cell_type": "code",
   "execution_count": 2,
   "id": "8f7d80df",
   "metadata": {},
   "outputs": [
    {
     "name": "stdout",
     "output_type": "stream",
     "text": [
      "10\n",
      "0\n",
      "2\n",
      "4\n",
      "6\n",
      "8\n",
      "10\n"
     ]
    }
   ],
   "source": [
    "n = int(input())\n",
    "for i in range(0,n+1,2):\n",
    "    print(i)\n"
   ]
  },
  {
   "cell_type": "code",
   "execution_count": 3,
   "id": "0fa788a7",
   "metadata": {},
   "outputs": [
    {
     "name": "stdout",
     "output_type": "stream",
     "text": [
      "15\n",
      "0\n",
      "3\n",
      "6\n",
      "9\n",
      "12\n",
      "15\n"
     ]
    }
   ],
   "source": [
    "n = int(input())\n",
    "for i in range(0,n+1,3):\n",
    "    print(i)"
   ]
  },
  {
   "cell_type": "code",
   "execution_count": 4,
   "id": "b5a90903",
   "metadata": {},
   "outputs": [
    {
     "name": "stdout",
     "output_type": "stream",
     "text": [
      "10\n",
      "10\n",
      "9\n",
      "8\n",
      "7\n",
      "6\n",
      "5\n",
      "4\n",
      "3\n",
      "2\n",
      "1\n"
     ]
    }
   ],
   "source": [
    "n = int(input())\n",
    "for i in range(n,0,-1):\n",
    "    print(i)\n"
   ]
  },
  {
   "cell_type": "code",
   "execution_count": 5,
   "id": "b3c72241",
   "metadata": {},
   "outputs": [
    {
     "name": "stdout",
     "output_type": "stream",
     "text": [
      "10\n",
      "10\n",
      "9\n",
      "8\n",
      "7\n",
      "6\n",
      "5\n",
      "4\n",
      "3\n",
      "2\n",
      "1\n",
      "0\n"
     ]
    }
   ],
   "source": [
    "n = int(input())\n",
    "for i in range(n,-1,-1):\n",
    "    print(i)"
   ]
  },
  {
   "cell_type": "code",
   "execution_count": 6,
   "id": "71b90b20",
   "metadata": {},
   "outputs": [
    {
     "name": "stdout",
     "output_type": "stream",
     "text": [
      "13"
     ]
    }
   ],
   "source": [
    "for i in range(1,5,2):\n",
    "    print(i,end='')\n"
   ]
  },
  {
   "cell_type": "code",
   "execution_count": 7,
   "id": "74e47192",
   "metadata": {},
   "outputs": [
    {
     "name": "stdout",
     "output_type": "stream",
     "text": [
      "0 1 2 3 4 "
     ]
    }
   ],
   "source": [
    "for i in range(5):\n",
    "    print(i,end=' ')\n"
   ]
  },
  {
   "cell_type": "code",
   "execution_count": 8,
   "id": "99474704",
   "metadata": {},
   "outputs": [
    {
     "name": "stdout",
     "output_type": "stream",
     "text": [
      "1\n",
      "20\n",
      "3\n",
      "6\n",
      "9\n",
      "12\n",
      "15\n",
      "18\n",
      "21\n",
      "24\n",
      "27\n",
      "30\n",
      "33\n",
      "36\n",
      "39\n",
      "42\n",
      "45\n",
      "48\n",
      "51\n",
      "54\n",
      "57\n",
      "60\n"
     ]
    }
   ],
   "source": [
    "a = int(input())\n",
    "b = int(input())\n",
    "for i in range(a,b+1):\n",
    "    print(i * 3)\n"
   ]
  },
  {
   "cell_type": "markdown",
   "id": "bdb71216",
   "metadata": {},
   "source": [
    "To check that given number is prime or not"
   ]
  },
  {
   "cell_type": "code",
   "execution_count": 20,
   "id": "b3bc5808",
   "metadata": {},
   "outputs": [
    {
     "name": "stdout",
     "output_type": "stream",
     "text": [
      "15\n",
      "15 is not a prime number\n"
     ]
    }
   ],
   "source": [
    "n = int(input())\n",
    "flag = False\n",
    "for i in range(2,n,1):\n",
    "    if n % i == 0:\n",
    "        flag = True\n",
    "if flag:\n",
    "    print(n,'is not a prime number')\n",
    "else:\n",
    "    print(n,'is prime')\n",
    "\n",
    "\n"
   ]
  },
  {
   "cell_type": "markdown",
   "id": "8de36d40",
   "metadata": {},
   "source": [
    "for loops for pattern"
   ]
  },
  {
   "cell_type": "markdown",
   "id": "f666f0d9",
   "metadata": {},
   "source": [
    "Binary patterns\n",
    "1111    0101\n",
    "000     010 \n",
    "11      01\n",
    "0       0"
   ]
  },
  {
   "cell_type": "code",
   "execution_count": 3,
   "id": "c99d6606",
   "metadata": {},
   "outputs": [
    {
     "name": "stdout",
     "output_type": "stream",
     "text": [
      "4\n",
      "1111\n",
      "000\n",
      "11\n",
      "0\n"
     ]
    }
   ],
   "source": [
    "n = int(input())\n",
    "for i in range(1,n + 1, 1):\n",
    "    for j in range(n - i + 1):\n",
    "        if i % 2 == 0:\n",
    "            print('0',end = '')\n",
    "        else:\n",
    "            print('1',end = '')\n",
    "    print()"
   ]
  },
  {
   "cell_type": "code",
   "execution_count": 4,
   "id": "e1c9ceae",
   "metadata": {},
   "outputs": [
    {
     "name": "stdout",
     "output_type": "stream",
     "text": [
      "4\n",
      "0101\n",
      "010\n",
      "01\n",
      "0\n"
     ]
    }
   ],
   "source": [
    "n = int(input())\n",
    "for i in range(1,n + 1, 1):\n",
    "    for j in range(n - i + 1):\n",
    "        if j % 2 == 0:\n",
    "            print('0',end = '')\n",
    "        else:\n",
    "            print('1',end = '')\n",
    "    print()"
   ]
  },
  {
   "cell_type": "raw",
   "id": "3ca7713c",
   "metadata": {},
   "source": [
    "Star pattern with for loop\n",
    "*\n",
    "**\n",
    "***\n",
    "****"
   ]
  },
  {
   "cell_type": "code",
   "execution_count": null,
   "id": "aed1319e",
   "metadata": {},
   "outputs": [],
   "source": [
    "n = int(input())\n",
    "for i  in range(1,n+1,1):\n",
    "    for j in range(i):\n",
    "        print(\"*\",end='')\n",
    "    print()\n"
   ]
  },
  {
   "cell_type": "markdown",
   "id": "41b80de6",
   "metadata": {},
   "source": [
    "number pattern\n",
    "33333\n",
    "32223\n",
    "32123\n",
    "32223\n",
    "33333"
   ]
  },
  {
   "cell_type": "code",
   "execution_count": 8,
   "id": "067388d3",
   "metadata": {},
   "outputs": [
    {
     "name": "stdout",
     "output_type": "stream",
     "text": [
      "3\n",
      "2\n",
      "2\n",
      "2\n",
      "2\n",
      "2\n",
      "\n",
      "3\n",
      "2\n",
      "2\n",
      "2\n",
      "2\n",
      "\n",
      "3\n",
      "3\n",
      "2\n",
      "2\n",
      "2\n",
      "\n",
      "3\n",
      "3\n",
      "3\n",
      "2\n",
      "2\n",
      "\n",
      "3\n",
      "3\n",
      "3\n",
      "3\n",
      "2\n",
      "\n"
     ]
    }
   ],
   "source": [
    "n = int(input())\n",
    "for i in range(0,n+n-1,1):\n",
    "    for j in range(n+n-1):\n",
    "            \n",
    "        \n",
    "    print()\n"
   ]
  },
  {
   "cell_type": "markdown",
   "id": "74090e8e",
   "metadata": {},
   "source": [
    "To check a prime number\n",
    "Used a 'break' statement ---> Helps to escape out of the loop if we met a certain condition"
   ]
  },
  {
   "cell_type": "code",
   "execution_count": 10,
   "id": "36a3c900",
   "metadata": {},
   "outputs": [
    {
     "name": "stdout",
     "output_type": "stream",
     "text": [
      "2\n",
      "2 is a prime number\n"
     ]
    }
   ],
   "source": [
    "n= int(input())\n",
    "flag = False\n",
    "for i in range(2,n,1):\n",
    "    if (n % i == 0):\n",
    "        flag = True\n",
    "        break\n",
    "if flag:\n",
    "    print(n,'is not a prime number')\n",
    "else:\n",
    "    print(n,'is a prime number')\n",
    "\n",
    "        "
   ]
  },
  {
   "cell_type": "code",
   "execution_count": 15,
   "id": "ab0b0513",
   "metadata": {},
   "outputs": [
    {
     "name": "stdout",
     "output_type": "stream",
     "text": [
      "20\n"
     ]
    }
   ],
   "source": [
    "n = int(input())\n",
    "flag = False\n",
    "for i in range(n):\n",
    "    for j in range(2,n,1):\n",
    "        if (n % j) == 0:\n",
    "            flag = True\n",
    "            break\n",
    "    if not(flag):\n",
    "        print(i)\n",
    "    else:\n",
    "        None\n",
    "\n",
    "        "
   ]
  },
  {
   "cell_type": "code",
   "execution_count": 17,
   "id": "43f24f1a",
   "metadata": {},
   "outputs": [
    {
     "name": "stdout",
     "output_type": "stream",
     "text": [
      "12"
     ]
    }
   ],
   "source": [
    "i = 1\n",
    "while i < 5:\n",
    "    if i == 3 :\n",
    "        break\n",
    "    print(i,end = '')\n",
    "    i +=1"
   ]
  },
  {
   "cell_type": "code",
   "execution_count": 19,
   "id": "bb3e380f",
   "metadata": {},
   "outputs": [
    {
     "name": "stdout",
     "output_type": "stream",
     "text": [
      "1212"
     ]
    }
   ],
   "source": [
    "i = 1\n",
    "while i < 3:\n",
    "    j = 1\n",
    "    while j < 5:\n",
    "        if j == 3 :\n",
    "            break\n",
    "        print(j,end='')\n",
    "        j += 1\n",
    "    i += 1\n"
   ]
  },
  {
   "cell_type": "markdown",
   "id": "1e7d4bca",
   "metadata": {},
   "source": [
    "We can use 'else' statement along with for /while loop"
   ]
  },
  {
   "cell_type": "code",
   "execution_count": null,
   "id": "3414b6cc",
   "metadata": {},
   "outputs": [],
   "source": [
    "i=1\n",
    "while i<5:\n",
    "    if i == 6:\n",
    "        break\n",
    "    print(i,end=\" \")\n",
    "    i = i + 1\n",
    "#else:\n",
    "#   print(“Else is also printed”)"
   ]
  },
  {
   "cell_type": "markdown",
   "id": "e85ac6dc",
   "metadata": {},
   "source": [
    "Continue keyword : It helps to skip at certain point in for/while loop"
   ]
  },
  {
   "cell_type": "code",
   "execution_count": null,
   "id": "ecf56a3e",
   "metadata": {},
   "outputs": [],
   "source": [
    "for i in range(0,11,1):\n",
    "    if i == 9:\n",
    "        continue\n",
    "    print(i)\n"
   ]
  },
  {
   "cell_type": "markdown",
   "id": "1748b676",
   "metadata": {},
   "source": [
    "In the above code 9 is skipped bcoz \n",
    "in the above loop if i == 9 ===> loop continue to the next number and skipped 9"
   ]
  },
  {
   "cell_type": "code",
   "execution_count": 8,
   "id": "c9ea71bb",
   "metadata": {
    "scrolled": true
   },
   "outputs": [
    {
     "name": "stdout",
     "output_type": "stream",
     "text": [
      "40\n",
      "2\n",
      "4\n",
      "6\n",
      "8\n",
      "10\n",
      "12\n",
      "16\n",
      "18\n",
      "20\n",
      "22\n",
      "24\n",
      "26\n",
      "30\n",
      "32\n",
      "34\n",
      "36\n",
      "38\n",
      "40\n"
     ]
    }
   ],
   "source": [
    "#Below code prints all even numbers upto n and skips the multiple of 7 \n",
    "n = int(input())\n",
    "for i  in range(0,n+1,2):\n",
    "    if i % 7 == 0:\n",
    "        continue\n",
    "    print(i)"
   ]
  },
  {
   "cell_type": "markdown",
   "id": "5c7cb350",
   "metadata": {},
   "source": [
    "The continue statement jumps out of the current iteration and forces the next iteration of the loop to take place."
   ]
  },
  {
   "cell_type": "code",
   "execution_count": null,
   "id": "e81dfaba",
   "metadata": {},
   "outputs": [],
   "source": [
    "i=1\n",
    "while i<3:\n",
    "    j=0\n",
    "    while j<5:\n",
    "        j = j +1\n",
    "        if j==3:\n",
    "            continue\n",
    "        print(j,end=” “)\n",
    "    i = i +1"
   ]
  },
  {
   "cell_type": "code",
   "execution_count": 1,
   "id": "aeab7f42",
   "metadata": {},
   "outputs": [
    {
     "name": "stdout",
     "output_type": "stream",
     "text": [
      "5\n",
      "1  2  3  4  5  \n",
      "1  2  3  4  5  \n",
      "1  2  3  4  5  \n",
      "1  2  3  4  5  \n",
      "1  2  3  4  5  \n"
     ]
    }
   ],
   "source": [
    "n = int(input())\n",
    "i = 1\n",
    "while i <= n:\n",
    "    j = 1\n",
    "    while j <= n:\n",
    "        print(j,' ',end='')\n",
    "        j += 1\n",
    "    print()\n",
    "    i += 1"
   ]
  },
  {
   "cell_type": "code",
   "execution_count": 2,
   "id": "fb41ba71",
   "metadata": {},
   "outputs": [
    {
     "name": "stdout",
     "output_type": "stream",
     "text": [
      "5\n",
      "12345\n",
      "12345\n",
      "12345\n"
     ]
    }
   ],
   "source": [
    "n = int(input())\n",
    "i = 1\n",
    "n1 = (n+1)//2  #first half\n",
    "n2 = n//2    #second half\n",
    "while i <= n1:\n",
    "    start = 1\n",
    "    for k in range(start,start+n):\n",
    "        print(k,end='')\n",
    "    \n",
    "    print()\n",
    "    i += 1"
   ]
  },
  {
   "cell_type": "code",
   "execution_count": 3,
   "id": "b862c8c6",
   "metadata": {},
   "outputs": [
    {
     "name": "stdout",
     "output_type": "stream",
     "text": [
      "5\n",
      "12345\n",
      "12345\n",
      "12345\n"
     ]
    }
   ],
   "source": [
    "n = int(input())\n",
    "i = 1\n",
    "n1 = (n+1)//2  #first half\n",
    "n2 = n//2    #second half\n",
    "while i <= n1:\n",
    "    start = 1\n",
    "    for k in range(start,start+n):\n",
    "        print(k,end='')\n",
    "    if i == n1:\n",
    "        start = (4 * n) + 1\n",
    "    elif i < n1:\n",
    "        if i % 2 == 0:\n",
    "            start = (2*n) + 1\n",
    "        else:\n",
    "            start = n + 1\n",
    "    \n",
    "    print()\n",
    "    i += 1"
   ]
  },
  {
   "cell_type": "code",
   "execution_count": null,
   "id": "49b2b2dd",
   "metadata": {},
   "outputs": [],
   "source": []
  }
 ],
 "metadata": {
  "kernelspec": {
   "display_name": "Python 3 (ipykernel)",
   "language": "python",
   "name": "python3"
  },
  "language_info": {
   "codemirror_mode": {
    "name": "ipython",
    "version": 3
   },
   "file_extension": ".py",
   "mimetype": "text/x-python",
   "name": "python",
   "nbconvert_exporter": "python",
   "pygments_lexer": "ipython3",
   "version": "3.9.12"
  }
 },
 "nbformat": 4,
 "nbformat_minor": 5
}
