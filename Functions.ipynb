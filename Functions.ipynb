{
 "cells": [
  {
   "cell_type": "markdown",
   "id": "3ac1498d",
   "metadata": {},
   "source": [
    "All about functions"
   ]
  },
  {
   "cell_type": "markdown",
   "id": "f7dead0f",
   "metadata": {},
   "source": [
    "code to find n factorial"
   ]
  },
  {
   "cell_type": "code",
   "execution_count": null,
   "id": "95410e68",
   "metadata": {
    "scrolled": true
   },
   "outputs": [],
   "source": [
    "n = int(input())\n",
    "n_fact = 1\n",
    "for i in range(1,n+1):\n",
    "    n_fact = n_fact * i\n",
    "print(n_fact)\n",
    "\n"
   ]
  },
  {
   "cell_type": "markdown",
   "id": "5c25d1d1",
   "metadata": {},
   "source": [
    "To find number of possible combinations "
   ]
  },
  {
   "cell_type": "code",
   "execution_count": null,
   "id": "b6ed4c88",
   "metadata": {},
   "outputs": [
    {
     "ename": "",
     "evalue": "",
     "output_type": "error",
     "traceback": [
      "\u001b[1;31mRunning cells with 'Python 3.10.4 64-bit' requires ipykernel package.\n",
      "Run the following command to install 'ipykernel' into the Python environment. \n",
      "Command: 'c:/Python310/python.exe -m pip install ipykernel -U --user --force-reinstall'"
     ]
    }
   ],
   "source": [
    "n = int(input('Total number of elements:'))\n",
    "r = int(input('Number of elements to be chosen:'))\n",
    "n_fact = 1\n",
    "for i in range(1,n+1):\n",
    "    n_fact = n_fact * i\n",
    "r_fact = 1\n",
    "for i in range(1,r+1):\n",
    "    r_fact = r_fact * i\n",
    "n_r_fact = 1\n",
    "for i in range(1,n-r+1):\n",
    "    n_r_fact = n_r_fact * i\n",
    "comb = n_fact//(r_fact * n_r_fact)\n",
    "print(comb)\n"
   ]
  },
  {
   "cell_type": "code",
   "execution_count": 1,
   "id": "ab227ecd",
   "metadata": {},
   "outputs": [
    {
     "name": "stdout",
     "output_type": "stream",
     "text": [
      "5\n"
     ]
    }
   ],
   "source": [
    "def func(a):\n",
    "    a = a + 10\n",
    "    return a\n",
    "a = 5\n",
    "func(a)\n",
    "print(a)\n"
   ]
  },
  {
   "cell_type": "code",
   "execution_count": 2,
   "id": "f655427c",
   "metadata": {},
   "outputs": [
    {
     "name": "stdout",
     "output_type": "stream",
     "text": [
      "16\n"
     ]
    }
   ],
   "source": [
    "def squa(a):\n",
    "    ans = a * a\n",
    "    return ans\n",
    "a = 4\n",
    "a = squa(4)\n",
    "print(a)\n",
    "    "
   ]
  },
  {
   "cell_type": "markdown",
   "id": "5ab3703b",
   "metadata": {},
   "source": []
  },
  {
   "cell_type": "code",
   "execution_count": 3,
   "id": "ae5452c3",
   "metadata": {},
   "outputs": [
    {
     "name": "stdout",
     "output_type": "stream",
     "text": [
      "0\n",
      "100\n",
      "10\n",
      "0 \t -17.77777777777778\n",
      "10 \t -12.222222222222221\n",
      "20 \t -6.666666666666666\n",
      "30 \t -1.1111111111111112\n",
      "40 \t 4.444444444444445\n",
      "50 \t 10.0\n",
      "60 \t 15.555555555555555\n",
      "70 \t 21.11111111111111\n",
      "80 \t 26.666666666666664\n",
      "90 \t 32.22222222222222\n"
     ]
    }
   ],
   "source": [
    "def printTable(start,end,step):\n",
    "    for i in range(start,end,step):\n",
    "        c = (i - 32)/1.8\n",
    "        print(i,'\t',c)\n",
    "#Implement Your Code Here\n",
    "   \n",
    "s = int(input())\n",
    "e = int(input())\n",
    "step = int(input())\n",
    "printTable(s,e,step)"
   ]
  },
  {
   "cell_type": "code",
   "execution_count": 5,
   "id": "e96fdaba",
   "metadata": {},
   "outputs": [
    {
     "name": "stdout",
     "output_type": "stream",
     "text": [
      "[0, 1, 1, 2, 3, 5, 8, 13, 21, 34, 55, 89, 144]\n"
     ]
    }
   ],
   "source": [
    "l1 = [0]\n",
    "a,b=0,1\n",
    "terms = 100\n",
    "while a < terms:\n",
    "    a,b = b,a+b\n",
    "    l1.append(a)\n",
    "print(l1)\n"
   ]
  },
  {
   "cell_type": "code",
   "execution_count": 9,
   "id": "f66e1424",
   "metadata": {},
   "outputs": [
    {
     "name": "stdout",
     "output_type": "stream",
     "text": [
      "2\n",
      "[0, 1, 1, 2, 3, 5, 8, 13, 21, 34, 55, 89, 144, 233, 377, 610, 987, 1597, 2584, 4181, 6765, 10946, 17711, 28657, 46368, 75025, 121393]\n",
      "true\n"
     ]
    }
   ],
   "source": [
    "\n",
    "def checkMember(n):\n",
    "#Implement Your Code Here\n",
    "    l1=[0]\n",
    "    a,b = 0,1\n",
    "    terms = 100000\n",
    "    while a < terms:\n",
    "        a,b = b, a+b\n",
    "        l1.append(a)\n",
    "    print(l1)\n",
    "    if n in l1:\n",
    "        return True\n",
    "    else:\n",
    "        return False\n",
    "\n",
    "n=int(input())\n",
    "if(checkMember(n)):\n",
    "    print(\"true\")\n",
    "else:\n",
    "    print(\"false\")"
   ]
  },
  {
   "cell_type": "code",
   "execution_count": 4,
   "id": "9b862c8c",
   "metadata": {},
   "outputs": [
    {
     "name": "stdout",
     "output_type": "stream",
     "text": [
      "false\n"
     ]
    }
   ],
   "source": [
    "def CheckArmstrong(n):\n",
    "    str_form = str(n)\n",
    "    len_num = len(str_form)\n",
    "    sum = 0\n",
    "    for i in str_form:\n",
    "        sum = sum + (int(i) ** len_num)\n",
    "    if n == sum:\n",
    "        print('true')\n",
    "    else:\n",
    "        print('false')\n",
    "        \n",
    "CheckArmstrong(13)"
   ]
  },
  {
   "cell_type": "code",
   "execution_count": null,
   "id": "0fd7db97",
   "metadata": {},
   "outputs": [],
   "source": [
    "n=int(input())\n",
    "start=1\n",
    "end=2*n+1\n",
    "mid=n+1\n",
    "row=1\n",
    "while(row<=n):\n",
    "    column=1\n",
    "    while column<=(2*n+1):\n",
    "        if column==start or column==end or column==mid:\n",
    "            print(\"*\",end='')\n",
    "        else:\n",
    "            print(\"0\",end=\"\")\n",
    "        column=column+1\n",
    "    start=start+1\n",
    "    end=end-1\n",
    "    row=row+1\n",
    "    print()"
   ]
  }
 ],
 "metadata": {
  "kernelspec": {
   "display_name": "Python 3 (ipykernel)",
   "language": "python",
   "name": "python3"
  },
  "language_info": {
   "codemirror_mode": {
    "name": "ipython",
    "version": 3
   },
   "file_extension": ".py",
   "mimetype": "text/x-python",
   "name": "python",
   "nbconvert_exporter": "python",
   "pygments_lexer": "ipython3",
   "version": "3.9.12"
  },
  "vscode": {
   "interpreter": {
    "hash": "369f2c481f4da34e4445cda3fffd2e751bd1c4d706f27375911949ba6bb62e1c"
   }
  }
 },
 "nbformat": 4,
 "nbformat_minor": 5
}
