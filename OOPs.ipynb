{
 "cells": [
  {
   "cell_type": "code",
   "execution_count": 11,
   "metadata": {},
   "outputs": [],
   "source": [
    "#parent class\n",
    "class Vehicle():\n",
    "    def __init__(self,make,model,fuel):\n",
    "        self.make = make\n",
    "        self.__model = model\n",
    "        self.__fuel = fuel\n",
    "    \n",
    "    def __privatemethod(self):\n",
    "        print('This is private')\n",
    "\n",
    "#Child class\n",
    "class Car(Vehicle):\n",
    "    def __init__(self,make,model,fuel,air_condition,sunroof):\n",
    "        super(Car,self).__init__(make,model,fuel)\n",
    "        #parent attributes\n",
    "        #Vehicle.make = make\n",
    "        #Vehicle.__model = model\n",
    "        #Vehicle.__fuel = fuel\n",
    "\n",
    "        self.air_condition = air_condition\n",
    "        self.sunroof = sunroof\n",
    "\n",
    "    def show_parent_attribute(self):\n",
    "        print(Vehicle.make,\" \",Vehicle.__model,\" \",Vehicle.__fuel)"
   ]
  },
  {
   "cell_type": "code",
   "execution_count": 8,
   "metadata": {},
   "outputs": [
    {
     "data": {
      "text/plain": [
       "{'air_condition': True, 'sunroof': True}"
      ]
     },
     "execution_count": 8,
     "metadata": {},
     "output_type": "execute_result"
    }
   ],
   "source": [
    "myObj = Car('Tesla',2019,'electric',True,True)\n",
    "myObj.__dict__\n",
    "\n"
   ]
  },
  {
   "cell_type": "code",
   "execution_count": 9,
   "metadata": {},
   "outputs": [
    {
     "data": {
      "text/plain": [
       "'Tesla'"
      ]
     },
     "execution_count": 9,
     "metadata": {},
     "output_type": "execute_result"
    }
   ],
   "source": [
    "myObj.make"
   ]
  },
  {
   "cell_type": "code",
   "execution_count": 17,
   "metadata": {},
   "outputs": [
    {
     "data": {
      "text/plain": [
       "{'make': 'Tesla',\n",
       " '_Vehicle__model': 2019,\n",
       " '_Vehicle__fuel': 'Electric',\n",
       " 'air_conditioning': True,\n",
       " 'sunroof': True}"
      ]
     },
     "execution_count": 17,
     "metadata": {},
     "output_type": "execute_result"
    }
   ],
   "source": [
    "#Parent Class\n",
    "class Vehicle():\n",
    "    def __init__(self,make,model,fuel):\n",
    "        self.make=make\n",
    "        self.__model=model\n",
    "        self.__fuel=fuel\n",
    "    def __private_method_parent(self):\n",
    "        print(\"This is private\")\n",
    "        \n",
    "\n",
    "# Child Class\n",
    "class Car(Vehicle):\n",
    "    def __init__(self,make,model,fuel,air_conditioning,sunroof):\n",
    "        super(Car,self).__init__(make,model,fuel)\n",
    "        # Parent Attributes\n",
    "        #Vehicle.make=make\n",
    "        #Vehicle.__model=model\n",
    "        #Vehicle.__fuel=fuel\n",
    "        self.air_conditioning=air_conditioning\n",
    "        self.sunroof=sunroof\n",
    "    #def show_parent_attribute(self):\n",
    "       # print(Vehicle.make,\" \",Vehicle.__model,\" \",Vehicle.__fuel)\n",
    "    #def show_privatemethod_ofparent(self):\n",
    "        #self._Vehicle__private_method_parent()\n",
    "        \n",
    "myobj=Car(\"Tesla\",2019,\"Electric\",True,True)\n",
    "myobj.__dict__\n",
    "#myobj.show_parent_attribute()\n",
    "#myobj.make\n",
    "#myobj.model\n",
    "#myobj.__model\n",
    "#myobj.__private_method_parent()\n",
    "#myobj.show_privatemethod_ofparent()"
   ]
  },
  {
   "cell_type": "code",
   "execution_count": 19,
   "metadata": {},
   "outputs": [
    {
     "name": "stdout",
     "output_type": "stream",
     "text": [
      "This is private\n"
     ]
    }
   ],
   "source": [
    "myobj._Vehicle__private_method_parent()"
   ]
  },
  {
   "cell_type": "code",
   "execution_count": 1,
   "metadata": {},
   "outputs": [
    {
     "ename": "",
     "evalue": "",
     "output_type": "error",
     "traceback": [
      "\u001b[1;31mCanceled future for execute_request message before replies were done"
     ]
    },
    {
     "ename": "",
     "evalue": "",
     "output_type": "error",
     "traceback": [
      "\u001b[1;31mThe Kernel crashed while executing code in the the current cell or a previous cell. Please review the code in the cell(s) to identify a possible cause of the failure. Click <a href='https://aka.ms/vscodeJupyterKernelCrash'>here</a> for more info. View Jupyter <a href='command:jupyter.viewOutput'>log</a> for further details."
     ]
    }
   ],
   "source": [
    "#POLYMORPHISM\n",
    "class Vehicle:\n",
    "    def __init__(self,color):\n",
    "        self.color = color\n",
    "    def print(self):\n",
    "        print(c.color,end=\"\")\n",
    "class Car(Vehicle):\n",
    "    def __init__(self,color,numGears):\n",
    "        super().__init__(color)\n",
    "        self.numGears = numGears\n",
    "    def print(self):\n",
    "        self.print()\n",
    "        print(c.numGears)\n",
    "c = Car(\"black\",5)\n",
    "c.print()"
   ]
  },
  {
   "cell_type": "code",
   "execution_count": 2,
   "metadata": {},
   "outputs": [
    {
     "data": {
      "text/plain": [
       "(__main__.C,\n",
       " __main__.B,\n",
       " __main__.A,\n",
       " __main__.X,\n",
       " __main__.Y,\n",
       " __main__.Z,\n",
       " object)"
      ]
     },
     "execution_count": 2,
     "metadata": {},
     "output_type": "execute_result"
    }
   ],
   "source": [
    "class X: \n",
    "    pass\n",
    "class Y: \n",
    "    pass\n",
    "class Z:\n",
    "    pass\n",
    "class A(X,Y):\n",
    "    pass\n",
    "class B(Y,Z):\n",
    "    pass\n",
    "class C(B,A,Y):\n",
    "    pass\n",
    "\n",
    "C.__mro__"
   ]
  },
  {
   "cell_type": "code",
   "execution_count": 1,
   "metadata": {},
   "outputs": [
    {
     "name": "stdout",
     "output_type": "stream",
     "text": [
      "1\n",
      "2\n",
      "3\n",
      "4\n",
      "5\n",
      "6\n"
     ]
    }
   ],
   "source": [
    "l1 = [1,2,3,4,5,6]\n",
    "for i in l1:\n",
    "    print(i)\n"
   ]
  },
  {
   "cell_type": "markdown",
   "metadata": {},
   "source": [
    "Behind the scene, The for loop calls iter() func on container object.The function returns an iterator object that defines the method __next__() which accesses element in container one at a time. When there are no more elements, __next__() raises a StopIteration exception which tells the for loop to terminate."
   ]
  },
  {
   "cell_type": "code",
   "execution_count": 36,
   "metadata": {},
   "outputs": [
    {
     "data": {
      "text/plain": [
       "1"
      ]
     },
     "execution_count": 36,
     "metadata": {},
     "output_type": "execute_result"
    }
   ],
   "source": [
    "it = iter(l1)\n",
    "it\n"
   ]
  },
  {
   "cell_type": "code",
   "execution_count": 42,
   "metadata": {},
   "outputs": [
    {
     "ename": "StopIteration",
     "evalue": "",
     "output_type": "error",
     "traceback": [
      "\u001b[1;31m---------------------------------------------------------------------------\u001b[0m",
      "\u001b[1;31mStopIteration\u001b[0m                             Traceback (most recent call last)",
      "\u001b[1;32mc:\\Users\\Artophilic\\OneDrive\\Desktop\\Coding Ninjas Assignment\\OOPs.ipynb Cell 11\u001b[0m in \u001b[0;36m<cell line: 1>\u001b[1;34m()\u001b[0m\n\u001b[1;32m----> <a href='vscode-notebook-cell:/c%3A/Users/Artophilic/OneDrive/Desktop/Coding%20Ninjas%20Assignment/OOPs.ipynb#ch0000018?line=0'>1</a>\u001b[0m \u001b[39mnext\u001b[39;49m(it)\n",
      "\u001b[1;31mStopIteration\u001b[0m: "
     ]
    }
   ],
   "source": [
    "next(it)"
   ]
  },
  {
   "cell_type": "code",
   "execution_count": 26,
   "metadata": {},
   "outputs": [
    {
     "name": "stdout",
     "output_type": "stream",
     "text": [
      "xidar\n",
      "No it is not\n"
     ]
    }
   ],
   "source": [
    "class Reverse:\n",
    "    '''Iterator for looping over a sequence backwards'''\n",
    "    def __init__(self,data):\n",
    "        self.data = data\n",
    "        self.index = len(data)\n",
    "    \n",
    "    def __iter__(self):\n",
    "        return self\n",
    "    \n",
    "    def __next__(self):\n",
    "        if self.index == 0:\n",
    "            raise StopIteration\n",
    "        self.index = self.index - 1\n",
    "        return self.data[self.index]\n",
    "\n",
    "#Checking Palindrome\n",
    "s = input()\n",
    "rev = Reverse(s)\n",
    "iter(rev)\n",
    "re = ''\n",
    "for char in rev:\n",
    "    re = re + char\n",
    "print(re)   \n",
    "if re == s:\n",
    "    print('Yes it is palindrome')\n",
    "else:\n",
    "    print('No it is not')\n",
    "\n",
    "\n",
    "\n"
   ]
  },
  {
   "cell_type": "markdown",
   "metadata": {},
   "source": [
    "Generators\n",
    "A fuction which returns a generator iterator.It looks like a normal function except that it contains yield expression for producing a series of values usable in a for loop or can be retrieved one at a time with next() func"
   ]
  },
  {
   "cell_type": "code",
   "execution_count": 29,
   "metadata": {},
   "outputs": [
    {
     "data": {
      "text/plain": [
       "2666646666700000"
      ]
     },
     "execution_count": 29,
     "metadata": {},
     "output_type": "execute_result"
    }
   ],
   "source": [
    "n = int(input())\n",
    "sum(i*i for i in range(n))\n"
   ]
  },
  {
   "cell_type": "code",
   "execution_count": 30,
   "metadata": {},
   "outputs": [
    {
     "data": {
      "text/plain": [
       "425"
      ]
     },
     "execution_count": 30,
     "metadata": {},
     "output_type": "execute_result"
    }
   ],
   "source": [
    "#Dot product of vectors\n",
    "x = [10,23,45]\n",
    "y = [4,5,6]\n",
    "sum(xv*yv for xv,yv in zip(x,y))"
   ]
  },
  {
   "cell_type": "code",
   "execution_count": 31,
   "metadata": {},
   "outputs": [
    {
     "ename": "TypeError",
     "evalue": "Can't instantiate abstract class A with abstract methods fun1, fun2",
     "output_type": "error",
     "traceback": [
      "\u001b[1;31m---------------------------------------------------------------------------\u001b[0m",
      "\u001b[1;31mTypeError\u001b[0m                                 Traceback (most recent call last)",
      "\u001b[1;32mc:\\Users\\Artophilic\\OneDrive\\Desktop\\Coding Ninjas Assignment\\OOPs.ipynb Cell 15\u001b[0m in \u001b[0;36m<cell line: 13>\u001b[1;34m()\u001b[0m\n\u001b[0;32m      <a href='vscode-notebook-cell:/c%3A/Users/Artophilic/OneDrive/Desktop/Coding%20Ninjas%20Assignment/OOPs.ipynb#ch0000016?line=8'>9</a>\u001b[0m     \u001b[39m@abstractmethod\u001b[39m\n\u001b[0;32m     <a href='vscode-notebook-cell:/c%3A/Users/Artophilic/OneDrive/Desktop/Coding%20Ninjas%20Assignment/OOPs.ipynb#ch0000016?line=9'>10</a>\u001b[0m     \u001b[39mdef\u001b[39;00m \u001b[39mfun2\u001b[39m(\u001b[39mself\u001b[39m):\n\u001b[0;32m     <a href='vscode-notebook-cell:/c%3A/Users/Artophilic/OneDrive/Desktop/Coding%20Ninjas%20Assignment/OOPs.ipynb#ch0000016?line=10'>11</a>\u001b[0m         \u001b[39mpass\u001b[39;00m\n\u001b[1;32m---> <a href='vscode-notebook-cell:/c%3A/Users/Artophilic/OneDrive/Desktop/Coding%20Ninjas%20Assignment/OOPs.ipynb#ch0000016?line=12'>13</a>\u001b[0m o \u001b[39m=\u001b[39m A()\n\u001b[0;32m     <a href='vscode-notebook-cell:/c%3A/Users/Artophilic/OneDrive/Desktop/Coding%20Ninjas%20Assignment/OOPs.ipynb#ch0000016?line=13'>14</a>\u001b[0m o\u001b[39m.\u001b[39mfun1()\n",
      "\u001b[1;31mTypeError\u001b[0m: Can't instantiate abstract class A with abstract methods fun1, fun2"
     ]
    }
   ],
   "source": [
    "from abc import ABC,abstractmethod\n",
    "\n",
    "class A(ABC):\n",
    "\n",
    "    @abstractmethod\n",
    "    def fun1(self):\n",
    "        pass\n",
    "\n",
    "    @abstractmethod\n",
    "    def fun2(self):\n",
    "        pass\n",
    "\n",
    "o = A()\n",
    "o.fun1()"
   ]
  },
  {
   "cell_type": "code",
   "execution_count": 32,
   "metadata": {},
   "outputs": [
    {
     "ename": "TypeError",
     "evalue": "Can't instantiate abstract class B with abstract method fun2",
     "output_type": "error",
     "traceback": [
      "\u001b[1;31m---------------------------------------------------------------------------\u001b[0m",
      "\u001b[1;31mTypeError\u001b[0m                                 Traceback (most recent call last)",
      "\u001b[1;32mc:\\Users\\Artophilic\\OneDrive\\Desktop\\Coding Ninjas Assignment\\OOPs.ipynb Cell 16\u001b[0m in \u001b[0;36m<cell line: 17>\u001b[1;34m()\u001b[0m\n\u001b[0;32m     <a href='vscode-notebook-cell:/c%3A/Users/Artophilic/OneDrive/Desktop/Coding%20Ninjas%20Assignment/OOPs.ipynb#ch0000017?line=14'>15</a>\u001b[0m     \u001b[39mdef\u001b[39;00m \u001b[39mfun1\u001b[39m(\u001b[39mself\u001b[39m):\n\u001b[0;32m     <a href='vscode-notebook-cell:/c%3A/Users/Artophilic/OneDrive/Desktop/Coding%20Ninjas%20Assignment/OOPs.ipynb#ch0000017?line=15'>16</a>\u001b[0m         \u001b[39mprint\u001b[39m(\u001b[39m\"\u001b[39m\u001b[39mfunction 1 called\u001b[39m\u001b[39m\"\u001b[39m)\n\u001b[1;32m---> <a href='vscode-notebook-cell:/c%3A/Users/Artophilic/OneDrive/Desktop/Coding%20Ninjas%20Assignment/OOPs.ipynb#ch0000017?line=16'>17</a>\u001b[0m o \u001b[39m=\u001b[39m B()\n\u001b[0;32m     <a href='vscode-notebook-cell:/c%3A/Users/Artophilic/OneDrive/Desktop/Coding%20Ninjas%20Assignment/OOPs.ipynb#ch0000017?line=17'>18</a>\u001b[0m o\u001b[39m.\u001b[39mfun1()\n",
      "\u001b[1;31mTypeError\u001b[0m: Can't instantiate abstract class B with abstract method fun2"
     ]
    }
   ],
   "source": [
    "from abc import ABC,abstractmethod\n",
    "\n",
    "class A(ABC):\n",
    "\n",
    "    @abstractmethod\n",
    "    def fun1(self):\n",
    "        pass\n",
    "\n",
    "    @abstractmethod\n",
    "    def fun2(self):\n",
    "        pass\n",
    "\n",
    "class B(A):\n",
    "\n",
    "    def fun1(self):\n",
    "        print(\"function 1 called\")\n",
    "o = B()\n",
    "o.fun1()"
   ]
  },
  {
   "cell_type": "code",
   "execution_count": 44,
   "metadata": {},
   "outputs": [
    {
     "ename": "ZeroDivisionError",
     "evalue": "division by zero",
     "output_type": "error",
     "traceback": [
      "\u001b[1;31m---------------------------------------------------------------------------\u001b[0m",
      "\u001b[1;31mZeroDivisionError\u001b[0m                         Traceback (most recent call last)",
      "\u001b[1;32mc:\\Users\\Artophilic\\OneDrive\\Desktop\\Coding Ninjas Assignment\\OOPs.ipynb Cell 18\u001b[0m in \u001b[0;36m<cell line: 1>\u001b[1;34m()\u001b[0m\n\u001b[0;32m      <a href='vscode-notebook-cell:/c%3A/Users/Artophilic/OneDrive/Desktop/Coding%20Ninjas%20Assignment/OOPs.ipynb#ch0000020?line=1'>2</a>\u001b[0m     a \u001b[39m=\u001b[39m \u001b[39m10\u001b[39m\n\u001b[0;32m      <a href='vscode-notebook-cell:/c%3A/Users/Artophilic/OneDrive/Desktop/Coding%20Ninjas%20Assignment/OOPs.ipynb#ch0000020?line=2'>3</a>\u001b[0m     b \u001b[39m=\u001b[39m \u001b[39m0\u001b[39m\n\u001b[1;32m----> <a href='vscode-notebook-cell:/c%3A/Users/Artophilic/OneDrive/Desktop/Coding%20Ninjas%20Assignment/OOPs.ipynb#ch0000020?line=3'>4</a>\u001b[0m     c \u001b[39m=\u001b[39m a\u001b[39m/\u001b[39;49mb\n\u001b[0;32m      <a href='vscode-notebook-cell:/c%3A/Users/Artophilic/OneDrive/Desktop/Coding%20Ninjas%20Assignment/OOPs.ipynb#ch0000020?line=4'>5</a>\u001b[0m     \u001b[39mprint\u001b[39m(c)\n\u001b[0;32m      <a href='vscode-notebook-cell:/c%3A/Users/Artophilic/OneDrive/Desktop/Coding%20Ninjas%20Assignment/OOPs.ipynb#ch0000020?line=5'>6</a>\u001b[0m \u001b[39mexcept\u001b[39;00m \u001b[39mValueError\u001b[39;00m:\n",
      "\u001b[1;31mZeroDivisionError\u001b[0m: division by zero"
     ]
    }
   ],
   "source": [
    "try:\n",
    "    a = 10\n",
    "    b = 0\n",
    "    c = a/b\n",
    "    print(c)\n",
    "except ValueError:\n",
    "    print('E')"
   ]
  },
  {
   "cell_type": "code",
   "execution_count": 2,
   "metadata": {},
   "outputs": [
    {
     "name": "stdout",
     "output_type": "stream",
     "text": [
      "Zero Division Error occured\n"
     ]
    }
   ],
   "source": [
    "class ZeroDenominatorError(Exception):\n",
    "    pass\n",
    "try:\n",
    "    a = 10\n",
    "    b = 0\n",
    "    if(b==0):\n",
    "        raise ZeroDenominatorError() \n",
    "    c = a/b\n",
    "except ZeroDenominatorError:\n",
    "    print('Zero Division Error occured')"
   ]
  },
  {
   "cell_type": "code",
   "execution_count": 3,
   "metadata": {},
   "outputs": [
    {
     "name": "stdout",
     "output_type": "stream",
     "text": [
      "Zero Division Error occured\n"
     ]
    }
   ],
   "source": [
    "class ZeroDenominatorError(ZeroDivisionError):\n",
    "    pass\n",
    "try:\n",
    "    a = 10\n",
    "    b = 0\n",
    "    if(b==0):\n",
    "        raise ZeroDenominatorError()\n",
    "    c = a/b\n",
    "except ZeroDivisionError:\n",
    "    print('Zero Division Error occured')\n",
    "except ZeroDenominatorError:\n",
    "    print('Zero Denominator Error occured')"
   ]
  },
  {
   "cell_type": "code",
   "execution_count": 4,
   "metadata": {},
   "outputs": [
    {
     "name": "stdout",
     "output_type": "stream",
     "text": [
      "Zero Division Error occured"
     ]
    }
   ],
   "source": [
    "class ZeroDenominatorError(ZeroDivisionError):\n",
    "    pass\n",
    "try:\n",
    "    a = 10\n",
    "    b = 0\n",
    "    if(b==0):\n",
    "        raise ZeroDenominatorError()\n",
    "    c = a/b\n",
    "except ZeroDivisionError:\n",
    "    print('Zero Division Error occured',end= \"\")\n",
    "except ZeroDenominatorError:\n",
    "    print('Zero Denominator Error occured',end = \"\")\n",
    "else:\n",
    "    print(\"else works\")"
   ]
  },
  {
   "cell_type": "code",
   "execution_count": 16,
   "metadata": {},
   "outputs": [
    {
     "data": {
      "text/plain": [
       "300"
      ]
     },
     "execution_count": 16,
     "metadata": {},
     "output_type": "execute_result"
    }
   ],
   "source": [
    "class Car:\n",
    "    color = 'black'\n",
    "    def __init__(self,name,topSpeed):\n",
    "        self.name = name\n",
    "        self.topSpeed = topSpeed\n",
    "\n",
    "C1 = Car('Maruti',200)\n",
    "C2 = Car('Tesla',250)\n",
    "C1.name\n",
    "C2.name\n",
    "C1.topSpeed\n",
    "C2.topSpeed\n",
    "C1.color\n",
    "C1.topSpeed = 300   #We can update the value\n",
    "C1.topSpeed"
   ]
  },
  {
   "cell_type": "code",
   "execution_count": 23,
   "metadata": {},
   "outputs": [
    {
     "name": "stdout",
     "output_type": "stream",
     "text": [
      "Side 1 is 0\n",
      "Side 2 is 0\n",
      "Side 3 is 0\n",
      "Side 4 is 0\n"
     ]
    }
   ],
   "source": [
    "class Polygon:\n",
    "    def __init__(self, no_of_sides): #Constructor\n",
    "        self.n = no_of_sides\n",
    "        self.sides = [0 for i in range(no_of_sides)]\n",
    "    def inputSides(self): #Take user input for side lengths\n",
    "        self.sides=[int(input(\"Enter side: \"))for i in range(self.n)]\n",
    "    def displaySides(self): #Print the sides of the polygon\n",
    "        for i in range(self.n):\n",
    "            print(\"Side\",i+1,\"is\",self.sides[i])\n",
    "\n",
    "p = Polygon(4)\n",
    "p.sides\n",
    "p.displaySides()\n",
    "p.n\n",
    "p.inputSides()\n"
   ]
  },
  {
   "cell_type": "code",
   "execution_count": 27,
   "metadata": {},
   "outputs": [
    {
     "name": "stdout",
     "output_type": "stream",
     "text": [
      "Side 1 is 3\n",
      "Side 2 is 4\n",
      "Side 3 is 5\n",
      "Area of a triangle 6.0\n"
     ]
    }
   ],
   "source": [
    "class Triangle(Polygon):\n",
    "    def __init__(self):\n",
    "        Polygon.__init__(self,3)\n",
    "    def findArea(self):\n",
    "        a, b, c = self.sides\n",
    "        s = (a+b+c) / 2\n",
    "        area = (s*(s-a)*(s-b)*(s-c)) ** 0.5\n",
    "        print('Area of a triangle',area)\n",
    "\n",
    "t = Triangle()\n",
    "t.inputSides()\n",
    "t.displaySides()\n",
    "t.findArea()\n"
   ]
  },
  {
   "cell_type": "code",
   "execution_count": 29,
   "metadata": {},
   "outputs": [
    {
     "data": {
      "text/plain": [
       "485600.0"
      ]
     },
     "execution_count": 29,
     "metadata": {},
     "output_type": "execute_result"
    }
   ],
   "source": [
    "72840*80\n",
    "5827200/12"
   ]
  },
  {
   "cell_type": "code",
   "execution_count": 32,
   "metadata": {},
   "outputs": [
    {
     "name": "stdout",
     "output_type": "stream",
     "text": [
      "<__main__.Circle object at 0x000002C3328A1C60>\n"
     ]
    }
   ],
   "source": [
    "class Circle(object):\n",
    "    def __init__(self,radius):#Overriding the constructor\n",
    "        self.radius = radius\n",
    "c = Circle(4)\n",
    "print(c) #Invokes the default __str__ method\n",
    "#Below is the output of the default __str__() method"
   ]
  },
  {
   "cell_type": "code",
   "execution_count": 33,
   "metadata": {},
   "outputs": [
    {
     "name": "stdout",
     "output_type": "stream",
     "text": [
      "This is My circle\n"
     ]
    }
   ],
   "source": [
    "class Circle(object):\n",
    "    def __init__(self,radius):\n",
    "        self.radius = radius\n",
    "    def __str__(self): #Overriding the default __str__ method\n",
    "        return \"This is My circle\"\n",
    "c = Circle(4)\n",
    "print(c)\n",
    "#Here we have overriden the __str__() method"
   ]
  }
 ],
 "metadata": {
  "kernelspec": {
   "display_name": "Python 3.10.4 64-bit",
   "language": "python",
   "name": "python3"
  },
  "language_info": {
   "codemirror_mode": {
    "name": "ipython",
    "version": 3
   },
   "file_extension": ".py",
   "mimetype": "text/x-python",
   "name": "python",
   "nbconvert_exporter": "python",
   "pygments_lexer": "ipython3",
   "version": "3.10.4"
  },
  "orig_nbformat": 4,
  "vscode": {
   "interpreter": {
    "hash": "369f2c481f4da34e4445cda3fffd2e751bd1c4d706f27375911949ba6bb62e1c"
   }
  }
 },
 "nbformat": 4,
 "nbformat_minor": 2
}
