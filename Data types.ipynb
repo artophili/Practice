{
 "cells": [
  {
   "cell_type": "markdown",
   "id": "6d96265e",
   "metadata": {},
   "source": [
    "# DATA TYPES "
   ]
  },
  {
   "cell_type": "markdown",
   "id": "2a9d9cc8",
   "metadata": {},
   "source": [
    "List is a collection which is ordered and changeable. Allows duplicate members.\n",
    "Tuple is a collection which is ordered and unchangeable. Allows duplicate members.\n",
    "Set is a collection which is unordered, unchangeable*, and unindexed. No duplicate members.\n",
    "Dictionary is a collection which is ordered** and changeable. No duplicate members.\n",
    "\n",
    "LIST \n",
    "List is data type used to store multiple elements.It is a collection of elements\n",
    "In a list we can store heterogenous elements ie different types of elements at a time\n",
    "In Java and c++,We have a concept called ARRAY this is similar to list only but in array we can only store homogenous elements in it.\n",
    "This data type can be written as list of comma separated values between square brackets\n"
   ]
  },
  {
   "cell_type": "code",
   "execution_count": 1,
   "id": "d75a6f31",
   "metadata": {},
   "outputs": [
    {
     "data": {
      "text/plain": [
       "[1, 2, 3, 4, 5]"
      ]
     },
     "execution_count": 1,
     "metadata": {},
     "output_type": "execute_result"
    }
   ],
   "source": [
    "l1 = [1,2,3,4,5]\n",
    "l1"
   ]
  },
  {
   "cell_type": "code",
   "execution_count": null,
   "id": "c50df52d",
   "metadata": {},
   "outputs": [],
   "source": [
    "Like other data types list can be indexed or sliced according to indexing"
   ]
  },
  {
   "cell_type": "markdown",
   "id": "5b227e3e",
   "metadata": {},
   "source": [
    "print(l1[0])"
   ]
  },
  {
   "cell_type": "code",
   "execution_count": 2,
   "id": "512f89e3",
   "metadata": {},
   "outputs": [
    {
     "data": {
      "text/plain": [
       "1"
      ]
     },
     "execution_count": 2,
     "metadata": {},
     "output_type": "execute_result"
    }
   ],
   "source": [
    "l1[0]"
   ]
  },
  {
   "cell_type": "markdown",
   "id": "d3ce2e0b",
   "metadata": {},
   "source": [
    "We can make a shallow copy of our list as slicing creates a another copy of list of desired items"
   ]
  },
  {
   "cell_type": "code",
   "execution_count": 3,
   "id": "a0f8a422",
   "metadata": {},
   "outputs": [
    {
     "data": {
      "text/plain": [
       "[1, 2, 3, 4, 5]"
      ]
     },
     "execution_count": 3,
     "metadata": {},
     "output_type": "execute_result"
    }
   ],
   "source": [
    "l1[:]"
   ]
  },
  {
   "cell_type": "code",
   "execution_count": 4,
   "id": "c43d9b7b",
   "metadata": {},
   "outputs": [
    {
     "data": {
      "text/plain": [
       "1654761138752"
      ]
     },
     "execution_count": 4,
     "metadata": {},
     "output_type": "execute_result"
    }
   ],
   "source": [
    "id(l1)"
   ]
  },
  {
   "cell_type": "code",
   "execution_count": 5,
   "id": "3c6c56ed",
   "metadata": {},
   "outputs": [
    {
     "data": {
      "text/plain": [
       "1654760334592"
      ]
     },
     "execution_count": 5,
     "metadata": {},
     "output_type": "execute_result"
    }
   ],
   "source": [
    "id(l1[:])"
   ]
  },
  {
   "cell_type": "code",
   "execution_count": 6,
   "id": "8e357023",
   "metadata": {},
   "outputs": [
    {
     "data": {
      "text/plain": [
       "[1, 2, 3, 4, 5, 6, 7, 8, 9, 0]"
      ]
     },
     "execution_count": 6,
     "metadata": {},
     "output_type": "execute_result"
    }
   ],
   "source": [
    "l2 = [6,7,8,9,0]   #We can concatenate two lists by using '+' sign between them\n",
    "l1 + l2"
   ]
  },
  {
   "cell_type": "code",
   "execution_count": 7,
   "id": "79c3a520",
   "metadata": {},
   "outputs": [],
   "source": [
    "#List are mutable ie we can change the content of the list\n",
    "l1.append(10)"
   ]
  },
  {
   "cell_type": "code",
   "execution_count": 8,
   "id": "115ee975",
   "metadata": {
    "scrolled": true
   },
   "outputs": [
    {
     "data": {
      "text/plain": [
       "[1, 2, 3, 4, 5, 10]"
      ]
     },
     "execution_count": 8,
     "metadata": {},
     "output_type": "execute_result"
    }
   ],
   "source": [
    "l1"
   ]
  },
  {
   "cell_type": "code",
   "execution_count": 9,
   "id": "545fdb58",
   "metadata": {},
   "outputs": [
    {
     "data": {
      "text/plain": [
       "[1, 2, 89, 34, 5, 10]"
      ]
     },
     "execution_count": 9,
     "metadata": {},
     "output_type": "execute_result"
    }
   ],
   "source": [
    "#repalcing some values\n",
    "l1[2:4] = [89,34]\n",
    "l1"
   ]
  },
  {
   "cell_type": "code",
   "execution_count": 10,
   "id": "360e1cc5",
   "metadata": {},
   "outputs": [],
   "source": [
    "#Removing element\n",
    "l1[2:4] = []"
   ]
  },
  {
   "cell_type": "code",
   "execution_count": 11,
   "id": "9f002170",
   "metadata": {},
   "outputs": [
    {
     "data": {
      "text/plain": [
       "[1, 2, 5, 10]"
      ]
     },
     "execution_count": 11,
     "metadata": {},
     "output_type": "execute_result"
    }
   ],
   "source": [
    "l1"
   ]
  },
  {
   "cell_type": "code",
   "execution_count": 12,
   "id": "1e28b15a",
   "metadata": {},
   "outputs": [
    {
     "data": {
      "text/plain": [
       "[]"
      ]
     },
     "execution_count": 12,
     "metadata": {},
     "output_type": "execute_result"
    }
   ],
   "source": [
    "l1[:] = []\n",
    "l1"
   ]
  },
  {
   "cell_type": "code",
   "execution_count": null,
   "id": "b491148f",
   "metadata": {},
   "outputs": [],
   "source": [
    "#It is possible to nest list\n",
    "l1=[[1,2,3,4],[8,3,4,5,6]]\n",
    "l1"
   ]
  },
  {
   "cell_type": "markdown",
   "id": "85eb231b",
   "metadata": {},
   "source": [
    "l1"
   ]
  },
  {
   "cell_type": "code",
   "execution_count": null,
   "id": "90bb81bc",
   "metadata": {},
   "outputs": [],
   "source": [
    "#In python any non-zero integer is always true and zero is false"
   ]
  },
  {
   "cell_type": "code",
   "execution_count": null,
   "id": "0c763390",
   "metadata": {},
   "outputs": [],
   "source": [
    "#To insert an element in a list at a specific index we can use insert function "
   ]
  },
  {
   "cell_type": "code",
   "execution_count": null,
   "id": "30efcd23",
   "metadata": {},
   "outputs": [],
   "source": [
    "l1.insert(1,46)\n",
    "l1"
   ]
  },
  {
   "cell_type": "markdown",
   "id": "1220a848",
   "metadata": {},
   "source": [
    "STRINGS \n",
    "String is collection of characters which are stored in form of unicodes.\n",
    "It is represented between the single quotes or double quotes ie '' / \"\"\n",
    "Double triple single quotes or double quotes id used to type multi-line strings\n",
    "We can use indices to trace the string\n",
    "that is \n",
    "'Akshay'\n",
    " 012345\n",
    "-6-5-4-3-2-1    \n",
    "\n",
    "/n --> means end of line new line is started\n",
    "\n"
   ]
  },
  {
   "cell_type": "code",
   "execution_count": 3,
   "id": "4f991c50",
   "metadata": {},
   "outputs": [
    {
     "name": "stdout",
     "output_type": "stream",
     "text": [
      "Akshay\n",
      "A\n",
      "y\n",
      "Myself\n",
      "Akshay Rane\n"
     ]
    }
   ],
   "source": [
    "s = 'Akshay'\n",
    "print(s)\n",
    "print(s[0])\n",
    "print(s[-1])\n",
    "s1 = '''Myself\n",
    "Akshay Rane'''\n",
    "print(s1)"
   ]
  },
  {
   "cell_type": "markdown",
   "id": "01fcaf3a",
   "metadata": {},
   "source": [
    "Strings are immutable i.e we can't change the string once declared \n",
    "we can access the element by indexing"
   ]
  },
  {
   "cell_type": "code",
   "execution_count": 13,
   "id": "ec99cd65",
   "metadata": {},
   "outputs": [
    {
     "name": "stdout",
     "output_type": "stream",
     "text": [
      "akshayRane\n",
      "akshayRaneakshayRaneakshayRane\n",
      "yahska\n",
      "ed\n"
     ]
    }
   ],
   "source": [
    "#Concatenation of string \n",
    "a = 'akshay'\n",
    "a = a + 'Rane'   #'+' is used to concatenate two string\n",
    "print(a)\n",
    "a = a*3         #Same string will repeat for 3 times\n",
    "print(a)\n",
    "#We can't concatenate string and integer\n",
    "#for doing that first we have to convert the int in string by str()\n",
    "#function\n",
    "a = 'akshay'\n",
    "b = a[:-len(a)-1:-1]\n",
    "print(b)\n",
    "s = 'abcdef'\n",
    "print(s[4:2:-1])\n",
    "\n"
   ]
  },
  {
   "cell_type": "code",
   "execution_count": 54,
   "id": "e1f1a9ef",
   "metadata": {},
   "outputs": [
    {
     "name": "stdout",
     "output_type": "stream",
     "text": [
      "emocleW ot gnidoc sajnin "
     ]
    },
    {
     "data": {
      "text/plain": [
       "'for i in b:\\n    print(i)\\n    R = string.replace(i,i[::-1])\\n    print(R)\\nprint(R)'"
      ]
     },
     "execution_count": 54,
     "metadata": {},
     "output_type": "execute_result"
    }
   ],
   "source": [
    "string = 'Welcome to coding ninjas'\n",
    "b = string.split(' ')\n",
    "a = ''\n",
    "for i in range(len(b)):\n",
    "    print(b[i][::-1],end=' ')\n",
    "\n",
    "'''for i in b:\n",
    "    print(i)\n",
    "    R = string.replace(i,i[::-1])\n",
    "    print(R)\n",
    "print(R)'''\n",
    "\n",
    "\n",
    "\n",
    "\n",
    "\n"
   ]
  },
  {
   "cell_type": "code",
   "execution_count": 14,
   "id": "ade2e203",
   "metadata": {},
   "outputs": [
    {
     "name": "stdout",
     "output_type": "stream",
     "text": [
      "True\n"
     ]
    }
   ],
   "source": [
    "a = 'abce' >= 'abcdef'\n",
    "print(a)"
   ]
  },
  {
   "cell_type": "code",
   "execution_count": 48,
   "id": "e291f43e",
   "metadata": {},
   "outputs": [
    {
     "name": "stdout",
     "output_type": "stream",
     "text": [
      "[0, 0, 0, 0, 0, 0, 0, 0, 0, 0, 0, 0, 0, 0, 0, 0, 0, 0, 0, 0, 0, 0, 0, 0, 0, 0, 0, 0, 0, 0, 0, 0, 0, 0, 0, 0, 0, 0, 0, 0, 0, 0, 0, 0, 0, 0, 0, 0, 0, 0, 0, 0, 0, 0, 0, 0, 0, 0, 0, 0, 0, 0, 0, 0, 0, 0, 0, 0, 0, 0, 0, 0, 0, 0, 0, 0, 0, 0, 0, 0, 0, 0, 0, 0, 0, 0, 0, 0, 0, 0, 0, 0, 0, 0, 0, 0, 0, 2, 0, 0, 0, 0, 0, 0, 1, 0, 0, 1, 0, 0, 0, 0, 0, 0, 0, 1, 0, 0, 0, 0, 0, 1, 0, 0, 0, 0, 0, 0, 0, 0, 0, 0, 0, 0, 0, 0, 0, 0, 0, 0, 0, 0, 0, 0, 0, 0, 0, 0, 0, 0, 0, 0, 0, 0, 0, 0, 0, 0, 0, 0, 0, 0, 0, 0, 0, 0, 0, 0, 0, 0, 0, 0, 0, 0, 0, 0, 0, 0, 0, 0, 0, 0, 0, 0, 0, 0, 0, 0, 0, 0, 0, 0, 0, 0, 0, 0, 0, 0, 0, 0, 0, 0, 0, 0, 0, 0, 0, 0, 0, 0, 0, 0, 0, 0, 0, 0, 0, 0, 0, 0, 0, 0, 0, 0, 0, 0, 0, 0, 0, 0, 0, 0, 0, 0, 0, 0, 0, 0, 0, 0, 0, 0, 0, 0, 0, 0, 0, 0, 0, 0, 0, 0, 0, 0, 0]\n"
     ]
    }
   ],
   "source": [
    "string = 'akshay'\n",
    "l1 = []\n",
    "for i in range(255):\n",
    "    l1.append(0)\n",
    "for j in string:\n",
    "    order = ord(j)\n",
    "    l1[order] = l1[order] + 1\n",
    "print(l1)"
   ]
  },
  {
   "cell_type": "code",
   "execution_count": 49,
   "id": "03a14380",
   "metadata": {},
   "outputs": [
    {
     "name": "stdout",
     "output_type": "stream",
     "text": [
      "true\n"
     ]
    }
   ],
   "source": [
    "l1 = [1,2,3,4]\n",
    "l2 = [1,2,3,4]\n",
    "if l1 == l2:\n",
    "    print('true')\n",
    "else:\n",
    "    print('false')\n"
   ]
  },
  {
   "cell_type": "markdown",
   "id": "274e3652",
   "metadata": {},
   "source": [
    "TO CHECK PERMUTATION IN STRING\n",
    "Two strings are said to be a permutation of each other when either of the string's characters can be rearranged so that it becomes identical to the other one.\n",
    "\n",
    "Example: \n",
    "str1= \"sinrtg\" \n",
    "str2 = \"string\"\n",
    "\n",
    "The character of the first string(str1) can be rearranged to form str2 and hence we can say that the given strings are a permutation of each other."
   ]
  },
  {
   "cell_type": "code",
   "execution_count": null,
   "id": "2e765f0a",
   "metadata": {},
   "outputs": [],
   "source": [
    "def isPermutation(string1, string2) :\n",
    "    l1 = []\n",
    "    l2 = []\n",
    "    for p in range(255):\n",
    "        l2.append(0)\n",
    "    for i in range(255):\n",
    "        l1.append(0)\n",
    "    #frequecy array for string 1\n",
    "    for j in string1:\n",
    "        order = ord(j)\n",
    "        l1[order] = l1[order] + 1\n",
    "    #frequecy array for string 2\n",
    "    for k in string2:\n",
    "        order = ord(k)\n",
    "        l2[order] = l2[order] + 1\n",
    "    if len(string1) == len(string2):\n",
    "        if l1 == l2:\n",
    "            return True\n",
    "        else:\n",
    "            return False\n",
    "    else:\n",
    "        return False\n"
   ]
  },
  {
   "cell_type": "code",
   "execution_count": 51,
   "id": "2214b5da",
   "metadata": {},
   "outputs": [
    {
     "name": "stdout",
     "output_type": "stream",
     "text": [
      "['a', 'a', 'b', 'c', 'c', 'b', 'a', 'a']\n",
      "['b', 'c', 'c', 'b', 'a', 'a']\n"
     ]
    }
   ],
   "source": [
    "string = 'aabccbaa'\n",
    "ch = 'a'\n",
    "l1 = []\n",
    "for i in string:\n",
    "    l1.append(i)\n",
    "print(l1)\n",
    "for k in l1:\n",
    "    if k == ch:\n",
    "        l1.remove(k)\n",
    "    else:\n",
    "        continue\n",
    "print(l1)\n",
    "\n",
    "\n"
   ]
  },
  {
   "cell_type": "code",
   "execution_count": 53,
   "id": "1e09f49d",
   "metadata": {},
   "outputs": [
    {
     "data": {
      "text/plain": [
       "'codingninjas'"
      ]
     },
     "execution_count": 53,
     "metadata": {},
     "output_type": "execute_result"
    }
   ],
   "source": [
    "def removeAllOccurrencesOfChar(string, ch) :\n",
    "    count = string.count(ch)\n",
    "    l1 = list(string)\n",
    "    while count:\n",
    "        l1.remove(ch)\n",
    "        count -= 1\n",
    "    string = ''.join(l1)\n",
    "    return string\n",
    "string = 'cxoxdxixnxgxnxixnxjxaxsx'\n",
    "ch = 'x'\n",
    "removeAllOccurrencesOfChar(string,ch)"
   ]
  },
  {
   "cell_type": "code",
   "execution_count": 7,
   "id": "1f376468",
   "metadata": {},
   "outputs": [
    {
     "name": "stdout",
     "output_type": "stream",
     "text": [
      "4\n",
      "4\n",
      "4\n",
      "2\n",
      "2\n",
      "2\n",
      "2\n",
      "2\n",
      "2\n",
      "4\n",
      "[4, 4, 4, 2, 2, 2, 2, 2, 2, 4]\n",
      "4\n"
     ]
    }
   ],
   "source": [
    "string = 'aaabbccdda'\n",
    "l1 = list(string)\n",
    "l2 = []\n",
    "for i in l1:\n",
    "    count = l1.count(i)\n",
    "    print(count)\n",
    "    l2.append(count)\n",
    "print(l2)\n",
    "max_val = max(l2)\n",
    "print(max_val)\n",
    "\n",
    "\n",
    "\n",
    "\n",
    "    \n"
   ]
  },
  {
   "cell_type": "code",
   "execution_count": null,
   "id": "c9ddbd5a",
   "metadata": {},
   "outputs": [],
   "source": [
    "from sys import stdin\n",
    "def getCompressedString(input) :\n",
    "    i = 0\n",
    "    com_str = ''\n",
    "    n = len(input)\n",
    "    while i != n:\n",
    "        count = 1\n",
    "        while (i < n-1) and (input[i] == input[i+1]):\n",
    "            count += 1\n",
    "            i += 1\n",
    "        if count == 1:\n",
    "            com_str += str(input[i])\n",
    "        else:\n",
    "            com_str += str(input[i]) + str(count)\n",
    "        i += 1\n",
    "    return com_str\n",
    "\t# Write your code here.\n",
    "\n",
    "# Main.\n",
    "string = stdin.readline().strip();\n",
    "ans = getCompressedString(string)\n",
    "print(ans)"
   ]
  },
  {
   "cell_type": "code",
   "execution_count": null,
   "id": "b75b5e7a",
   "metadata": {},
   "outputs": [],
   "source": [
    "string = input()\n",
    "l1 = list(string)\n",
    "max = ''\n",
    "max_val = 0\n",
    "for i in l1:\n",
    "    count = 0\n",
    "    for k in range(len(string)):\n",
    "        if i == string[k]:\n",
    "                count += 1\n",
    "        if count > max_val:\n",
    "                max_val = count\n",
    "                max = i\n",
    "    \n",
    "print(i)"
   ]
  },
  {
   "cell_type": "code",
   "execution_count": null,
   "id": "dd874ee6",
   "metadata": {},
   "outputs": [],
   "source": [
    "l1 = list(string)\n",
    "l2 = []\n",
    "for i in l1:\n",
    "    count = l1.count(i)\n",
    "    l2.append(count)\n",
    "max_val = max(l2)\n",
    "for i in l1:\n",
    "    if l1.count(i) >= max_val:\n",
    "        print(i)"
   ]
  },
  {
   "cell_type": "code",
   "execution_count": null,
   "id": "f68c602a",
   "metadata": {},
   "outputs": [],
   "source": [
    "l1 = list(string)\n",
    "for i in l1:\n",
    "    if l1.count(i) > 1:\n",
    "        l1.remove(i)\n",
    "string = ''.join(l1)\n",
    "print(string)"
   ]
  },
  {
   "cell_type": "code",
   "execution_count": null,
   "id": "18dbea60",
   "metadata": {},
   "outputs": [],
   "source": [
    "def reverseEachWord(string) :\n",
    "    b = string.split(' ')\n",
    "    l1 = []\n",
    "    for i in range(len(b)):\n",
    "        rev = b[i][::-1]\n",
    "        l1.append(rev)\n",
    "    string = ' '.join(l1)\n",
    "    return string"
   ]
  },
  {
   "cell_type": "markdown",
   "id": "bfc10ae5",
   "metadata": {},
   "source": [
    "TWO DIMENSIONAL LIST  (List of lists)\n",
    "It have a structure like a chess board \n",
    "i.e 8 X 8 square board \n",
    "In that we can access the element as li[3][4] first bracket represent row index and the second bracket indicates column index "
   ]
  },
  {
   "cell_type": "code",
   "execution_count": 2,
   "id": "b743dbd3",
   "metadata": {},
   "outputs": [
    {
     "name": "stdout",
     "output_type": "stream",
     "text": [
      "[[1, 2, 3, 4], [5, 6, 7, 8], [9, 10, 11, 12], [13, 14, 15, 16]]\n"
     ]
    },
    {
     "data": {
      "text/plain": [
       "12"
      ]
     },
     "execution_count": 2,
     "metadata": {},
     "output_type": "execute_result"
    }
   ],
   "source": [
    "li = [[1,2,3,4],[5,6,7,8],[9,10,11,12],[13,14,15,16]]\n",
    "''' \n",
    "1 2 3 4\n",
    "5 6 7 8\n",
    "9 10 11 12\n",
    "13 14 15 16\n",
    "'''\n",
    "print(li)\n",
    "li[2][3]"
   ]
  },
  {
   "cell_type": "code",
   "execution_count": null,
   "id": "8ee7a20b",
   "metadata": {},
   "outputs": [],
   "source": [
    "\n",
    " # 2D array\n",
    "rows, cols = (5, 5)\n",
    "arr = [[0]*cols]*rows\n",
    "print(arr)\n",
    "\n",
    "rows, cols = (5, 5)\n",
    "arr = [[0 for i in range(cols)] for j in range(rows)]\n",
    "print(arr)"
   ]
  },
  {
   "cell_type": "markdown",
   "id": "c6c70258",
   "metadata": {},
   "source": [
    "Jagged list  ---> When column sizes are not same"
   ]
  },
  {
   "cell_type": "markdown",
   "id": "bca03919",
   "metadata": {},
   "source": [
    "LIST COMPREHENSION\n",
    "one liner code\n",
    "declare a new list and write a code in square bracket\n",
    "l1 = [output we want  FOR expression(multiple loop allowed)  extra   condition(if condition)]"
   ]
  },
  {
   "cell_type": "code",
   "execution_count": 4,
   "id": "845897dc",
   "metadata": {},
   "outputs": [
    {
     "name": "stdout",
     "output_type": "stream",
     "text": [
      "[1, 4, 9, 16]\n",
      "[4, 16]\n"
     ]
    }
   ],
   "source": [
    "l1 = [1,2,3,4]\n",
    "li_new = [i**2 for i in l1]\n",
    "li_even_square = [i**2 for i in l1 if i % 2 == 0]\n",
    "print(li_new)\n",
    "print(li_even_square)"
   ]
  },
  {
   "cell_type": "code",
   "execution_count": 5,
   "id": "8b39898b",
   "metadata": {},
   "outputs": [
    {
     "name": "stdout",
     "output_type": "stream",
     "text": [
      "[6]\n"
     ]
    }
   ],
   "source": [
    "l1 = [1,2,3,4,5,6,7,8,9]\n",
    "l1_new = [ele for ele in l1 if ele%2==0 and ele%3==0]\n",
    "print(l1_new)"
   ]
  },
  {
   "cell_type": "code",
   "execution_count": 8,
   "id": "ddcf6f6c",
   "metadata": {},
   "outputs": [],
   "source": [
    "l1 = [1,2,3,4,5,6]\n",
    "l1_re = [ele**2 if ele%2==0 else ele for ele in l1 ]\n",
    "#if we are using else statement as well \n",
    "#then first write condition and then are the for expression"
   ]
  },
  {
   "cell_type": "code",
   "execution_count": 9,
   "id": "56e0517c",
   "metadata": {},
   "outputs": [
    {
     "name": "stdout",
     "output_type": "stream",
     "text": [
      "1 5 7 2 3 6 4 2 5 5 4 4 "
     ]
    }
   ],
   "source": [
    "l1 = [[1,2,4,5],[5,3,2,4],[7,6,5,4]]\n",
    "for j in range(4):\n",
    "    for i in l1:\n",
    "        print(i[j],end =' ')\n"
   ]
  },
  {
   "cell_type": "markdown",
   "id": "3a6cd49e",
   "metadata": {},
   "source": [
    "Tuple,list,string have order \n",
    "so that we can use indexing\n",
    "difference between tuples and list\n",
    "lists are mutable \n",
    "but tuples are immutable i.e We can't change,delete,add,update elements\n",
    "\n",
    "TUPLE\n",
    "We can slice a Tuple and then access any required range of elements like in the case of the lists. \n",
    "In this case when a[1:] is called then it starts taking elements from index 1 till the last of the tuple\n",
    "\n",
    "A Tuple is immutable. We cannot change the elements of a Tuple once it is created.\n",
    "\n",
    "To find the maximum element in a tuple, the keyword used is max and for finding the minimum element, the keyword used is min. These keywords return the maximum and the minimum elements of the tuple, respectively.\n",
    "\n",
    "When multiple values are assigned to a variable separated by a comma. \n"
   ]
  },
  {
   "cell_type": "code",
   "execution_count": 15,
   "id": "a1dda565",
   "metadata": {},
   "outputs": [
    {
     "name": "stdout",
     "output_type": "stream",
     "text": [
      "(5, 6, 7, 8, 9, 1, 2, 3)\n",
      "5\n",
      "6\n",
      "7\n",
      "8\n",
      "9\n",
      "1\n",
      "2\n",
      "3\n",
      "(5, 6, 7, 8, 9, 1, 2, 3, 1, 2, 3)\n",
      "(1, 2, 3, 4)\n"
     ]
    }
   ],
   "source": [
    "a = 5,6,7,8,9,1,2,3\n",
    "'''When multiple values are assigned to a variable separated by a comma. \n",
    "Then the values are stored in the form of tuples.'''\n",
    "print(a)\n",
    "type(a)\n",
    "\n",
    "for i in a:\n",
    "    print(i)\n",
    "\n",
    "5 in a     #return True membership operator\n",
    "len(a)     #return length of tuple\n",
    "b = 1,2,3\n",
    "c = a + b  #concatenation of tuples\n",
    "print(c)\n",
    "d = (a,b) #Tuple of tuples\n",
    "\n",
    "e = a * 3   #Repetition\n",
    "\n",
    "min(a)   #Return minimum element if all the element are of same type i.e comparable\n",
    "max(a)  #Return maximum element if all the element are of same type i.e comparable\n",
    "\n",
    "#list to tuple\n",
    "list = [1,2,3,4]\n",
    "t = tuple(list)\n",
    "print(t)\n",
    "\n",
    "\n"
   ]
  },
  {
   "cell_type": "code",
   "execution_count": 2,
   "id": "2a3fae7f",
   "metadata": {},
   "outputs": [
    {
     "name": "stdout",
     "output_type": "stream",
     "text": [
      "(3, 4, 5, 6)\n"
     ]
    },
    {
     "data": {
      "text/plain": [
       "(21, -1, 2)"
      ]
     },
     "execution_count": 2,
     "metadata": {},
     "output_type": "execute_result"
    }
   ],
   "source": [
    "#Variable length input and output\n",
    "#*more is used to take variable-length input in the form of a single tuple.\n",
    "def sum(a,b,*more):      #  *variableName ---> This parameter accepts multiple values and consider it has a tuple\n",
    "    ans = a + b\n",
    "    print(more)\n",
    "    for i in more:\n",
    "        ans = ans + i\n",
    "    return ans,a - b,a * b     #Comma separated outputs are stored in a tuple\n",
    "sum(1,2,3,4,5,6)\n",
    "\n",
    "'''Following the conventional ways, we can return only a single value from any function. \n",
    "However, with the help of tuples, we can overcome this disadvantage. \n",
    "Tuples help us in returning multiple values from a single function. \n",
    "This can be done by returning comma-separated-values, from any function. \n",
    "On being returned, these comma-separated values act as a tuple. \n",
    "We can access the various entries from this returned tuple'''"
   ]
  },
  {
   "cell_type": "code",
   "execution_count": 11,
   "id": "8d3b3c07",
   "metadata": {},
   "outputs": [
    {
     "name": "stdout",
     "output_type": "stream",
     "text": [
      "{'a': 1, 'b': 2, 'c': 3, 'd': 4}\n",
      "{'a': 1, 'b': 2, 'c': 3, 'd': 4}\n",
      "{'a': 1, 'b': 2, 'c': 3}\n",
      "{1: None, 2: None, 3: None, 4: None, 5: None}\n",
      "5\n",
      "None\n",
      "7\n",
      "{1: 2, 'list': [1, 2, 3], 3: 7, 4: 5, 'l': 3}\n"
     ]
    }
   ],
   "source": [
    "# DICTIONARY \n",
    "# It is a collection of keys-value pairs\n",
    "D = {'a':1,'b':2,'c':3,'d':4}\n",
    "print(D)\n",
    "b = D.copy()\n",
    "print(b)\n",
    "C = dict([('a',1),('b',2),('c',3)])\n",
    "print(C)\n",
    "A = dict.fromkeys([1,2,3,4,5])\n",
    "print(A)\n",
    "#Dictionaries are mutable\n",
    "#We already know that the indexing in a dictionary is done with the keys from the various key-value pairs present within. \n",
    "# Thus to access any value we need to use its index i.e. its key.\n",
    "#To handle the key not present in the dictionary error, the get() function can be used.\n",
    "#  A very unique feature of this method is that in case the desired key is not present in the dictionary, it won’t throw an error or an exception. \n",
    "# It would simply return None.\n",
    "# It is changeble\n",
    "#Duplicates are not allowed\n",
    "# Dictionaries cannot have two items with the same key\n",
    "#From Python's perspective, dictionaries are defined as objects with the data type 'dict'\n",
    "\n",
    "\n",
    "d = {1:2,'abc':5,'def':7}\n",
    "print(d.get(0,5))\n",
    "#If the key is present in the dictionary then return the value corresponding to the key. \n",
    "# In case the key is not present, return a custom desired value ( say 0 ).\n",
    "#The “in” operator iterates only through the keys of the dictionary.\n",
    "d['Tuple'] = (1,2,3,4)\n",
    "a = {'t':(5,6,7)}\n",
    "s = a.update(b)\n",
    "print(s)\n",
    "d.pop(1)\n",
    "d.clear()\n",
    "\n",
    "d1 = {1:2,'list':[1,2,3],3:5}\n",
    "d2 = {4:5,3:7}\n",
    "d1.update(d2)\n",
    "print(d1[3])\n",
    "\n",
    "'''In order to delete an entry corresponding to any key in a dictionary, we can simply pop the key from the dictionary.\n",
    " The method used here is .pop().\n",
    " This method removes the key-value pair corresponding to any particular key and then returns the value of the removed key-value pair'''\n",
    "'''The “update” method is used to merge the contents of both the dictionaries and form a single dictionary out of it.\n",
    "  In this process, the second dictionary is unchanged and the contents of the second dictionary are copied into the first dictionary. The uncommon keys from the second dictionary are added to the first with their corresponding values. \n",
    " However, if these dictionaries have any common key, then the value of the common key present in the first dictionary is updated to the new value from the second.'''\n",
    "d1['l'] = 3\n",
    "print(d1)\n",
    "\n",
    "\n",
    "\n"
   ]
  },
  {
   "cell_type": "markdown",
   "id": "d2418b55",
   "metadata": {},
   "source": [
    "SET\n",
    "sets are collection of elements\n",
    "sets are unindxed, unchangeble, unordered\n",
    "To create an empty set we will do \n",
    "set()\n",
    "bcoz s = {}  will create a empty dictionary\n",
    "A set is created by using the set() function or placing all the elements within a pair of curly braces, separated by commas"
   ]
  },
  {
   "cell_type": "code",
   "execution_count": 14,
   "id": "db315088",
   "metadata": {},
   "outputs": [
    {
     "name": "stdout",
     "output_type": "stream",
     "text": [
      "Try again\n"
     ]
    }
   ],
   "source": [
    "guess = input()\n",
    "s = {'Akshay',2,3,4,5,'Karan','Vivek','ganesh'}\n",
    "re = s.pop()\n",
    "if guess == str(re):\n",
    "    print('Yes you guessed it right')\n",
    "else:\n",
    "    print('Try again')\n"
   ]
  },
  {
   "cell_type": "code",
   "execution_count": 19,
   "id": "5e0c9671",
   "metadata": {},
   "outputs": [
    {
     "data": {
      "text/plain": [
       "False"
      ]
     },
     "execution_count": 19,
     "metadata": {},
     "output_type": "execute_result"
    }
   ],
   "source": [
    "#Functions for sets\n",
    "a = {1,2,3,4}\n",
    "b = {3,4,5,6,7}\n",
    "c = {1,2}\n",
    "a.intersection(b)   # .intersection --> Gives the common values between two sets\n",
    "a.union(b)          #Returns union of two sets\n",
    "a.difference(b)     # returns values of a that are not in b\n",
    "b.difference(a)     #Returns values of b that are not in a\n",
    "a.symmetric_difference(b)   # This difference between union and intersection\n",
    "a.intersection_update(b)    #It actually updates a with intersection\n",
    "a.symmetric_difference_update(b)  #Works same as above\n",
    "a.issubset(b)\n",
    "c.issubset(a)\n",
    "\n"
   ]
  },
  {
   "cell_type": "code",
   "execution_count": 24,
   "id": "d8bfe650",
   "metadata": {},
   "outputs": [
    {
     "name": "stdout",
     "output_type": "stream",
     "text": [
      "{1, 2, 3, 5, 6, 9}\n",
      "26\n"
     ]
    }
   ],
   "source": [
    "# Adding unique elements from list\n",
    "l1 = []\n",
    "while True:\n",
    "    s = input()\n",
    "    if s == 'Q':\n",
    "        break\n",
    "    else:\n",
    "        l1.append(int(s))\n",
    "\n",
    "s = set(l1)\n",
    "print(s)\n",
    "sum = 0\n",
    "for i in s:\n",
    "    sum = sum + i\n",
    "print(sum)"
   ]
  },
  {
   "cell_type": "code",
   "execution_count": null,
   "id": "42fcdcf1",
   "metadata": {},
   "outputs": [],
   "source": [
    "def wavePrint(mat, nRows, mCols):\n",
    "    if nRows == 0:\n",
    "        return\n",
    "    for i in range(mCols):\n",
    "        if i % 2 == 0:\n",
    "            for j in mat:\n",
    "                print(j[i],end=' ')\n",
    "        else:\n",
    "            rev = mat[::-1]\n",
    "            for j in rev:\n",
    "                print(j[i],end=' ')\n"
   ]
  },
  {
   "cell_type": "code",
   "execution_count": null,
   "id": "3bdb6221",
   "metadata": {},
   "outputs": [],
   "source": [
    "def rowWiseSum(mat, nRows, mCols):\n",
    "    for k in mat:\n",
    "        sum = 0\n",
    "        for j in k:\n",
    "            sum = sum + int(j)\n",
    "        print(sum,end=' ')"
   ]
  },
  {
   "cell_type": "code",
   "execution_count": null,
   "id": "d75f52d1",
   "metadata": {},
   "outputs": [],
   "source": [
    "def getCompressedString(input) :\n",
    "    i = 0\n",
    "    com_str = ''\n",
    "    n = len(input)\n",
    "    while i != n:\n",
    "        count = 1\n",
    "        while (i < n-1) and (input[i] == input[i+1]):\n",
    "            count += 1\n",
    "            i += 1\n",
    "        if count == 1:\n",
    "            com_str += str(input[i])\n",
    "        else:\n",
    "            com_str += str(input[i]) + str(count)\n",
    "        i += 1\n",
    "    return com_str"
   ]
  },
  {
   "cell_type": "code",
   "execution_count": null,
   "id": "8437811e",
   "metadata": {},
   "outputs": [],
   "source": [
    "    s=set()\n",
    "    ma=0\n",
    "    me=0\n",
    "    l1=list(string)\n",
    "    c=0\n",
    "    for i in string:\n",
    "        if i not in s:\n",
    "            c=l1.count(i)\n",
    "            s.add(i)\n",
    "            #print(c,i)\n",
    "            if c>ma:\n",
    "                ma=c\n",
    "                me=i\n",
    "    return me"
   ]
  },
  {
   "cell_type": "code",
   "execution_count": null,
   "id": "5211653d",
   "metadata": {},
   "outputs": [],
   "source": [
    "def removeAllOccurrencesOfChar(string, ch) :\n",
    "    count = string.count(ch)\n",
    "    l1 = list(string)\n",
    "    while count:\n",
    "        l1.remove(ch)\n",
    "        count -= 1\n",
    "    string = ''.join(l1)\n",
    "    return string"
   ]
  },
  {
   "cell_type": "code",
   "execution_count": null,
   "id": "9270a82d",
   "metadata": {},
   "outputs": [],
   "source": [
    "def reverseEachWord(string) :\n",
    "    b = string.split(' ')\n",
    "    l1 = []\n",
    "    for i in range(len(b)):\n",
    "        rev = b[i][::-1]\n",
    "        l1.append(rev)\n",
    "    string = ' '.join(l1)\n",
    "    return string"
   ]
  },
  {
   "cell_type": "code",
   "execution_count": null,
   "id": "0d86bbee",
   "metadata": {},
   "outputs": [],
   "source": [
    "def removeConsecutiveDuplicates(string) :\n",
    "    n = len(string)\n",
    "    ans = ''\n",
    "    ans = ans + string[0]\n",
    "    first = string[0]\n",
    "    i = 0\n",
    "    while i < n:\n",
    "        char = string[i]\n",
    "        if char != first:\n",
    "            ans = ans + string[i]\n",
    "            first = string[i]\n",
    "        i += 1\n",
    "    return ans"
   ]
  },
  {
   "cell_type": "code",
   "execution_count": null,
   "id": "a1b4b377",
   "metadata": {},
   "outputs": [],
   "source": [
    "def isPermutation(string1, string2) :\n",
    "    l1 = []\n",
    "    l2 = []\n",
    "    for p in range(255):\n",
    "        l2.append(0)\n",
    "    for i in range(255):\n",
    "        l1.append(0)\n",
    "    #frequecy array for string 1\n",
    "    for j in string1:\n",
    "        order = ord(j)\n",
    "        l1[order] = l1[order] + 1\n",
    "    #frequecy array for string 2\n",
    "    for k in string2:\n",
    "        order = ord(k)\n",
    "        l2[order] = l2[order] + 1\n",
    "    if len(string1) == len(string2):\n",
    "        if l1 == l2:\n",
    "            return True\n",
    "        else:\n",
    "            return False\n",
    "    else:\n",
    "        return False"
   ]
  },
  {
   "cell_type": "code",
   "execution_count": null,
   "id": "2eea5777",
   "metadata": {},
   "outputs": [],
   "source": [
    "def sumOfTwoArrays(arr1, n, arr2, m, output) :\n",
    "    a1=\"\"\n",
    "    a2=\"\"\n",
    "    if arr1==[]:\n",
    "        a1=0\n",
    "    else:\n",
    "        for i in range(n):\n",
    "            a1+=str(arr1[i])\n",
    "    if arr2==[]:\n",
    "        a2=0\n",
    "    else:\n",
    "        for j in range(m):\n",
    "            a2+=str(arr2[j])\n",
    "    #print(a1,a2)\n",
    "    m1=int(a1)\n",
    "    m2=int(a2)\n",
    "    ans=m1+m2\n",
    "    #print(ans)\n",
    "    d=str(ans)\n",
    "    res=list(d)\n",
    "    #print(res)\n",
    "    for j in range(len(res)):\n",
    "        c=len(output)-len(res)\n",
    "        output[j+c]=res[j]"
   ]
  },
  {
   "cell_type": "code",
   "execution_count": null,
   "id": "911ece29",
   "metadata": {},
   "outputs": [],
   "source": [
    "def sort012(arr, n) :\n",
    "    n1 = arr.count(0)\n",
    "    n2 = arr.count(1)\n",
    "    n3 = arr.count(2)\n",
    "    arr[:] = []\n",
    "    i = 1\n",
    "    while i <= n1:\n",
    "        arr.append(0)\n",
    "        i += 1\n",
    "    j = 1\n",
    "    while j <= n2:\n",
    "        arr.append(1)\n",
    "        j += 1\n",
    "    k = 1\n",
    "    while k <= n3:\n",
    "        arr.append(2)\n",
    "        k += 1"
   ]
  },
  {
   "cell_type": "code",
   "execution_count": null,
   "id": "593d4b24",
   "metadata": {},
   "outputs": [],
   "source": [
    "def arrayRotateCheck(arr, n):\n",
    "    if len(arr)==0:\n",
    "        return 0\n",
    "    l1 = arr[:]\n",
    "    l1.sort()\n",
    "    a=l1[0]\n",
    "    ans=0\n",
    "    #print(l1,arr)\n",
    "    \n",
    "    for i in range(n):\n",
    "        if arr[i]==a:\n",
    "            return i"
   ]
  },
  {
   "cell_type": "code",
   "execution_count": null,
   "id": "54ad7bc1",
   "metadata": {},
   "outputs": [],
   "source": [
    "def secondLargestElement(arr, n):\n",
    "    arr.sort()\n",
    "    if arr==[]:\n",
    "        return -2147483648\n",
    "    elif arr.count(arr[0])==len(arr):\n",
    "        return -2147483648\n",
    "    elif len(arr)>1:\n",
    "        max_ind = 0\n",
    "        for i in range(1,n):\n",
    "            if arr[i] > arr[max_ind]:\n",
    "                max_ind = i\n",
    "        return arr[max_ind - 1]"
   ]
  },
  {
   "cell_type": "code",
   "execution_count": null,
   "id": "fbdd10a9",
   "metadata": {},
   "outputs": [],
   "source": [
    "def rotate(arr, n, d):\n",
    "    temp = arr[:]\n",
    "    arr[:] = []\n",
    "    for i in range(d,n):\n",
    "        arr.append(temp[i])\n",
    "    arr.extend(temp[:d])\n",
    "    return arr\n",
    "\n"
   ]
  },
  {
   "cell_type": "code",
   "execution_count": null,
   "id": "49d04b4f",
   "metadata": {},
   "outputs": [],
   "source": [
    "def pushZerosAtEnd(arr, n):\n",
    "    #Your code goes here\n",
    "    nonZero = 0\n",
    "    for i in range(n):\n",
    "        if arr[i] != 0:\n",
    "            temp = arr[i]\n",
    "            arr[i] = arr[nonZero]\n",
    "            arr[nonZero] = temp\n",
    "            nonZero += 1"
   ]
  },
  {
   "cell_type": "code",
   "execution_count": null,
   "id": "3de1a0bd",
   "metadata": {},
   "outputs": [],
   "source": [
    "def sortZeroesAndOne(arr, n) :\n",
    "    n1 = arr.count(0)\n",
    "    n2 = arr.count(1)\n",
    "    arr[:] = []\n",
    "    i = 1\n",
    "    while i <= n1:\n",
    "        arr.append(0)\n",
    "        i += 1\n",
    "    j = 1\n",
    "    while j <= n2:\n",
    "        arr.append(1)\n",
    "        j += 1"
   ]
  },
  {
   "cell_type": "code",
   "execution_count": null,
   "id": "8d99c46c",
   "metadata": {},
   "outputs": [],
   "source": [
    "def findTriplet(arr, n, x) :\n",
    "    count = 0\n",
    "    for i in range(0,n):\n",
    "        for j in range(i+1,n):\n",
    "            for k in range(j+1,n):\n",
    "                if arr[i] + arr[j] + arr[k] == x:\n",
    "                    count += 1\n",
    "                else:\n",
    "                    continue\n",
    "    return count"
   ]
  },
  {
   "cell_type": "code",
   "execution_count": null,
   "id": "83d2d10a",
   "metadata": {},
   "outputs": [],
   "source": [
    "def pairSum(arr, n, x) :\n",
    "    count = 0\n",
    "    for i in range(0,n):\n",
    "        for j in range(i+1,n):\n",
    "            if arr[i] + arr[j] == x:\n",
    "                count += 1\n",
    "            else:\n",
    "                continue\n",
    "    return count"
   ]
  },
  {
   "cell_type": "code",
   "execution_count": null,
   "id": "f5fb9bbd",
   "metadata": {},
   "outputs": [],
   "source": [
    "def intersections(arr1, n, arr2, m) :\n",
    "    for i in range(n):\n",
    "        for j in range(m):\n",
    "            if arr1[i] == arr2[j]:\n",
    "                print(arr1[i],end=' ')\n",
    "                arr2[j] = -1\n",
    "                break"
   ]
  },
  {
   "cell_type": "code",
   "execution_count": null,
   "id": "bc3e97d4",
   "metadata": {},
   "outputs": [],
   "source": [
    "\n",
    "def duplicateNumber(arr, n) :\n",
    "    for i in arr:\n",
    "        if arr.count(i) > 1:\n",
    "            return i\n",
    "            break"
   ]
  },
  {
   "cell_type": "code",
   "execution_count": null,
   "id": "93e37a9b",
   "metadata": {},
   "outputs": [],
   "source": [
    "def findUnique(arr, n) :\n",
    "    for i in arr:\n",
    "        if arr.count(i) <= 1:\n",
    "            return i\n",
    "            break"
   ]
  },
  {
   "cell_type": "code",
   "execution_count": null,
   "id": "66ca87f8",
   "metadata": {},
   "outputs": [],
   "source": [
    "def swapAlternate(arr,n):\n",
    "    if n % 2 == 0:\n",
    "        for i in range(0,n,2):\n",
    "            arr[i],arr[i+1] = arr[i+1],arr[i]\n",
    "    else:\n",
    "        for i in range(0,n-1,2):\n",
    "            arr[i],arr[i+1] = arr[i+1],arr[i]\n",
    "    return arr"
   ]
  },
  {
   "cell_type": "code",
   "execution_count": null,
   "id": "a07af90f",
   "metadata": {},
   "outputs": [],
   "source": [
    "n = int(input())\n",
    "s = input()\n",
    "sum = 0\n",
    "s_split = s.split()\n",
    "for i in s_split:\n",
    "    sum = sum + int(i)\n",
    "print(sum)"
   ]
  },
  {
   "cell_type": "code",
   "execution_count": 1,
   "id": "789f3906",
   "metadata": {},
   "outputs": [
    {
     "name": "stdout",
     "output_type": "stream",
     "text": [
      "['12', '13', '4', '6', '5']\n",
      "0 0\n",
      "0 1\n",
      "1 1\n",
      "1 2\n",
      "2 2\n",
      "2 3\n",
      "3 3\n",
      "3 4\n",
      "4 4\n",
      "6 5 "
     ]
    }
   ],
   "source": [
    "n = int(input())\n",
    "l1 = input().split()\n",
    "leader_ind = 0\n",
    "arr=[]\n",
    "print(l1)\n",
    "'''for i in range(n):\n",
    "    if int(l1[i]) > l1[leader_ind]:\n",
    "        leader_ind = i'''\n",
    "flag=True\n",
    "for i in range(n):\n",
    "    for j in range(i,n):\n",
    "        print(i,j)\n",
    "        if l1[j]>l1[i]:\n",
    "            flag=False\n",
    "            break\n",
    "    if flag:\n",
    "        arr.append(l1[i])\n",
    "    else:\n",
    "        flag=True\n",
    "for k in arr:\n",
    "    print(k,end=\" \")"
   ]
  }
 ],
 "metadata": {
  "kernelspec": {
   "display_name": "Python 3.10.4 64-bit",
   "language": "python",
   "name": "python3"
  },
  "language_info": {
   "codemirror_mode": {
    "name": "ipython",
    "version": 3
   },
   "file_extension": ".py",
   "mimetype": "text/x-python",
   "name": "python",
   "nbconvert_exporter": "python",
   "pygments_lexer": "ipython3",
   "version": "3.10.4"
  },
  "vscode": {
   "interpreter": {
    "hash": "369f2c481f4da34e4445cda3fffd2e751bd1c4d706f27375911949ba6bb62e1c"
   }
  }
 },
 "nbformat": 4,
 "nbformat_minor": 5
}
