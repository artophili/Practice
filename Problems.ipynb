{
 "cells": [
  {
   "cell_type": "markdown",
   "metadata": {},
   "source": [
    "Collatz sequence"
   ]
  },
  {
   "cell_type": "code",
   "execution_count": null,
   "metadata": {},
   "outputs": [],
   "source": [
    "def collatzSeq(num):\n",
    "    while num != 1:\n",
    "        print(num,end='')\n",
    "        if num % 2 == 0:\n",
    "            num = num // 2\n",
    "        else:\n",
    "            num = 3*num+1\n",
    "    print(num,end='')\n",
    "\n",
    "collatzSeq(6)\n"
   ]
  },
  {
   "cell_type": "markdown",
   "metadata": {},
   "source": [
    "Dynamic programming"
   ]
  },
  {
   "cell_type": "code",
   "execution_count": 29,
   "metadata": {},
   "outputs": [
    {
     "name": "stdout",
     "output_type": "stream",
     "text": [
      "12586269025\n"
     ]
    }
   ],
   "source": [
    "def Fib(n,l1):\n",
    "    if n == 0 or n == 1:\n",
    "        return n\n",
    "    if l1[n-1] == -1:\n",
    "        ans1 = Fib(n-1,l1)\n",
    "        l1[n-1] = ans1\n",
    "    else:\n",
    "        ans1 = l1[n-1]\n",
    "    \n",
    "    if l1[n-2] == -1:\n",
    "        ans2 = Fib(n-2,l1)\n",
    "        l1[n-2] = ans2\n",
    "    else:\n",
    "        ans2 = l1[n-2]\n",
    "    myAns = ans1 + ans2\n",
    "    return myAns\n",
    "\n",
    "\n",
    "def fib(n):\n",
    "    if n == 0 or n == 1:\n",
    "        return n\n",
    "    return fib(n-1) + fib(n-2)\n",
    "\n",
    "def fibI(n):\n",
    "    l1 = [0 for i in range(n+1)]\n",
    "    l1[0] = 0\n",
    "    l1[1] = 1\n",
    "    i = 2\n",
    "    while i <= n:\n",
    "        l1[i] = l1[i-1] + l1[i-2]\n",
    "        i += 1\n",
    "    return l1[n]\n",
    "\n",
    "n = int(input())\n",
    "l1 = []\n",
    "for i in range(n+1):\n",
    "    l1.append(-1)\n",
    "ans = Fib(n,l1)\n",
    "#ans2 = fib(n)\n",
    "#ansI = fibI(n)\n",
    "print(ans)\n",
    "#print(ans2)\n",
    "#print(ansI)"
   ]
  },
  {
   "cell_type": "code",
   "execution_count": 12,
   "metadata": {},
   "outputs": [
    {
     "name": "stdout",
     "output_type": "stream",
     "text": [
      "3\n"
     ]
    }
   ],
   "source": [
    "def longestSubSeq(arr):\n",
    "    dict = {}\n",
    "    for i in range(len(arr)):\n",
    "        dict[arr[i]] = 0\n",
    "    \n",
    "    for i in range(len(arr)):\n",
    "        for j in range(i+1,len(arr)):\n",
    "            if arr[j] >= arr[i]:\n",
    "                dict[arr[i]] = dict.get(arr[i],0) + 1\n",
    "            else:\n",
    "                continue\n",
    "    max = 0\n",
    "    for i in dict:\n",
    "        if dict[i] > max:\n",
    "            max = dict[i]\n",
    "    return 1 + max\n",
    "\n",
    "arr = [1,2,2]\n",
    "sub = longestSubSeq(arr)\n",
    "print(sub)"
   ]
  },
  {
   "cell_type": "code",
   "execution_count": 3,
   "metadata": {},
   "outputs": [
    {
     "name": "stdout",
     "output_type": "stream",
     "text": [
      "{0: 1, 1: 1, 2: 1, 3: 4, 4: 1, 5: 1, 6: 1}\n"
     ]
    }
   ],
   "source": [
    "arr=[0,1,2,3,3,3,3,4,5,6]\n",
    "dict = {}\n",
    "for i in range(len(arr)):\n",
    "    dict[arr[i]] = dict.get(arr[i],0) + 1\n",
    "\n",
    "print(dict)"
   ]
  },
  {
   "cell_type": "code",
   "execution_count": null,
   "metadata": {},
   "outputs": [],
   "source": [
    "def lis(li,i,n):\n",
    "    if i == n:\n",
    "        return 0,0\n",
    "    including_max = 1\n",
    "    for j in range(i+1,n):\n",
    "        if li[j] >= li[i]:\n",
    "            if dp[j] == -1:\n",
    "                ans = lis(li,j,n)\n",
    "                dp[j] = ans\n",
    "                further_including_max = ans[0]\n",
    "            else:\n",
    "                further_including_max = dp[j][0]\n",
    "            including_max = max(including_max,1+further_including_max)\n",
    "    if dp[i+1] == -1:\n",
    "        ans = lis(li,i+1,n)\n",
    "        dp[i+1] = ans\n",
    "        excluding_max = ans[1]\n",
    "    else:\n",
    "        excluding_max = dp[i+1][1]\n",
    "    overallMax = max(including_max,excluding_max)\n",
    "    return including_max,overallMax\n",
    "\n",
    "\n",
    "n = int(input())\n",
    "li = [int(ele) for ele in input().split]\n",
    "dp = [-1 for i in range(n+1)]\n",
    "ans = lis(li,0,n)[1]\n",
    "print(ans)"
   ]
  },
  {
   "cell_type": "code",
   "execution_count": 1,
   "metadata": {},
   "outputs": [
    {
     "name": "stdout",
     "output_type": "stream",
     "text": [
      "kshayrane\n"
     ]
    }
   ],
   "source": [
    "str = 'akshayrane'\n",
    "print(str[1:len(str)])"
   ]
  },
  {
   "cell_type": "code",
   "execution_count": 2,
   "metadata": {},
   "outputs": [],
   "source": [
    "def subsequences(string):\n",
    "    #Implement Your Code Here\n",
    "    if len(string) == 0:\n",
    "        return ['']\n",
    "    smallStr = string[1:len(string)]\n",
    "    smallOp = subsequences(smallStr)\n",
    "    output = smallOp\n",
    "    for i in smallOp:\n",
    "        re = string[0] + i\n",
    "        output.append(re)\n",
    "    return output\n",
    "\n",
    "string = input()\n",
    "ans = subsequences(string)\n",
    "for ele in ans:\n",
    "    print(ele)\n",
    "\n"
   ]
  },
  {
   "cell_type": "code",
   "execution_count": 8,
   "metadata": {},
   "outputs": [
    {
     "name": "stdout",
     "output_type": "stream",
     "text": [
      "['2', '3', '4']\n"
     ]
    },
    {
     "ename": "KeyError",
     "evalue": "'1'",
     "output_type": "error",
     "traceback": [
      "\u001b[1;31m---------------------------------------------------------------------------\u001b[0m",
      "\u001b[1;31mKeyError\u001b[0m                                  Traceback (most recent call last)",
      "\u001b[1;32mc:\\Users\\Artophilic\\OneDrive\\Desktop\\Coding Ninjas Assignment\\Problems\\Problems.ipynb Cell 10\u001b[0m in \u001b[0;36m<cell line: 8>\u001b[1;34m()\u001b[0m\n\u001b[0;32m      <a href='vscode-notebook-cell:/c%3A/Users/Artophilic/OneDrive/Desktop/Coding%20Ninjas%20Assignment/Problems/Problems.ipynb#X12sZmlsZQ%3D%3D?line=5'>6</a>\u001b[0m \u001b[39mprint\u001b[39m(l1[\u001b[39m1\u001b[39m:])\n\u001b[0;32m      <a href='vscode-notebook-cell:/c%3A/Users/Artophilic/OneDrive/Desktop/Coding%20Ninjas%20Assignment/Problems/Problems.ipynb#X12sZmlsZQ%3D%3D?line=6'>7</a>\u001b[0m \u001b[39mdict\u001b[39m \u001b[39m=\u001b[39m {\u001b[39m1\u001b[39m:\u001b[39m'\u001b[39m\u001b[39mdkwnwe\u001b[39m\u001b[39m'\u001b[39m, \u001b[39m2\u001b[39m:\u001b[39m\"\u001b[39m\u001b[39mncnfiewo\u001b[39m\u001b[39m\"\u001b[39m}\n\u001b[1;32m----> <a href='vscode-notebook-cell:/c%3A/Users/Artophilic/OneDrive/Desktop/Coding%20Ninjas%20Assignment/Problems/Problems.ipynb#X12sZmlsZQ%3D%3D?line=7'>8</a>\u001b[0m \u001b[39mprint\u001b[39m(\u001b[39mdict\u001b[39;49m[l1[\u001b[39m0\u001b[39;49m]])\n",
      "\u001b[1;31mKeyError\u001b[0m: '1'"
     ]
    }
   ],
   "source": [
    "n = 1234\n",
    "s = str(n)\n",
    "l1 = []\n",
    "for i in s:\n",
    "    l1.append(i)\n",
    "print(l1[1:])\n",
    "dict = {1:'dkwnwe', 2:\"ncnfiewo\"}\n",
    "print(dict[l1[0]])"
   ]
  },
  {
   "cell_type": "code",
   "execution_count": 9,
   "metadata": {},
   "outputs": [
    {
     "ename": "ValueError",
     "evalue": "invalid literal for int() with base 10: ''",
     "output_type": "error",
     "traceback": [
      "\u001b[1;31m---------------------------------------------------------------------------\u001b[0m",
      "\u001b[1;31mValueError\u001b[0m                                Traceback (most recent call last)",
      "\u001b[1;32mc:\\Users\\Artophilic\\OneDrive\\Desktop\\Coding Ninjas Assignment\\Problems\\Problems.ipynb Cell 11\u001b[0m in \u001b[0;36m<cell line: 46>\u001b[1;34m()\u001b[0m\n\u001b[0;32m     <a href='vscode-notebook-cell:/c%3A/Users/Artophilic/OneDrive/Desktop/Coding%20Ninjas%20Assignment/Problems/Problems.ipynb#X13sZmlsZQ%3D%3D?line=41'>42</a>\u001b[0m             output\u001b[39m.\u001b[39mappend(i\u001b[39m+\u001b[39mj)\n\u001b[0;32m     <a href='vscode-notebook-cell:/c%3A/Users/Artophilic/OneDrive/Desktop/Coding%20Ninjas%20Assignment/Problems/Problems.ipynb#X13sZmlsZQ%3D%3D?line=42'>43</a>\u001b[0m     \u001b[39mreturn\u001b[39;00m output\n\u001b[1;32m---> <a href='vscode-notebook-cell:/c%3A/Users/Artophilic/OneDrive/Desktop/Coding%20Ninjas%20Assignment/Problems/Problems.ipynb#X13sZmlsZQ%3D%3D?line=45'>46</a>\u001b[0m n \u001b[39m=\u001b[39m \u001b[39mint\u001b[39;49m(\u001b[39minput\u001b[39;49m())\n\u001b[0;32m     <a href='vscode-notebook-cell:/c%3A/Users/Artophilic/OneDrive/Desktop/Coding%20Ninjas%20Assignment/Problems/Problems.ipynb#X13sZmlsZQ%3D%3D?line=46'>47</a>\u001b[0m s \u001b[39m=\u001b[39m \u001b[39mstr\u001b[39m(n)\n\u001b[0;32m     <a href='vscode-notebook-cell:/c%3A/Users/Artophilic/OneDrive/Desktop/Coding%20Ninjas%20Assignment/Problems/Problems.ipynb#X13sZmlsZQ%3D%3D?line=47'>48</a>\u001b[0m l1 \u001b[39m=\u001b[39m []\n",
      "\u001b[1;31mValueError\u001b[0m: invalid literal for int() with base 10: ''"
     ]
    }
   ],
   "source": [
    "def subsequences(string):\n",
    "    if len(string) == 0:\n",
    "        output = []\n",
    "        output.append('')\n",
    "        return output\n",
    "    smallerString = string[1:]\n",
    "    smallerString = subsequences(smallerString)\n",
    "    output = []\n",
    "    for sub in smallerString:\n",
    "        output.append(sub)\n",
    "    for sub in smallerString:\n",
    "        output.append(string[0] + sub)\n",
    "    return output\n",
    "\n",
    "\n",
    "def keypad(l1):\n",
    "    if len(l1) == 1:\n",
    "        outputre = []\n",
    "        first = l1[0]\n",
    "        str = keys[int(first)]\n",
    "        out = subsequences(str)\n",
    "        return out\n",
    "\n",
    "    smallList = l1[1:]\n",
    "    smallerOutput = keypad(smallList)\n",
    "    output = []\n",
    "    zeroth_ele = l1[0]\n",
    "    str2 = keys[int(zeroth_ele)]\n",
    "    out2 = subsequences(str2)\n",
    "    req_arr = []\n",
    "    req = []\n",
    "    for i in smallerOutput:\n",
    "        if len(i) == 1:\n",
    "            req_arr.append(i)\n",
    "    \n",
    "    for i in out2:\n",
    "        if len(i) == 1:\n",
    "            req.append(i)\n",
    "\n",
    "    for i in req:\n",
    "        for j in req_arr:\n",
    "            output.append(i+j)\n",
    "    return output\n",
    "\n",
    "\n",
    "n = int(input())\n",
    "s = str(n)\n",
    "l1 = []\n",
    "for i in s:\n",
    "    l1.append(i)\n",
    "\n",
    "keys = {2:'abc', 3:'def', 4:'ghi', 5:'jkl', 6:'mno', 7:'pqrs', 8:'tuv', 9:'wxyz'}\n",
    "ans = keypad(l1)\n",
    "for s in ans:\n",
    "    print(s)\n"
   ]
  },
  {
   "cell_type": "code",
   "execution_count": 8,
   "metadata": {},
   "outputs": [
    {
     "data": {
      "text/plain": [
       "8"
      ]
     },
     "execution_count": 8,
     "metadata": {},
     "output_type": "execute_result"
    }
   ],
   "source": [
    "def fib(n):\n",
    "    if n == 0:\n",
    "        return 1\n",
    "    if n == 1:\n",
    "        return 1\n",
    "    return fib(n-1) + fib(n-2)\n",
    "\n",
    "n = 5\n",
    "fib(n)\n"
   ]
  },
  {
   "cell_type": "code",
   "execution_count": 16,
   "metadata": {},
   "outputs": [
    {
     "name": "stdout",
     "output_type": "stream",
     "text": [
      "120\n"
     ]
    },
    {
     "data": {
      "text/plain": [
       "120"
      ]
     },
     "execution_count": 16,
     "metadata": {},
     "output_type": "execute_result"
    }
   ],
   "source": [
    "def fact(n):\n",
    "    if n == 0:\n",
    "        return 1\n",
    "    if n == 1:\n",
    "        return 1\n",
    "    product = 1\n",
    "    while n != 1:\n",
    "        product = product * n\n",
    "        n -= 1\n",
    "    return product\n",
    "\n",
    "fact(5)"
   ]
  },
  {
   "cell_type": "code",
   "execution_count": 17,
   "metadata": {},
   "outputs": [
    {
     "name": "stdout",
     "output_type": "stream",
     "text": [
      "120\n"
     ]
    }
   ],
   "source": [
    "def printFact(n, ans):\n",
    "    if n == 0:\n",
    "        print(ans)\n",
    "        return\n",
    "    ans = ans * n\n",
    "    printFact(n-1, ans)\n",
    "\n",
    "printFact(5,1)"
   ]
  },
  {
   "cell_type": "code",
   "execution_count": 18,
   "metadata": {},
   "outputs": [
    {
     "name": "stdout",
     "output_type": "stream",
     "text": [
      "-1\n"
     ]
    }
   ],
   "source": [
    "def minList(l):\n",
    "    if len(l) == 1:\n",
    "        return l[0]\n",
    "    minSmallArray = minList(l[1:])\n",
    "    overallMin = min(minSmallArray, l[0])\n",
    "    return overallMin\n",
    "\n",
    "l = [0,3,2,4,1,5,3,-1]\n",
    "a = minList(l)\n",
    "print(a)"
   ]
  },
  {
   "cell_type": "code",
   "execution_count": 21,
   "metadata": {},
   "outputs": [
    {
     "name": "stdout",
     "output_type": "stream",
     "text": [
      "-1\n",
      "None\n"
     ]
    }
   ],
   "source": [
    "def printMin(l, minSoFar = 100000):\n",
    "    if len(l) == 0:\n",
    "        print(minSoFar)\n",
    "        return\n",
    "    newMin = min(minSoFar, l[0])\n",
    "    printMin(l[1:], newMin)\n",
    "l = [0,3,2,4,1,5,3,-1]\n",
    "a = printMin(l, minSoFar = 100000)\n",
    "print(a)\n"
   ]
  },
  {
   "cell_type": "code",
   "execution_count": 22,
   "metadata": {},
   "outputs": [
    {
     "name": "stdout",
     "output_type": "stream",
     "text": [
      "abc\n",
      "ab\n",
      "ac\n",
      "a\n",
      "bc\n",
      "b\n",
      "c\n",
      "\n"
     ]
    }
   ],
   "source": [
    "def SubSeq(s, out = ''):\n",
    "    if len(s) == 0:\n",
    "        print(out)\n",
    "        return\n",
    "    smallInp = s[1:]\n",
    "    inc_op = out + s[0]\n",
    "    exclu_op = out\n",
    "    SubSeq(smallInp, inc_op)\n",
    "    SubSeq(smallInp, exclu_op)\n",
    "\n",
    "s = 'abc'\n",
    "SubSeq(s)"
   ]
  },
  {
   "cell_type": "code",
   "execution_count": 3,
   "metadata": {},
   "outputs": [
    {
     "name": "stdout",
     "output_type": "stream",
     "text": [
      "1\n"
     ]
    }
   ],
   "source": [
    "l1 = [1,2,3,4]\n",
    "l2 = [5,6,7,8]\n",
    "l1 + l2\n",
    "print([1][0])"
   ]
  },
  {
   "cell_type": "code",
   "execution_count": 10,
   "metadata": {},
   "outputs": [
    {
     "name": "stdout",
     "output_type": "stream",
     "text": [
      "[[7], [3, 4], [2, 5], [1, 6], [1, 2, 4]]\n"
     ]
    }
   ],
   "source": [
    "def SubsetSumKHelper(arr,start, k):\n",
    "    if start == len(arr):\n",
    "        if k == 0 :\n",
    "            return [list()]\n",
    "        else:\n",
    "            return list()\n",
    "    smallOut1 = SubsetSumKHelper(arr,start+1,k)\n",
    "    smallOut2 = SubsetSumKHelper(arr, start+1, k-arr[start])\n",
    "    output = (len(smallOut1) + len(smallOut2)) * [0]\n",
    "\n",
    "    index = 0\n",
    "    for i in range(len(smallOut1)):\n",
    "        output[index] = smallOut1[i]\n",
    "        index += 1\n",
    "    for i in range(len(smallOut2)):\n",
    "        output[index] = (len(smallOut2[i]) + 1) * [0]\n",
    "        output[index][0] = arr[start]\n",
    "\n",
    "        for j in range(len(smallOut2[i])):\n",
    "            output[index][j+1] = smallOut2[i][j]\n",
    "        index += 1\n",
    "    return output\n",
    "\n",
    "def SubsetSumK(arr, k):\n",
    "    return SubsetSumKHelper(arr, 0, k)\n",
    "\n",
    "\n",
    "arr = [1,2,3,4,5,6,7,8,9]\n",
    "k = 7\n",
    "out = SubsetSumK(arr, k)\n",
    "print(out)"
   ]
  },
  {
   "cell_type": "code",
   "execution_count": 18,
   "metadata": {},
   "outputs": [
    {
     "name": "stdout",
     "output_type": "stream",
     "text": [
      "[7]\n"
     ]
    }
   ],
   "source": [
    "def Subsets(arr):\n",
    "    if len(arr) == 1:\n",
    "        return [arr[0]]\n",
    "    smallInp = arr[1:]\n",
    "    #include\n",
    "    out = Subsets(smallInp)\n",
    "    return out\n",
    "    \n",
    "arr = [1,2,3,4,5,6,7]\n",
    "out = Subsets(arr)\n",
    "print(out)"
   ]
  },
  {
   "cell_type": "code",
   "execution_count": 34,
   "metadata": {},
   "outputs": [
    {
     "name": "stdout",
     "output_type": "stream",
     "text": [
      "[[12, 20, 15], [20, 15], [12, 15], [15], [12, 20], [20], [12], []]\n"
     ]
    }
   ],
   "source": [
    "def subsets(arr):\n",
    "    if len(arr) == 0:\n",
    "        return [[]]\n",
    "    \n",
    "    #include 1st ele in subset\n",
    "    out1 = subsets(arr[1:])\n",
    "    for i in out1:\n",
    "        i.append(arr[0])\n",
    "    \n",
    "    #exclude 1st ele\n",
    "    out2 = subsets(arr[1:])\n",
    "    finalOut = out1 + out2\n",
    "    return finalOut\n",
    "\n",
    "arr = [15,20,12]\n",
    "out = subsets(arr)\n",
    "print(out)\n",
    "\n"
   ]
  },
  {
   "cell_type": "code",
   "execution_count": 39,
   "metadata": {},
   "outputs": [
    {
     "name": "stdout",
     "output_type": "stream",
     "text": [
      "[13, 50, 12]\n",
      "[50, 12]\n",
      "[13, 12]\n",
      "[12]\n",
      "[13, 50]\n",
      "[50]\n",
      "[13]\n",
      "[]\n"
     ]
    }
   ],
   "source": [
    "def subsetPrint(arr, subsetSoFar):\n",
    "    if len(arr) == 0:\n",
    "        print(subsetSoFar)\n",
    "        return\n",
    "    smallInp = arr[1:]\n",
    "    #include 1st ele\n",
    "    newsubsetSoFar = [arr[0]] + subsetSoFar\n",
    "    #exclude 1st ele\n",
    "    newsubsetSoFar2 = subsetSoFar\n",
    "    out1 = subsetPrint(smallInp, newsubsetSoFar)\n",
    "    out2 = subsetPrint(smallInp, newsubsetSoFar2)\n",
    "arr = [12, 50, 13]\n",
    "subsetPrint(arr, subsetSoFar = [])\n"
   ]
  },
  {
   "cell_type": "code",
   "execution_count": 27,
   "metadata": {},
   "outputs": [
    {
     "name": "stdout",
     "output_type": "stream",
     "text": [
      "[15, 12, 20]\n"
     ]
    }
   ],
   "source": [
    "arr = input().split()\n",
    "l1 = []\n",
    "for i in arr:\n",
    "    l1.append(int(i))\n",
    "print(l1)"
   ]
  },
  {
   "cell_type": "code",
   "execution_count": 32,
   "metadata": {},
   "outputs": [
    {
     "name": "stdout",
     "output_type": "stream",
     "text": [
      "cba\n",
      "ba\n",
      "ca\n",
      "a\n",
      "cb\n",
      "b\n",
      "c\n",
      "\n"
     ]
    }
   ],
   "source": [
    "def permt(str):\n",
    "    if len(str) == 0:\n",
    "        return [[]]\n",
    "    smallInp = str[1:]\n",
    "    #include 1st ele\n",
    "    out1 = permt(smallInp)\n",
    "    for i in out1:\n",
    "        i.append(str[0])\n",
    "    #exclude 1st ele\n",
    "    out2 = permt(smallInp)\n",
    "    finalOut = out1 + out2\n",
    "    return finalOut\n",
    "\n",
    "arr = 'abc'\n",
    "out = permt(arr)\n",
    "for i in out:\n",
    "    for j in i:\n",
    "        print(j, end='')\n",
    "    print()\n"
   ]
  },
  {
   "cell_type": "code",
   "execution_count": 33,
   "metadata": {},
   "outputs": [
    {
     "name": "stdout",
     "output_type": "stream",
     "text": [
      "['abc', 'acb', 'bac', 'bca', 'cba', 'cab']\n"
     ]
    }
   ],
   "source": [
    "res = []\n",
    "def permute(arr, i, len):\n",
    "    if i == len:\n",
    "        res.append(''.join(arr))\n",
    "    else:\n",
    "        for j in range(i, len):\n",
    "            arr[i], arr[j] = arr[j], arr[i]\n",
    "            permute(arr, i+1, len)\n",
    "            arr[i], arr[j] = arr[j], arr[i]\n",
    "str = input()\n",
    "permute(list(str), 0, len(str))\n",
    "print(res)          \n",
    "\n"
   ]
  },
  {
   "cell_type": "code",
   "execution_count": 5,
   "metadata": {},
   "outputs": [
    {
     "name": "stdout",
     "output_type": "stream",
     "text": [
      "0\n",
      "1\n",
      "2\n",
      "3\n",
      "4\n"
     ]
    }
   ],
   "source": [
    "import queue\n",
    "class graph:\n",
    "    def __init__(self,nVertices):\n",
    "        self.nVertices = nVertices\n",
    "        self.adjMatrix = [[0 for i in range(nVertices)] for j in range(nVertices)]\n",
    "    def addEdge(self,v1, v2):\n",
    "        self.adjMatrix[v1][v2] = 1\n",
    "        self.adjMatrix[v2][v1] = 1\n",
    "    \n",
    "    def removeEdge(self,v1,v2):\n",
    "        if containsEdge(v1,v2) is False:\n",
    "            return\n",
    "        self.adjMatrix[v1][v2] = 0\n",
    "        self.adjMatrix[v2][v1] = 0\n",
    "    \n",
    "    def containsEdge(self,v1,v2):\n",
    "        if self.adjMatrix[v1][v2] == 1:\n",
    "            return True\n",
    "        else:\n",
    "            return False\n",
    "    def printBFSHelper(self,sv,visited):\n",
    "        q = queue.Queue()\n",
    "        q.put(sv)\n",
    "        while not(q.empty()):\n",
    "            curr_ver = q.get()\n",
    "            visited[curr_ver] = True\n",
    "            print(curr_ver)\n",
    "            for i in range(self.nVertices):\n",
    "                if (self.adjMatrix[curr_ver][i]) > 0 and visited[i] is False:\n",
    "                    q.put(i)\n",
    "                    visited[i] = True\n",
    "        \n",
    "            \n",
    "\n",
    "\n",
    "    def printBFS(self,sv):\n",
    "        visited = [False for i in range(self.nVertices)]\n",
    "        self.printBFSHelper(sv,visited)\n",
    "\n",
    "\n",
    "        \n",
    "G = graph(5)\n",
    "G.addEdge(0,1)\n",
    "G.addEdge(0,4)\n",
    "G.addEdge(1,2)\n",
    "G.addEdge(2,0)\n",
    "G.addEdge(2,4)\n",
    "G.addEdge(3,0)\n",
    "G.addEdge(3,2)\n",
    "G.addEdge(4,3)\n",
    "G.printBFS(0)\n"
   ]
  }
 ],
 "metadata": {
  "kernelspec": {
   "display_name": "Python 3.9.12 ('base')",
   "language": "python",
   "name": "python3"
  },
  "language_info": {
   "codemirror_mode": {
    "name": "ipython",
    "version": 3
   },
   "file_extension": ".py",
   "mimetype": "text/x-python",
   "name": "python",
   "nbconvert_exporter": "python",
   "pygments_lexer": "ipython3",
   "version": "3.9.12"
  },
  "orig_nbformat": 4,
  "vscode": {
   "interpreter": {
    "hash": "2d1b678b02d9066f146e40126ed1f74208bb8775cae889907ad720e1118f4704"
   }
  }
 },
 "nbformat": 4,
 "nbformat_minor": 2
}
