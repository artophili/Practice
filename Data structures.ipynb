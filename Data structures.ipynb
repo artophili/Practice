{
 "cells": [
  {
   "cell_type": "code",
   "execution_count": null,
   "metadata": {},
   "outputs": [
    {
     "name": "stdout",
     "output_type": "stream",
     "text": [
      "13\n",
      "15\n",
      "15\n"
     ]
    }
   ],
   "source": [
    "class node:\n",
    "    def __init__(self,data):\n",
    "        self.data = data\n",
    "        self.next = None\n",
    "\n",
    "a = node(13)\n",
    "b = node(15)\n",
    "a.next = b\n",
    "print(a.data)\n",
    "print(b.data)\n",
    "print(a.next.data)  #a.next will direct us towards the ref of b and b.data will print the value store at b\n"
   ]
  },
  {
   "cell_type": "code",
   "execution_count": null,
   "metadata": {},
   "outputs": [
    {
     "name": "stdout",
     "output_type": "stream",
     "text": [
      "1->2->3->4->5->6->None\n"
     ]
    }
   ],
   "source": [
    "def printLL(head):\n",
    "    while head is not None:\n",
    "        print(str(head.data) + '->',end='')\n",
    "        head = head.next\n",
    "    print('None')\n",
    "    return\n",
    "\n",
    "def takeInput():\n",
    "    inputList = [int(ele) for ele in input().split()]\n",
    "    head = None\n",
    "    tail = None\n",
    "    count = 0\n",
    "    for curData in inputList:\n",
    "        if curData == -1:\n",
    "            break\n",
    "\n",
    "        newNode = node(curData)\n",
    "        if head is None:\n",
    "            head = newNode\n",
    "            tail = newNode\n",
    "        else:\n",
    "            tail.next = newNode\n",
    "            tail = newNode\n",
    "            count += 1\n",
    "    return head\n",
    "    return head\n",
    "\n",
    "head = takeInput()\n",
    "printLL(head)"
   ]
  },
  {
   "cell_type": "code",
   "execution_count": 4,
   "metadata": {},
   "outputs": [
    {
     "name": "stdout",
     "output_type": "stream",
     "text": [
      "11 21 "
     ]
    }
   ],
   "source": [
    "class Node:\n",
    "    def __init__(self, data):\n",
    "        self.data = data\n",
    "        self.next = None\n",
    "\n",
    "def printLL(head):\n",
    "    while head is not None:\n",
    "        print(head.data,end=\" \")\n",
    "        head = head.next\n",
    "\n",
    "def increment(head):\n",
    "     temp = head\n",
    "     while temp is not None:\n",
    "        temp.data +=1\n",
    "        temp = temp.next\n",
    "\n",
    "\n",
    "\n",
    "node1 = Node(10)\n",
    "node2 = Node(20)\n",
    "node1.next = node2\n",
    "increment(node1)\n",
    "printLL(node1)"
   ]
  },
  {
   "cell_type": "code",
   "execution_count": 1,
   "metadata": {},
   "outputs": [],
   "source": [
    "from sys import stdin\n",
    "\n",
    "#Following is the Node class already written for the Linked List\n",
    "class Node :\n",
    "    def __init__(self, data) :\n",
    "        self.data = data\n",
    "        self.next = None\n",
    "\n",
    "\n",
    "def length(head) :\n",
    "    temp = head\n",
    "    count = 0\n",
    "    while temp :\n",
    "        count += 1\n",
    "        temp = temp.next\n",
    "    return count\n",
    "    #Your code goes here\n",
    "\n",
    "\n",
    "\n",
    "#Taking Input Using Fast I/O\n",
    "def takeInput() :\n",
    "    head = None\n",
    "    tail = None\n",
    "\n",
    "    datas = list(map(int, stdin.readline().rstrip().split(\" \")))\n",
    "\n",
    "    i = 0\n",
    "    while (i < len(datas)) and (datas[i] != -1) :\n",
    "        data = datas[i]\n",
    "        newNode = Node(data)\n",
    "\n",
    "        if head is None :\n",
    "            head = newNode\n",
    "            tail = newNode\n",
    "\n",
    "        else :\n",
    "            tail.next = newNode\n",
    "            tail = newNode\n",
    "\n",
    "        i += 1\n",
    "\n",
    "    return head\n",
    "\n",
    "\n",
    "\n",
    "#to print the linked list \n",
    "def printLinkedList(head) :\n",
    "\n",
    "    while head is not None :\n",
    "        print(head.data, end = \" \")\n",
    "        head = head.next\n",
    "\n",
    "    print()\n",
    "\n",
    "\n",
    "\n",
    "#main\n",
    "t = int(stdin.readline().rstrip())\n",
    "\n",
    "while t > 0 :\n",
    "\n",
    "    head = takeInput()\n",
    "    print(length(head))\n",
    "\n",
    "    t -= 1"
   ]
  },
  {
   "cell_type": "code",
   "execution_count": null,
   "metadata": {},
   "outputs": [],
   "source": [
    "def deleteNodeRec(head, pos) :\n",
    "    if pos == 0:\n",
    "        if head is None:\n",
    "            return head\n",
    "        else:\n",
    "            head = head.next\n",
    "            return head\n",
    "    if pos < 0:\n",
    "        return head\n",
    "    if head is None:\n",
    "        return None\n",
    "    smallHead = deleteNodeRec(head.next,pos-1)\n",
    "    head.next = smallHead\n",
    "    return head"
   ]
  },
  {
   "cell_type": "code",
   "execution_count": null,
   "metadata": {},
   "outputs": [],
   "source": [
    "def length(head):\n",
    "    count = 0\n",
    "    if head == None:\n",
    "        return 0\n",
    "    else:\n",
    "        return 1 + length(head.next)\n",
    "\n",
    "\n",
    "def insertAtI(head,i,data):\n",
    "    if i < 0 or i > length(head):\n",
    "        return head\n",
    "    count = 0\n",
    "    prev = None\n",
    "    curr = head\n",
    "    while count < i:\n",
    "        prev = curr\n",
    "        curr = curr.next\n",
    "        count += 1\n",
    "\n",
    "    newNode = node(data)\n",
    "    if prev is not None:\n",
    "        prev.next = newNode\n",
    "    else:\n",
    "        head = newNode\n",
    "    newNode.next = curr  \n",
    "    return head \n",
    "\n",
    "def deleteNode(head, pos) :\n",
    "    if pos > length(head)-1:\n",
    "        return head\n",
    "    count = 0\n",
    "    prev = None\n",
    "    curr = head\n",
    "    while count < pos:\n",
    "        prev = curr\n",
    "        curr = curr.next\n",
    "        count += 1\n",
    "    if prev is None:\n",
    "        head = curr.next\n",
    "    else:\n",
    "        curr = curr.next\n",
    "        prev.next = curr\n",
    "    return head\n",
    "\n",
    "    \n",
    "\n",
    "\n",
    "head = takeInput()\n",
    "printLL(head)\n",
    "head = insertAtI(head,2,6)\n",
    "printLL(head)\n",
    "head = insertAtI(head,0,9)\n",
    "printLL(head)\n",
    "head = insertAtI(head,7,10)\n",
    "printLL(head)\n"
   ]
  },
  {
   "cell_type": "code",
   "execution_count": null,
   "metadata": {},
   "outputs": [],
   "source": [
    "def findNode(head, n) :\n",
    "    i = 0\n",
    "    while head is not None:\n",
    "        if head.data == n:\n",
    "            return i\n",
    "        \n",
    "        head = head.next\n",
    "        i += 1\n",
    "    return -1"
   ]
  },
  {
   "cell_type": "code",
   "execution_count": null,
   "metadata": {},
   "outputs": [],
   "source": [
    "def removeDuplicates(head) :\n",
    "    ele1 = None\n",
    "    ele2 = None\n",
    "    dup = None\n",
    "    ele1 = head\n",
    "    while ele1 is not None and ele1.next is not None:\n",
    "        ele2 = ele1\n",
    "        while ele2.next is not None:\n",
    "            if ele1.data == ele2.next.data:\n",
    "                dup = ele2.next\n",
    "                ele2.next = ele2.next.next\n",
    "            else:\n",
    "                ele2 = ele2.next\n",
    "        ele1 = ele1.next\n",
    "    return head\n",
    "    #Your code goes here"
   ]
  },
  {
   "cell_type": "code",
   "execution_count": null,
   "metadata": {},
   "outputs": [],
   "source": [
    "def reverseLL2(head):\n",
    "    if head is None or head.next is None:\n",
    "        return head,head\n",
    "    smallHead,smallTail = reverseLL2(head.next)\n",
    "    smallTail.next = head\n",
    "    head.next = None\n",
    "    return smallHead,head"
   ]
  },
  {
   "cell_type": "code",
   "execution_count": null,
   "metadata": {},
   "outputs": [],
   "source": [
    "def reverseLL3(head):\n",
    "    if head is None or head.next is None:\n",
    "        return head\n",
    "    smallHead = reverseLL3(head.next)\n",
    "    tail = head.next\n",
    "    tail.next = head\n",
    "    head.next = None\n",
    "    return smallHead"
   ]
  },
  {
   "cell_type": "code",
   "execution_count": null,
   "metadata": {},
   "outputs": [],
   "source": [
    "#Iterative solution \n",
    "def reverse(head):\n",
    "    prev = None\n",
    "    curr = head\n",
    "    while curr is not None:\n",
    "        next = curr.next\n",
    "        curr.next = prev\n",
    "        prev = curr\n",
    "        curr = next\n",
    "    head = prev\n",
    "    return head"
   ]
  },
  {
   "cell_type": "code",
   "execution_count": null,
   "metadata": {},
   "outputs": [],
   "source": [
    "def midPoint(head) :\n",
    "    # Write your code here\n",
    "    if head is None:\n",
    "        return head\n",
    "    slow = head\n",
    "    fast = head\n",
    "    while fast.next is not None and fast.next.next is not None:\n",
    "        slow = slow.next\n",
    "        fast = fast.next.next\n",
    "        \n",
    "    return slow"
   ]
  },
  {
   "cell_type": "code",
   "execution_count": null,
   "metadata": {},
   "outputs": [],
   "source": [
    "def mergeTwoSortedLinkedLists(head1, head2):\n",
    "    dummy = Node(0)\n",
    "    tail = dummy\n",
    "    while True:\n",
    "        if head1 is None:\n",
    "            tail.next = head2\n",
    "            break\n",
    "        \n",
    "        if head2 is None:\n",
    "            tail.next = head1\n",
    "            break\n",
    "            \n",
    "        if head1.data <= head2.data:\n",
    "            tail.next = head1\n",
    "            head1 = head1.next\n",
    "        else:\n",
    "            tail.next = head2\n",
    "            head2 = head2.next\n",
    "        \n",
    "        tail = tail.next\n",
    "        \n",
    "    return dummy.next"
   ]
  },
  {
   "cell_type": "code",
   "execution_count": null,
   "metadata": {},
   "outputs": [],
   "source": [
    "    # Write your code here\n",
    "def mergeLL(head1,head2):   \n",
    "    FH = None\n",
    "    FT = None\n",
    "    while head1 is not None and head2 is not None:\n",
    "        if head1.data > head2.data:\n",
    "            FT.next = head1\n",
    "            FT = FT.next\n",
    "            head1 = head1.next\n",
    "        else head1.data < head2.data :\n",
    "            FT.next = head2\n",
    "            FT = FT.next\n",
    "            head2 = head2.next\n",
    "        \n",
    "    if head1 is not None:\n",
    "        FT.next = head1\n",
    "    else:\n",
    "        FT.next = head2\n",
    "    \n",
    "    return FH"
   ]
  },
  {
   "cell_type": "code",
   "execution_count": null,
   "metadata": {},
   "outputs": [],
   "source": [
    "def mergeTwoSortedLinkedLists(head1, head2):\n",
    "    dummy = Node(0)\n",
    "    tail = dummy\n",
    "    while True:\n",
    "        if head1 is None:\n",
    "            tail.next = head2\n",
    "            break\n",
    "        \n",
    "        if head2 is None:\n",
    "            tail.next = head1\n",
    "            break\n",
    "            \n",
    "        if head1.data <= head2.data:\n",
    "            tail.next = head1\n",
    "            head1 = head1.next\n",
    "        else:\n",
    "            tail.next = head2\n",
    "            head2 = head2.next\n",
    "        \n",
    "        tail = tail.next\n",
    "        \n",
    "    return dummy.next\n",
    "            \n",
    "\n",
    "\n",
    "def mergeSort(head) :\n",
    "\t#Your code goes here\n",
    "    if head is None or head.next is None:\n",
    "        return head\n",
    "    \n",
    "    slow = head\n",
    "    fast = head\n",
    "    while fast.next is not None and fast.next.next is not None:\n",
    "        slow = slow.next\n",
    "        fast = fast.next.next\n",
    "    mid = slow\n",
    "\n",
    "    head1 = head\n",
    "    head2 = mid.next\n",
    "    mid.next = None\n",
    "    sorted_h1 = mergeSort(head1)\n",
    "    sorted_h2 = mergeSort(head2)\n",
    "    sorted_LL = mergeTwoSortedLinkedLists(sorted_h1,sorted_h2)\n",
    "    return sorted_LL"
   ]
  },
  {
   "cell_type": "code",
   "execution_count": null,
   "metadata": {},
   "outputs": [],
   "source": [
    "def length(head) :\n",
    "    temp = head\n",
    "    count = 0\n",
    "    while temp :\n",
    "        count += 1\n",
    "        temp = temp.next\n",
    "    return count\n",
    "\n",
    "def findNthNode(head, n):\n",
    "    l = length(head)\n",
    "    for j in range(n):\n",
    "        if j.data == n:\n",
    "            print(j)\n",
    "        head = head.next"
   ]
  },
  {
   "cell_type": "code",
   "execution_count": null,
   "metadata": {},
   "outputs": [],
   "source": [
    "def evenAfterOdd(head) :\n",
    "    if head is None:\n",
    "        return None\n",
    "    odd = head\n",
    "    even = head.next\n",
    "    evenFirst = even\n",
    "    while True:\n",
    "        if (odd is None) or (even is None) or (even.next is None):\n",
    "            odd.next = evenFirst\n",
    "            break\n",
    "        odd.next = even.next\n",
    "        odd = even.next\n",
    "        if odd.next is None:\n",
    "            even.next = None\n",
    "            odd.next = evenFirst\n",
    "            break\n",
    "        even.next = odd.next\n",
    "        even = odd.next\n",
    "    return head"
   ]
  },
  {
   "cell_type": "code",
   "execution_count": 2,
   "metadata": {},
   "outputs": [],
   "source": [
    "from sys import stdin\n",
    "class Node :\n",
    "    def __init__(self, data) :\n",
    "        self.data = data\n",
    "        self.next = None\n",
    "\n",
    "\n",
    "\n",
    "def skipMdeleteN(head, M, N) :\n",
    "    if head is None or head.next is None:\n",
    "        return None\n",
    "    if M == 0:\n",
    "        return\n",
    "        \n",
    "    prev = None\n",
    "    curr = head\n",
    "    for i in range(1,m+1):\n",
    "        prev = curr\n",
    "        curr = curr.next\n",
    "        if not curr:\n",
    "            return head\n",
    "    for i in range(1,n+1):\n",
    "        if curr:\n",
    "            next = curr.next\n",
    "            curr = next\n",
    "    prev.next = curr\n",
    "    skipMdeleteN(curr,m,n)\n",
    "    return head\n",
    "\t#Your code goes here\n",
    "\n",
    "\n",
    "#Taking Input Using Fast I/O\n",
    "def takeInput() :\n",
    "    head = None\n",
    "    tail = None\n",
    "\n",
    "    datas = list(map(int, stdin.readline().rstrip().split(\" \")))\n",
    "\n",
    "    i = 0\n",
    "    while (i < len(datas)) and (datas[i] != -1) :\n",
    "        data = datas[i]\n",
    "        newNode = Node(data)\n",
    "\n",
    "        if head is None :\n",
    "            head = newNode\n",
    "            tail = newNode\n",
    "\n",
    "        else :\n",
    "            tail.next = newNode\n",
    "            tail = newNode\n",
    "\n",
    "        i += 1\n",
    "\n",
    "    return head\n",
    "\n",
    "\n",
    "\n",
    "\n",
    "def printLinkedList(head) :\n",
    "\n",
    "    while head is not None :\n",
    "        print(head.data, end = \" \")\n",
    "        head = head.next\n",
    "\n",
    "    print()\n",
    "\n",
    "\n",
    "#main\n",
    "t = int(stdin.readline().rstrip())\n",
    "\n",
    "while t > 0 :\n",
    "    \n",
    "    head = takeInput()\n",
    "    m_n = stdin.readline().strip().split(\" \")\n",
    "\n",
    "    m = int(m_n[0])\n",
    "    n = int(m_n[1])\n",
    "\n",
    "    newHead = skipMdeleteN(head, m, n)\n",
    "    printLinkedList(newHead)\n",
    "\n",
    "    t -= 1"
   ]
  },
  {
   "cell_type": "code",
   "execution_count": null,
   "metadata": {},
   "outputs": [],
   "source": [
    "def printReverse(head) :\n",
    "    if head is None:\n",
    "        return True\n",
    "    fast = head\n",
    "    slow = head\n",
    "    while fast.next is not None and fast.next.next is not None:\n",
    "        fast = fast.next.next\n",
    "        slow = slow.next\n",
    "    secondHalf = slow.next\n",
    "    slow.next = None\n",
    "    prev = None\n",
    "    curr = secondHalf\n",
    "    nex = secondHalf\n",
    "    while curr is not None:\n",
    "        nex = nex.next\n",
    "        curr.next = prev\n",
    "        prev = curr\n",
    "        curr = nex\n",
    "    secondHalf = prev\n",
    "    while head is not None and secondHalf is not None:\n",
    "        if head.data is not secondHalf.data:\n",
    "            break\n",
    "        head = head.next\n",
    "        secondHalf = secondHalf.next\n",
    "    if (head is None or head.next is None) and secondHalf is None:\n",
    "        return True\n",
    "    \n",
    "    return False\n",
    "\n",
    "\n",
    "def isPalindrome(head) :\n",
    "    rev_head = printReverse(head)\n",
    "    if head == rev_head:\n",
    "        return 'true'\n",
    "    else:\n",
    "        return 'false'"
   ]
  },
  {
   "cell_type": "markdown",
   "metadata": {},
   "source": [
    "STACK"
   ]
  },
  {
   "cell_type": "code",
   "execution_count": 12,
   "metadata": {},
   "outputs": [
    {
     "name": "stdout",
     "output_type": "stream",
     "text": [
      "2\n",
      "6\n",
      "6\n",
      "6\n",
      "6\n"
     ]
    }
   ],
   "source": [
    "class stack:\n",
    "    def __init__(self):\n",
    "        self.__l1 = []\n",
    "    \n",
    "    def push(self,data):\n",
    "        self.__l1.append(data)\n",
    "    \n",
    "    def pop(self):\n",
    "        if self.isEmpty():\n",
    "            print('Hey!!Stack is empty')\n",
    "        return self.__l1.pop()\n",
    "    \n",
    "    def top(self):\n",
    "        if self.isEmpty():\n",
    "            print('Hey!Stack is empty')\n",
    "            return \n",
    "        return self.__l1[len(self.__l1)-1]\n",
    "    \n",
    "    def size(self):\n",
    "        return len(self.__l1)\n",
    "    \n",
    "    def isEmpty(self):\n",
    "        if len(self.__l1) == 0:\n",
    "            return True\n",
    "        else:\n",
    "            return False\n",
    "\n",
    "s1 = stack()\n"
   ]
  },
  {
   "cell_type": "code",
   "execution_count": null,
   "metadata": {},
   "outputs": [],
   "source": [
    "\n",
    "from sys import stdin\n",
    "\n",
    "#Following is the structure of the node class for a Singly Linked List\n",
    "class Node :\n",
    "\n",
    "    def __init__(self, data) :\n",
    "        self.data = data\n",
    "        self.next = None\n",
    "\n",
    "\n",
    "class Stack :\n",
    "    def __init__(self):\n",
    "        self.__head = None\n",
    "        self.__count = 0\n",
    "\n",
    "    #Define data members and __init__()\n",
    "\n",
    "\n",
    "\n",
    "\n",
    "    '''----------------- Public Functions of Stack -----------------'''\n",
    "\n",
    "\n",
    "    def getSize(self) :\n",
    "        return self.__count\n",
    "        #Implement the getSize() function\n",
    "\n",
    "\n",
    "\n",
    "    def isEmpty(self) :\n",
    "        if self.__count == 0:\n",
    "            return True\n",
    "        else:\n",
    "            return False\n",
    "        #Implement the isEmpty() function\n",
    "\n",
    "\n",
    "\n",
    "    def push(self, data) :\n",
    "        newNode = Node(data)\n",
    "        newNode.next = self.__head\n",
    "        self.__head = newNode\n",
    "        self.__count += 1\n",
    "        #Implement the push(element) function\n",
    "\n",
    "\n",
    "\n",
    "    def pop(self) :\n",
    "        if self.isEmpty() is True:\n",
    "            return -1\n",
    "        data = self.__head.data\n",
    "        self.__head = self.__head.next\n",
    "        self.__count = self.__count - 1\n",
    "        return data\n",
    "        #Implement the pop() function\n",
    "\n",
    "\n",
    "\n",
    "    def top(self) :\n",
    "        if self.isEmpty() is True:\n",
    "            return -1\n",
    "        data = self.__head.data\n",
    "        return data\n",
    "        #Implement the top() function\n",
    "        \n",
    "\n",
    "\n",
    "\n",
    "\n",
    "#main\n",
    "q = int(stdin.readline().strip())\n",
    "\n",
    "stack = Stack()\n",
    "\n",
    "while q > 0 :\n",
    "\n",
    "    inputs = stdin.readline().strip().split(\" \")\n",
    "    choice = int(inputs[0])\n",
    "\n",
    "    if choice == 1 :\n",
    "        data = int(inputs[1])\n",
    "        stack.push(data)\n",
    "\n",
    "    elif choice == 2 :\n",
    "        print(stack.pop())\n",
    "\n",
    "    elif choice == 3 :\n",
    "        print(stack.top())\n",
    "\n",
    "    elif choice == 4 : \n",
    "        print(stack.getSize())\n",
    "\n",
    "    else :\n",
    "        if stack.isEmpty() :\n",
    "            print(\"true\")\n",
    "        else :\n",
    "            print(\"false\")\n",
    "\n",
    "    q -= 1"
   ]
  },
  {
   "cell_type": "code",
   "execution_count": 19,
   "metadata": {},
   "outputs": [
    {
     "name": "stdout",
     "output_type": "stream",
     "text": [
      "1\n",
      "2\n",
      "3\n",
      "4\n",
      "5\n"
     ]
    }
   ],
   "source": [
    "class Queueusing2Stack :\n",
    "    def __init__(self):\n",
    "        self.l1 = []\n",
    "        self.l2 = []\n",
    "        self.__count = 0\n",
    "    \n",
    "    def put(self,ele):\n",
    "        self.l1.append(ele)\n",
    "        self.__count += 1\n",
    "    \n",
    "    def get(self):\n",
    "        while len(self.l1) != 1:\n",
    "            ele = self.l1.pop()\n",
    "            self.l2.append(ele)\n",
    "        firstEle = self.l1.pop()\n",
    "        while len(self.l2) != 0:\n",
    "            ele = self.l2.pop()\n",
    "            self.l1.append(ele)\n",
    "        self.__count -= 1\n",
    "        return firstEle\n",
    "\n",
    "    def size(self):\n",
    "        return self.__count\n",
    "        \n",
    "    def isEmpty(self):\n",
    "        if self.__count == 0:\n",
    "            return True\n",
    "        else:\n",
    "            return False\n",
    "\n",
    "q = Queueusing2Stack()\n",
    "q.put(1)\n",
    "q.put(2)\n",
    "q.put(3)\n",
    "q.put(4)\n",
    "q.put(5)\n",
    "l = q.size()\n",
    "while not q.isEmpty():\n",
    "    ele = q.get()\n",
    "    print(ele)\n"
   ]
  },
  {
   "cell_type": "code",
   "execution_count": null,
   "metadata": {},
   "outputs": [],
   "source": [
    "\n",
    "from sys import stdin\n",
    "import queue\n",
    "\n",
    "class Stack :\n",
    "    def __init__(self):\n",
    "        self.__q1 = queue.Queue()\n",
    "        self.__q2 = queue.Queue()\n",
    "        self.__count = 0\n",
    "        \n",
    "\n",
    "\t#Define data members and __init__()\n",
    "    def getSize(self) :\n",
    "        return self.__count\n",
    "    \n",
    "    \n",
    "    def isEmpty(self) :\n",
    "        if self.__count == 0:\n",
    "            return True\n",
    "        else:\n",
    "            return False\n",
    "    \n",
    "    \n",
    "    def push(self, data) :\n",
    "        self.__q1.put(data)\n",
    "        self.__count += 1\n",
    "\t\t#Implement the push(element) function\n",
    "    \n",
    "    \n",
    "    def pop(self) :\n",
    "        if self.__q1.empty():\n",
    "            return -1\n",
    "        for i in range(0,self.__q1.qsize()-1):\n",
    "            ele = self.__q1.get()\n",
    "            self.__q2.put(ele)\n",
    "        lastEle = self.__q1.get()\n",
    "        self.__count -= 1\n",
    "        while self.__q2.empty() is False:\n",
    "            ele = self.__q2.get()\n",
    "            self.__q1.put(ele)\n",
    "        return lastEle\n",
    "    \n",
    "\t\t#Implement the pop() function\n",
    "        \n",
    "    def top(self) :\n",
    "        if self.__q1.empty():\n",
    "            return -1\n",
    "        for i in range(0,self.__q1.qsize()-1):\n",
    "            ele = self.__q1.get()\n",
    "            self.__q2.put(ele)\n",
    "        lastEle = self.__q1.queue[0]\n",
    "        while self.__q2.empty() is False:\n",
    "            ele = self.__q2.get()\n",
    "            self.__q1.put(ele)\n",
    "        return lastEle\n",
    "\t\t#Implement the top() function\n",
    "\t\t"
   ]
  },
  {
   "cell_type": "markdown",
   "metadata": {},
   "source": [
    "TREE"
   ]
  },
  {
   "cell_type": "code",
   "execution_count": 7,
   "metadata": {},
   "outputs": [
    {
     "name": "stdout",
     "output_type": "stream",
     "text": [
      "1:L 2,R 3\n",
      "2:L 4,R 5\n",
      "4:L 6,\n",
      "6:\n",
      "5:\n",
      "3:R 7\n",
      "7:L 8,R 9\n",
      "8:\n",
      "9:\n"
     ]
    }
   ],
   "source": [
    "class binarytree:\n",
    "    def __init__(self,data):\n",
    "        self.data = data\n",
    "        self.left = None\n",
    "        self.right = None\n",
    "\n",
    "btn1 = binarytree(1)\n",
    "btn2 = binarytree(2)\n",
    "btn3 = binarytree(3)\n",
    "btn4 = binarytree(4)\n",
    "btn5 = binarytree(5)\n",
    "btn6 = binarytree(6)\n",
    "btn7 = binarytree(7)\n",
    "btn8 = binarytree(8)\n",
    "btn9 = binarytree(9)\n",
    "\n",
    "btn1.left = btn2\n",
    "btn1.right = btn3\n",
    "btn2.left = btn4\n",
    "btn2.right = btn5\n",
    "btn4.left = btn6\n",
    "btn3.right = btn7\n",
    "btn7.left = btn8\n",
    "btn7.right = btn9\n",
    "\n",
    "#printing tree\n",
    "def printTree(root):\n",
    "    if root == None:\n",
    "        return\n",
    "    print(root.data,end=':')\n",
    "    if root.left is not None:\n",
    "        print('L',root.left.data,end=',')\n",
    "    \n",
    "    if root.right is not None:\n",
    "        print('R',root.right.data,end='')\n",
    "    print()\n",
    "    printTree(root.left)\n",
    "    printTree(root.right)\n",
    "printTree(btn1)"
   ]
  },
  {
   "cell_type": "code",
   "execution_count": 11,
   "metadata": {},
   "outputs": [
    {
     "name": "stdout",
     "output_type": "stream",
     "text": [
      "1:L 2,R 3\n",
      "2:\n",
      "3:\n"
     ]
    }
   ],
   "source": [
    "def treeInput():\n",
    "    rootData = int(input())\n",
    "    if rootData == -1:\n",
    "        return None\n",
    "    root = binarytree(rootData)\n",
    "    leftTree = treeInput()\n",
    "    rightTree = treeInput()\n",
    "    root.left = leftTree\n",
    "    root.right = rightTree\n",
    "    return root\n",
    "\n",
    "root = treeInput()\n",
    "printTree(root)"
   ]
  },
  {
   "cell_type": "code",
   "execution_count": null,
   "metadata": {},
   "outputs": [],
   "source": [
    "def HeightTree(root):\n",
    "    if root == None:\n",
    "        return 0\n",
    "    lheight=HeightTree(root.left)\n",
    "    rheight=HeightTree(root.right)\n",
    "    return 1+max(lheight,rheight)\n",
    "\n"
   ]
  },
  {
   "cell_type": "code",
   "execution_count": null,
   "metadata": {},
   "outputs": [],
   "source": [
    "def LeafNode(root):\n",
    "    if node == None:\n",
    "        return 0\n",
    "    if root.left == None and root.right == None:\n",
    "        return 1\n",
    "    leftLeaf = LeafNode(root.left)\n",
    "    rightLeaf = LeafNode(root.right)\n",
    "    return leftLeaf + rightLeaf"
   ]
  },
  {
   "cell_type": "code",
   "execution_count": null,
   "metadata": {},
   "outputs": [],
   "source": [
    "def isNodePresent(root, x):\n",
    "    if root == None:\n",
    "        return False\n",
    "    \n",
    "    if root.data == x:\n",
    "        return True\n",
    "    isNodePresent(root.left,x)\n",
    "    isNodePresent(root.right,x)"
   ]
  },
  {
   "cell_type": "code",
   "execution_count": null,
   "metadata": {},
   "outputs": [],
   "source": [
    "def constructBST(lst):\n",
    "    n = len(lst)\n",
    "    if n == 0:\n",
    "        return None\n",
    "    if n % 2 == 0:\n",
    "        mid = (n//2) - 1\n",
    "        rootNode = BinaryTreeNode(lst[mid])\n",
    "        leftSide = constructBST(lst[:mid])\n",
    "        rightSide = constructBST(lst[mid+1:])\n",
    "        rootNode.left = leftSide\n",
    "        rootNode.right = rightSide\n",
    "    else:\n",
    "        mid = n // 2\n",
    "        rootNode = BinaryTreeNode(lst[mid])\n",
    "        leftSide = constructBST(lst[:mid])\n",
    "        rightSide = constructBST(lst[mid+1:])\n",
    "        rootNode.left = leftSide\n",
    "        rootNode.right = rightSide\n",
    "    return rootNode"
   ]
  },
  {
   "cell_type": "code",
   "execution_count": null,
   "metadata": {},
   "outputs": [],
   "source": [
    "''' if root == None:\n",
    "        return\n",
    "    \n",
    "    if root.left == None or root.right == None:\n",
    "        if root.left == None:\n",
    "            print(root.right.data)\n",
    "        else:\n",
    "            print(root.left.data)\n",
    "    printNodesWithoutSibling(root.left)\n",
    "    printNodesWithoutSibling(root.right)'''"
   ]
  },
  {
   "cell_type": "markdown",
   "metadata": {},
   "source": [
    "GENERIC TREE"
   ]
  },
  {
   "cell_type": "code",
   "execution_count": 4,
   "metadata": {},
   "outputs": [],
   "source": [
    "class TreeNode:\n",
    "    def  __init__(self,data):\n",
    "        self.data = data\n",
    "        self.children = list()\n",
    "        "
   ]
  },
  {
   "cell_type": "code",
   "execution_count": 3,
   "metadata": {},
   "outputs": [],
   "source": [
    "def printTree(root):\n",
    "    #This is not a base case, this is a edge case\n",
    "    if root == None:\n",
    "        return\n",
    "    print(root.data)\n",
    "    for child in root.children:\n",
    "        printTree(child)"
   ]
  },
  {
   "cell_type": "code",
   "execution_count": 2,
   "metadata": {},
   "outputs": [],
   "source": [
    "def printTreeDetailed(root):\n",
    "    if root == None:\n",
    "        return\n",
    "    print(root.data,':',end='')\n",
    "    for child in root.children:\n",
    "        print(child.data,',',end='')\n",
    "    print()\n",
    "    for child in root.children:\n",
    "        printTreeDetailed(child)"
   ]
  },
  {
   "cell_type": "code",
   "execution_count": 5,
   "metadata": {},
   "outputs": [],
   "source": [
    "def treeInput():\n",
    "    print('Enter root data')\n",
    "    rootData = int(input())\n",
    "    if rootData == -1:\n",
    "        return None\n",
    "    root = TreeNode(rootData)\n",
    "    print('How many children does', rootData ,'have')\n",
    "    childCount = int(input())\n",
    "    for i in range(childCount):\n",
    "        child = treeInput()\n",
    "        root.children.append(child)\n",
    "    return root\n"
   ]
  },
  {
   "cell_type": "code",
   "execution_count": 6,
   "metadata": {},
   "outputs": [
    {
     "name": "stdout",
     "output_type": "stream",
     "text": [
      "Enter root data\n",
      "Enter root data\n",
      "Enter root data\n",
      "Enter root data\n",
      "Enter root data\n",
      "Enter root data\n",
      "Enter root data\n",
      "Enter root data\n"
     ]
    }
   ],
   "source": [
    "root = treeInput()\n",
    "printTreeDetailed(root)"
   ]
  },
  {
   "cell_type": "markdown",
   "metadata": {},
   "source": [
    "DICTIONARIES"
   ]
  },
  {
   "cell_type": "code",
   "execution_count": 8,
   "metadata": {},
   "outputs": [
    {
     "name": "stdout",
     "output_type": "stream",
     "text": [
      "[3, 5]\n"
     ]
    }
   ],
   "source": [
    "a = {1:2,'list':[1,2],3:5}\n",
    "a.pop('list')\n",
    "a['list'] = [3,5]\n",
    "print(a['list'])"
   ]
  },
  {
   "cell_type": "code",
   "execution_count": 25,
   "metadata": {},
   "outputs": [],
   "source": [
    "s = str(input(\"Enter a string\"))"
   ]
  },
  {
   "cell_type": "code",
   "execution_count": 26,
   "metadata": {},
   "outputs": [],
   "source": [
    "words = s.split()"
   ]
  },
  {
   "cell_type": "code",
   "execution_count": 27,
   "metadata": {},
   "outputs": [
    {
     "data": {
      "text/plain": [
       "['This',\n",
       " 'is',\n",
       " 'is',\n",
       " 'a',\n",
       " 'string',\n",
       " 'with',\n",
       " 'many',\n",
       " 'many',\n",
       " 'words',\n",
       " 'that',\n",
       " 'have',\n",
       " 'many',\n",
       " 'letters',\n",
       " 'with',\n",
       " 'very',\n",
       " 'very',\n",
       " 'interesting',\n",
       " 'meaning']"
      ]
     },
     "execution_count": 27,
     "metadata": {},
     "output_type": "execute_result"
    }
   ],
   "source": [
    "words"
   ]
  },
  {
   "cell_type": "code",
   "execution_count": 28,
   "metadata": {},
   "outputs": [
    {
     "data": {
      "text/plain": [
       "{'This': 1,\n",
       " 'is': 2,\n",
       " 'a': 1,\n",
       " 'string': 1,\n",
       " 'with': 2,\n",
       " 'many': 3,\n",
       " 'words': 1,\n",
       " 'that': 1,\n",
       " 'have': 1,\n",
       " 'letters': 1,\n",
       " 'very': 2,\n",
       " 'interesting': 1,\n",
       " 'meaning': 1}"
      ]
     },
     "execution_count": 28,
     "metadata": {},
     "output_type": "execute_result"
    }
   ],
   "source": [
    "d = {}\n",
    "for w in words:\n",
    "    if w in d:\n",
    "        d[w] = d[w] + 1\n",
    "    else:\n",
    "        d[w] = 1\n",
    "d"
   ]
  },
  {
   "cell_type": "code",
   "execution_count": 29,
   "metadata": {},
   "outputs": [],
   "source": [
    "d = {}\n",
    "for w in words:\n",
    "    d[w] = d.get(w, 0) + 1\n"
   ]
  },
  {
   "cell_type": "code",
   "execution_count": 30,
   "metadata": {},
   "outputs": [
    {
     "name": "stdout",
     "output_type": "stream",
     "text": [
      "3\n",
      "many\n"
     ]
    }
   ],
   "source": [
    "max = 0\n",
    "for i in d.values():\n",
    "    if i > max:\n",
    "        max = i\n",
    "print(max)\n",
    "for i in d.keys():\n",
    "    if d[i] == max:\n",
    "        print(i)\n",
    "\n"
   ]
  },
  {
   "cell_type": "markdown",
   "metadata": {},
   "source": [
    "HASHMAP"
   ]
  },
  {
   "cell_type": "code",
   "execution_count": 13,
   "metadata": {},
   "outputs": [
    {
     "name": "stdout",
     "output_type": "stream",
     "text": [
      "1\n",
      "2\n",
      "2\n",
      "5\n",
      "None\n",
      "1\n"
     ]
    }
   ],
   "source": [
    "from unittest.mock import NonCallableMagicMock\n",
    "\n",
    "\n",
    "class MapNode:\n",
    "    def __init__(self,key,value):\n",
    "        self.key = key\n",
    "        self.value = value\n",
    "        self.next = None\n",
    "\n",
    "class Map:\n",
    "\n",
    "    def __init__(self):\n",
    "        self.bucketSize = 10\n",
    "        self.buckets = [None for i in range(self.bucketSize)]\n",
    "        self.count = 0\n",
    "    \n",
    "    def size(self):\n",
    "        return self.count\n",
    "    \n",
    "    def getBucketIndex(self,hc):         # Compression function\n",
    "        return (abs(hc) % (self.bucketSize))\n",
    "    \n",
    "    def rehash(self):\n",
    "        temp = self.buckets\n",
    "        self.buckets = [None for i in range(2*self.bucketSize)]\n",
    "        self.bucketSize = 2*self.bucketSize\n",
    "        self.count = 0\n",
    "        for head in temp:\n",
    "            while head is not None:\n",
    "                self.insert(head.key,head.value)\n",
    "                head = head.next\n",
    "\n",
    "\n",
    "    def insert(self,key,value):\n",
    "        hc = hash(key)\n",
    "        index = self.getBucketIndex(hc)\n",
    "        head = self.buckets[index]\n",
    "        while head is not None:\n",
    "            if head.key == key:\n",
    "                head.value = value\n",
    "                return\n",
    "            head = head.next\n",
    "        head = self.buckets[index]\n",
    "        newNode = MapNode(key,value)\n",
    "        newNode.next = head\n",
    "        self.buckets[index] = newNode\n",
    "        self.count += 1\n",
    "        loadFactor = self.count/self.bucketSize\n",
    "        if loadFactor > 0.7:\n",
    "            self.rehash()\n",
    "\n",
    "    def searchKey(self,key):\n",
    "        hc = hash(key)\n",
    "        index = self.getBucketIndex(hc)\n",
    "        head = self.buckets[index]\n",
    "        while head is not None:\n",
    "            if head.key == key:\n",
    "                return head.value\n",
    "            head = head.next\n",
    "        return None\n",
    "    \n",
    "    def removeKey(self,key):\n",
    "        hc = hash(key)\n",
    "        index = self.getBucketIndex(hc)\n",
    "        head = self.buckets[index]\n",
    "        prev = None\n",
    "        while head is not None:\n",
    "            if head.key == key:\n",
    "                if prev is None:\n",
    "                    self.buckets[index] = head.next\n",
    "                else:\n",
    "                    prev.next = head.next\n",
    "                self.count -= 1\n",
    "                return head.value\n",
    "            \n",
    "            prev = head\n",
    "            head = head.next\n",
    "        return None\n",
    "\n",
    "    \n",
    "\n",
    "\n",
    "m = Map()\n",
    "m.insert('a',1)\n",
    "print(m.size())\n",
    "m.insert('b',2)\n",
    "print(m.size())\n",
    "m.insert('a',5)\n",
    "print(m.size())\n",
    "print(m.searchKey('a'))\n",
    "m.removeKey('a')\n",
    "print(m.searchKey('a'))\n",
    "print(m.size())"
   ]
  },
  {
   "cell_type": "code",
   "execution_count": 1,
   "metadata": {},
   "outputs": [
    {
     "name": "stdout",
     "output_type": "stream",
     "text": [
      "{9: 13, 8: 12, 7: 11, 6: 3, 5: 2, 4: 1, 2: 7, 3: 4, 1: 0}\n"
     ]
    }
   ],
   "source": [
    "l = [1,4,5,6,3,4,5,2,4,5,6,7,8,9]\n",
    "m = {l[i]:i for i in range(len(l)-1,-1,-1)}\n",
    "print(m)"
   ]
  },
  {
   "cell_type": "code",
   "execution_count": 2,
   "metadata": {},
   "outputs": [
    {
     "name": "stdout",
     "output_type": "stream",
     "text": [
      "hello\n",
      "hello\n",
      "hello\n",
      "hello\n",
      "hello\n"
     ]
    }
   ],
   "source": [
    "for _ in range(5):  #to execute some action n times, even if the action does not depend on the value of n we use _ instead of i(placeholder)\n",
    "    print('hello')\n"
   ]
  },
  {
   "cell_type": "code",
   "execution_count": 3,
   "metadata": {},
   "outputs": [
    {
     "name": "stdout",
     "output_type": "stream",
     "text": [
      "{0: True, 1: True, 2: True, 3: True, 4: True}\n"
     ]
    }
   ],
   "source": [
    "l = [1,2,3,4,5]\n",
    "d = {}\n",
    "for i in range(len(l)):\n",
    "    if l[i] in d:\n",
    "        d[i] = True\n",
    "    else:\n",
    "        d[i] = True\n",
    "print(d)"
   ]
  },
  {
   "cell_type": "code",
   "execution_count": null,
   "metadata": {},
   "outputs": [],
   "source": [
    "if len(d) == 1:\n",
    "    for i in d.keys():\n",
    "        for p in range(1,d[i]):\n",
    "            #print(p)\n",
    "            sum = sum + p\n",
    "    return sum"
   ]
  },
  {
   "cell_type": "code",
   "execution_count": 5,
   "metadata": {},
   "outputs": [
    {
     "name": "stdout",
     "output_type": "stream",
     "text": [
      "{1: 0, 2: 1, 3: 2, 7: 3, 8: 4, 9: 5}\n"
     ]
    }
   ],
   "source": [
    "l = [1,2,3,7,8,9]\n",
    "m = {l[i]:i for i in range(len(l))}\n",
    "print(m)"
   ]
  },
  {
   "cell_type": "code",
   "execution_count": 1,
   "metadata": {},
   "outputs": [
    {
     "name": "stdout",
     "output_type": "stream",
     "text": [
      "{'a': 8, 'k': 4, 's': 3, 'j': 2, 'n': 4, 'd': 3, 'l': 1}\n"
     ]
    }
   ],
   "source": [
    "text = \"aaksjasjkasnkdnadnandlaka\"\n",
    "def _make_freq_dict(text):\n",
    "    freq = {}\n",
    "    for i in text:\n",
    "        freq[i] = freq.get(i,0) + 1\n",
    "    return freq\n",
    "\n",
    "dict = _make_freq_dict(text)\n",
    "print(dict)"
   ]
  }
 ],
 "metadata": {
  "kernelspec": {
   "display_name": "Python 3.10.4 64-bit",
   "language": "python",
   "name": "python3"
  },
  "language_info": {
   "codemirror_mode": {
    "name": "ipython",
    "version": 3
   },
   "file_extension": ".py",
   "mimetype": "text/x-python",
   "name": "python",
   "nbconvert_exporter": "python",
   "pygments_lexer": "ipython3",
   "version": "3.10.4"
  },
  "orig_nbformat": 4,
  "vscode": {
   "interpreter": {
    "hash": "369f2c481f4da34e4445cda3fffd2e751bd1c4d706f27375911949ba6bb62e1c"
   }
  }
 },
 "nbformat": 4,
 "nbformat_minor": 2
}
