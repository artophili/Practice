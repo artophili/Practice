{
 "cells": [
  {
   "cell_type": "markdown",
   "metadata": {},
   "source": [
    "RECURSION\n",
    "In this, We call a particular function once again under the same function to do a smaller work\n",
    "\n",
    "It works on a mathematical principle called as PMI i.e principle of mathematical induction\n",
    "PMI\n",
    "Summation of first n natural numbers = n(n+1)/2\n",
    "To prove this we will use PMI\n",
    "1st Prove that it is true for small cases like n=1\n",
    "2nd Assume that it is true for n = k where k is any generic number \n",
    "3rd Prove that it is true for n = k + 1 \n",
    "\n",
    "what is happening here is that \n",
    "We know how to stand and someone taught how to take a small step then after that we can climb all the stairs all on our own that is induction"
   ]
  },
  {
   "cell_type": "code",
   "execution_count": 3,
   "metadata": {},
   "outputs": [
    {
     "data": {
      "text/plain": [
       "15"
      ]
     },
     "execution_count": 3,
     "metadata": {},
     "output_type": "execute_result"
    }
   ],
   "source": [
    "def sum_n(n):\n",
    "    if n == 0:    # This is a base case i.e 1st step in induction\n",
    "        return 0\n",
    "    small_op = sum_n(n-1)  #This is our assumtion 2und step in PMI\n",
    "    op = small_op + n    #This is our third step using our assumtion\n",
    "    return op     \n",
    "sum_n(5)"
   ]
  },
  {
   "cell_type": "code",
   "execution_count": null,
   "metadata": {},
   "outputs": [],
   "source": [
    "l1= input().split()\n",
    "a = int(l1[0])\n",
    "b = int(l1[1])\n",
    "#print(a ** b)\n",
    "def Power(a,b):     #a is number b is a index \n",
    "    if b == 1:\n",
    "        return a\n",
    "    elif b == 0:\n",
    "        return 1\n",
    "    else:\n",
    "        pass\n",
    "    small_op = Power(a,b-1)\n",
    "    op = a * small_op\n",
    "    return op\n",
    "re = Power(a,b)\n",
    "print(re)"
   ]
  },
  {
   "cell_type": "code",
   "execution_count": 1,
   "metadata": {},
   "outputs": [
    {
     "data": {
      "text/plain": [
       "3"
      ]
     },
     "execution_count": 1,
     "metadata": {},
     "output_type": "execute_result"
    }
   ],
   "source": [
    "def fib(n):\n",
    "    if n == 1 or n == 2:\n",
    "        return 1\n",
    "    fib1 = fib(n-1)\n",
    "    fib2 = fib(n-2)\n",
    "    op = fib(n-1) + fib(n-2)\n",
    "    return op\n",
    "fib(4)\n"
   ]
  },
  {
   "cell_type": "code",
   "execution_count": 2,
   "metadata": {},
   "outputs": [
    {
     "name": "stdout",
     "output_type": "stream",
     "text": [
      "16\n"
     ]
    }
   ],
   "source": [
    "def fun(n):\n",
    "    if(n == 4):\n",
    "        return n\n",
    "    else:\n",
    "        return 2*fun(n+1)\n",
    "\n",
    "\n",
    "print(fun(2))"
   ]
  },
  {
   "cell_type": "markdown",
   "metadata": {},
   "source": [
    "Every system have a limit of recursion to run \n",
    "We can increase this limit by importing sys library \n",
    "import sys\n",
    "sys.setrecursionlimit(n)   --> This method can increase the limit of recursion"
   ]
  },
  {
   "cell_type": "code",
   "execution_count": 13,
   "metadata": {},
   "outputs": [
    {
     "data": {
      "text/plain": [
       "False"
      ]
     },
     "execution_count": 13,
     "metadata": {},
     "output_type": "execute_result"
    }
   ],
   "source": [
    "#list is sorted or not by iterative method\n",
    "def sorted(arr):\n",
    "    flag = False\n",
    "    for i in range(len(arr)):\n",
    "        for j in range(i+1,len(arr)):\n",
    "            if arr[j] < arr[i]:\n",
    "                flag = True\n",
    "    if flag:\n",
    "        return False\n",
    "    else:\n",
    "        return True\n",
    "\n",
    "\n",
    "sorted([11,2,3,4,5,6,7])\n",
    "\n",
    "#list is sorted or not by recursive method\n",
    "\n",
    "\n",
    "\n",
    "\n"
   ]
  },
  {
   "cell_type": "code",
   "execution_count": null,
   "metadata": {},
   "outputs": [],
   "source": [
    "#Sum of elements in a list by recursive method\n",
    "def sumArray(arr):\n",
    "    n = len(arr)\n",
    "    if len(arr) == 0:\n",
    "        return 0\n",
    "    \n",
    "    if len(arr) == 1:\n",
    "        return arr[0]\n",
    "    smallList = arr[-2::-1]\n",
    "    op = arr[len(arr)-1] + sumArray(smallList)\n",
    "    return op\n",
    "\n",
    "# Main\n",
    "from sys import setrecursionlimit\n",
    "setrecursionlimit(11000)\n",
    "n=int(input())\n",
    "arr=list(int(i) for i in input().strip().split(' '))\n",
    "print(sumArray(arr))"
   ]
  },
  {
   "cell_type": "code",
   "execution_count": 3,
   "metadata": {},
   "outputs": [
    {
     "ename": "",
     "evalue": "",
     "output_type": "error",
     "traceback": [
      "\u001b[1;31mCanceled future for execute_request message before replies were done"
     ]
    },
    {
     "ename": "",
     "evalue": "",
     "output_type": "error",
     "traceback": [
      "\u001b[1;31mThe Kernel crashed while executing code in the the current cell or a previous cell. Please review the code in the cell(s) to identify a possible cause of the failure. Click <a href='https://aka.ms/vscodeJupyterKernelCrash'>here</a> for more info. View Jupyter <a href='command:jupyter.viewOutput'>log</a> for further details."
     ]
    }
   ],
   "source": [
    "def isELEpresent(arr,si,x):\n",
    "    l = len(arr)\n",
    "    if si == l -1:\n",
    "        if arr[si] == x:\n",
    "            return True\n",
    "    if l == 0:\n",
    "        return False\n",
    "    isELEpresent(arr,si+1,x)\n",
    "    \n",
    "\n",
    "arr = [1,2,3,4,3,2,5,6]\n",
    "isELEpresent(arr,0,3)"
   ]
  },
  {
   "cell_type": "code",
   "execution_count": null,
   "metadata": {},
   "outputs": [],
   "source": [
    "l1 = []\n",
    "def firstIndex(arr, x,count=0):\n",
    "    l1.append(count)\n",
    "    if len(arr) == 0:\n",
    "        return -1\n",
    "    if arr[0] == x:\n",
    "        return len(l1)-1\n",
    "    op = firstIndex(arr[1:],x)\n",
    "    return op\n",
    "    \n",
    "    \n",
    "    # Please add your code here\n",
    "    pass\n",
    "\n",
    "# Main\n",
    "from sys import setrecursionlimit\n",
    "setrecursionlimit(11000)\n",
    "n=int(input())\n",
    "arr=list(int(i) for i in input().strip().split(' '))\n",
    "x=int(input())\n",
    "print(firstIndex(arr, x))"
   ]
  },
  {
   "cell_type": "code",
   "execution_count": null,
   "metadata": {},
   "outputs": [],
   "source": [
    "arr = [1,2,3,4]\n",
    "print(arr[::-1])\n"
   ]
  },
  {
   "cell_type": "code",
   "execution_count": 5,
   "metadata": {},
   "outputs": [
    {
     "data": {
      "text/plain": [
       "10"
      ]
     },
     "execution_count": 5,
     "metadata": {},
     "output_type": "execute_result"
    }
   ],
   "source": [
    "def LastIndex(arr, x):\n",
    "    l = len(arr)\n",
    "    if l == 0:\n",
    "        return -1\n",
    "    smallList = arr[1:]\n",
    "    op = LastIndex(smallList,x)\n",
    "    if op != -1:\n",
    "        return op + 1\n",
    "    else:\n",
    "        if arr[0] == x:\n",
    "            return 0\n",
    "        else:\n",
    "            return -1\n",
    "arr = [9,8,10,8,9,6,7,8,7,8,9]\n",
    "x = 9\n",
    "LastIndex(arr,x)"
   ]
  },
  {
   "cell_type": "code",
   "execution_count": 6,
   "metadata": {},
   "outputs": [
    {
     "name": "stdout",
     "output_type": "stream",
     "text": [
      "None\n"
     ]
    }
   ],
   "source": [
    "def ReplaceLetter(s):\n",
    "    if len(s) == 0:\n",
    "        return\n",
    "    if s[0] == 'a':\n",
    "        s.replace('a','b')\n",
    "    smallStr = s[1:]\n",
    "    return ReplaceLetter(smallStr)\n",
    "s1 = ReplaceLetter('akshayajsa')\n",
    "print(s1)  "
   ]
  },
  {
   "cell_type": "code",
   "execution_count": null,
   "metadata": {},
   "outputs": [],
   "source": [
    "def removeDuplicate(s) :\n",
    "    if len(s) == 0 or len(s) == 1:\n",
    "        return s\n",
    "    if s[0] == s[1] :\n",
    "        smallOp = removeDuplicate(s[2:])\n",
    "        return '' + smallOp\n",
    "    else:\n",
    "        smallOp = removeDuplicate[1:]\n",
    "        return s[0] + smallOp\n"
   ]
  },
  {
   "cell_type": "code",
   "execution_count": 1,
   "metadata": {},
   "outputs": [
    {
     "data": {
      "text/plain": [
       "'bkshby'"
      ]
     },
     "execution_count": 1,
     "metadata": {},
     "output_type": "execute_result"
    }
   ],
   "source": [
    "s = 'akshay'\n",
    "s.replace('a','b')"
   ]
  },
  {
   "cell_type": "code",
   "execution_count": 1,
   "metadata": {},
   "outputs": [
    {
     "data": {
      "text/plain": [
       "7"
      ]
     },
     "execution_count": 1,
     "metadata": {},
     "output_type": "execute_result"
    }
   ],
   "source": [
    "def binarySearch(arr,x,si,ei):\n",
    "    if si > ei:\n",
    "        return -1\n",
    "    mid = (si + ei)//2\n",
    "    if arr[mid] == x:\n",
    "        return mid\n",
    "    elif arr[mid] > x:\n",
    "        return binarySearch(arr,x,si,mid-1)\n",
    "    else:\n",
    "        return binarySearch(arr,x,mid + 1,ei)\n",
    "\n",
    "binarySearch([1,3,4,5,6,7,8,12,13,14,15,18],12,0,11)\n"
   ]
  },
  {
   "cell_type": "code",
   "execution_count": null,
   "metadata": {},
   "outputs": [],
   "source": [
    "#Merge Sorting by recursion\n",
    "def mergeSort(arr):\n",
    "    n =  len(arr)\n",
    "    if len(arr) == 1:\n",
    "        return arr\n",
    "\n",
    "    mid = n//2\n",
    "    arr1 = mergeSort(arr[:mid])\n",
    "    arr2 = mergeSort(arr[mid:])\n",
    "\n",
    "    i = 0\n",
    "    j = 0\n",
    "    arr = []\n",
    "    while i < len(arr1) and j < len(arr2):\n",
    "        if arr1[i] < arr2[j]:\n",
    "            arr.append(arr1[i])\n",
    "            i += 1\n",
    "        else:\n",
    "            arr.append(arr2[j])\n",
    "            j += 1\n",
    "\n",
    "    arr = arr + arr1[i:] + arr2[j:]\n",
    "    return arr\n",
    "mergeSort([1,3,4,2,5,7,8,6,9])\n",
    "\n",
    "\n",
    "\n",
    "\n",
    "\n"
   ]
  },
  {
   "cell_type": "code",
   "execution_count": null,
   "metadata": {},
   "outputs": [],
   "source": [
    "def mergeSort(arr):\n",
    "    n = len(arr)\n",
    "    if n == 1:\n",
    "        return arr\n",
    "    else:\n",
    "        arr1 = mergeSort(arr[:n//2])\n",
    "        arr2 = mergeSort(arr[n//2:])\n",
    "    return arr1,arr2\n",
    "l1,l2 = mergeSort([1,3,4,2,5,7,8,6,9])\n",
    "print(l1)\n",
    "print(l2)"
   ]
  },
  {
   "cell_type": "code",
   "execution_count": 3,
   "metadata": {},
   "outputs": [
    {
     "name": "stdout",
     "output_type": "stream",
     "text": [
      "[1, 2, 3, 4, 5, 6, 7, 8]\n"
     ]
    }
   ],
   "source": [
    "#QUICK SORT RECURSION\n",
    "def partition(a,si,ei):   #should return a index of pivot element\n",
    "    ele = a[si]\n",
    "    count = 0   #To count the number of elements less than the first element\n",
    "    for i in range(si,ei + 1):\n",
    "        if a[i] < ele:\n",
    "            count += 1\n",
    "    a[si+count],a[si] = a[si],a[si+count]\n",
    "    pi = si + count\n",
    "    i = si\n",
    "    j = ei\n",
    "    while i < j:\n",
    "        if a[i] < ele:\n",
    "            i = i + 1\n",
    "        elif a[j] >= ele:\n",
    "            j = j - 1\n",
    "        else:\n",
    "            a[i], a[j] = a[j], a[i]\n",
    "            i = i + 1\n",
    "            j = j - 1\n",
    "    return pi\n",
    "\n",
    "def QuickSort(a,si,ei):\n",
    "    if si >= ei:\n",
    "        return a\n",
    "    \n",
    "    i = partition(a,si,ei)\n",
    "    #function to partition given array\n",
    "    QuickSort(a,si,i-1)\n",
    "    QuickSort(a,i+1,ei)\n",
    "    return a\n",
    "a = [5,6,7,8,2,3,1,4]\n",
    "n = len(a)\n",
    "re = QuickSort(a,0,n-1)\n",
    "print(re)\n",
    "\n",
    "\n"
   ]
  },
  {
   "cell_type": "code",
   "execution_count": null,
   "metadata": {},
   "outputs": [],
   "source": [
    "def towerofhanoi(n, source, aux, dest):\n",
    "    if n == 0:\n",
    "        return\n",
    "    towerofhanoi(n-1,source, dest, aux)\n",
    "    print(source,dest)\n",
    "    towerofhanoi(n-1, aux, source, dest)\n",
    "    # Please add your code here\n",
    "    pass\n",
    "\n",
    "n=int(input())\n",
    "towerofhanoi(n, 'a', 'b', 'c')"
   ]
  },
  {
   "cell_type": "code",
   "execution_count": null,
   "metadata": {},
   "outputs": [],
   "source": [
    "def GeometricSum(k):\n",
    "    if k == 0:\n",
    "        return 1\n",
    "    a = GeometricSum(k-1)\n",
    "    ans = a + 1/2**k\n",
    "    return ans\n",
    "    \n",
    "\n",
    "# Main\n",
    "n = int(input())\n",
    "s = GeometricSum(n)\n",
    "print(\"{0:.5f}\".format(s))"
   ]
  },
  {
   "cell_type": "code",
   "execution_count": 5,
   "metadata": {},
   "outputs": [
    {
     "name": "stdout",
     "output_type": "stream",
     "text": [
      "true\n"
     ]
    }
   ],
   "source": [
    "def helper(s,si,ei):\n",
    "    if len(s) == 1 or len(s) == 0:\n",
    "        return True\n",
    "    \n",
    "    if s[si] != s[ei]:\n",
    "        return False\n",
    "    if si < ei+1 :\n",
    "        call = helper(s,si+1,ei-1)\n",
    "    return True\n",
    "\n",
    "def CheckPalindrome(s):\n",
    "    if len(s) == 0:\n",
    "        return True\n",
    "    return helper(s,0,len(s)-1)\n",
    "#main\n",
    "s = str(input())\n",
    "if CheckPalindrome(s):\n",
    "    print('true')\n",
    "else:\n",
    "    print('false')\n"
   ]
  },
  {
   "cell_type": "code",
   "execution_count": 15,
   "metadata": {},
   "outputs": [
    {
     "name": "stdout",
     "output_type": "stream",
     "text": [
      "12345\n",
      "[1, 2, 3, 4, 5]\n",
      "15\n"
     ]
    }
   ],
   "source": [
    "n = 12345\n",
    "s = str(n)\n",
    "print(s)\n",
    "l1 = []\n",
    "for i in s:\n",
    "    l1.append(int(i))\n",
    "print(l1)\n",
    "def Sum(l1):\n",
    "    n = len(l1)\n",
    "    if len(l1) == 0:\n",
    "        return\n",
    "    if len(l1) == 1:\n",
    "        return l1[0]\n",
    "    smallList = l1[:n-1]\n",
    "    a = Sum(smallList)\n",
    "    re = a + l1[n-1]\n",
    "    return re\n",
    "\n",
    "result = Sum(l1)\n",
    "print(result)"
   ]
  },
  {
   "cell_type": "code",
   "execution_count": null,
   "metadata": {},
   "outputs": [],
   "source": [
    "m = int(input())\n",
    "n = int(input())\n",
    "\n",
    "l1 = []\n",
    "i = 0\n",
    "while i < n:\n",
    "    l1.append(m)\n",
    "    i += 1\n",
    "def multiply(l1):\n",
    "    n = len(l1)\n",
    "    if n == 1:\n",
    "        return m\n",
    "    if n == 0:\n",
    "        return 0\n",
    "    smallList = l1[:n-1]\n",
    "    re = m + multiply(smallList)\n",
    "    return re\n",
    "\n",
    "#main\n",
    "p = multiply(l1)\n",
    "print(p)"
   ]
  },
  {
   "cell_type": "code",
   "execution_count": 2,
   "metadata": {},
   "outputs": [
    {
     "name": "stdout",
     "output_type": "stream",
     "text": [
      "55\n"
     ]
    }
   ],
   "source": [
    "s = ord('7')\n",
    "print(s)"
   ]
  },
  {
   "cell_type": "code",
   "execution_count": 3,
   "metadata": {},
   "outputs": [
    {
     "name": "stdout",
     "output_type": "stream",
     "text": [
      "48\n"
     ]
    }
   ],
   "source": [
    "print(ord('0'))"
   ]
  },
  {
   "cell_type": "code",
   "execution_count": null,
   "metadata": {},
   "outputs": [],
   "source": [
    "def PairStar(s,op,i=0):\n",
    "    n = len(s)\n",
    "    op = op + s[i]\n",
    "    if i == n-1:\n",
    "        print(op)\n",
    "        return\n",
    "    if s[i] == s[i+1]:\n",
    "        op = op + '*'\n",
    "    PairStar(s,op,i+1)\n",
    "\n",
    "#main\n",
    "s = input()\n",
    "op = \"\"\n",
    "PairStar(s,op)"
   ]
  },
  {
   "cell_type": "code",
   "execution_count": 1,
   "metadata": {},
   "outputs": [
    {
     "name": "stdout",
     "output_type": "stream",
     "text": [
      "58\n"
     ]
    }
   ],
   "source": [
    "class Student:\n",
    "    pp = 50\n",
    "\n",
    "s1 = Student()\n",
    "s1.pp= 58\n",
    "s2 = Student()\n",
    "s2.pp = 60\n",
    "print(s1.pp)"
   ]
  },
  {
   "cell_type": "code",
   "execution_count": 4,
   "metadata": {},
   "outputs": [
    {
     "name": "stdout",
     "output_type": "stream",
     "text": [
      "Parikh60\n"
     ]
    }
   ],
   "source": [
    "class Student:\n",
    "    name = \"Parikh\"\n",
    "    def store_details(self):\n",
    "        self.age = 60\n",
    "    def print_details(self):\n",
    "        print(self.name, end=\"\")\n",
    "        print(self.age)\n",
    "s = Student()\n",
    "s.store_details()\n",
    "s.print_details()"
   ]
  },
  {
   "cell_type": "code",
   "execution_count": 5,
   "metadata": {},
   "outputs": [
    {
     "ename": "AttributeError",
     "evalue": "'Student' object has no attribute 'age'",
     "output_type": "error",
     "traceback": [
      "\u001b[1;31m---------------------------------------------------------------------------\u001b[0m",
      "\u001b[1;31mAttributeError\u001b[0m                            Traceback (most recent call last)",
      "\u001b[1;32mc:\\Users\\Artophilic\\OneDrive\\Desktop\\Coding Ninjas Assignment\\Algorithms.ipynb Cell 30\u001b[0m in \u001b[0;36m<cell line: 10>\u001b[1;34m()\u001b[0m\n\u001b[0;32m      <a href='vscode-notebook-cell:/c%3A/Users/Artophilic/OneDrive/Desktop/Coding%20Ninjas%20Assignment/Algorithms.ipynb#ch0000029?line=7'>8</a>\u001b[0m s\u001b[39m.\u001b[39mstore_details()\n\u001b[0;32m      <a href='vscode-notebook-cell:/c%3A/Users/Artophilic/OneDrive/Desktop/Coding%20Ninjas%20Assignment/Algorithms.ipynb#ch0000029?line=8'>9</a>\u001b[0m s1 \u001b[39m=\u001b[39m Student()\n\u001b[1;32m---> <a href='vscode-notebook-cell:/c%3A/Users/Artophilic/OneDrive/Desktop/Coding%20Ninjas%20Assignment/Algorithms.ipynb#ch0000029?line=9'>10</a>\u001b[0m s1\u001b[39m.\u001b[39;49mprint_age()\n",
      "\u001b[1;32mc:\\Users\\Artophilic\\OneDrive\\Desktop\\Coding Ninjas Assignment\\Algorithms.ipynb Cell 30\u001b[0m in \u001b[0;36mStudent.print_age\u001b[1;34m(self)\u001b[0m\n\u001b[0;32m      <a href='vscode-notebook-cell:/c%3A/Users/Artophilic/OneDrive/Desktop/Coding%20Ninjas%20Assignment/Algorithms.ipynb#ch0000029?line=4'>5</a>\u001b[0m \u001b[39mdef\u001b[39;00m \u001b[39mprint_age\u001b[39m(\u001b[39mself\u001b[39m):\n\u001b[1;32m----> <a href='vscode-notebook-cell:/c%3A/Users/Artophilic/OneDrive/Desktop/Coding%20Ninjas%20Assignment/Algorithms.ipynb#ch0000029?line=5'>6</a>\u001b[0m     \u001b[39mprint\u001b[39m(\u001b[39mself\u001b[39;49m\u001b[39m.\u001b[39;49mage)\n",
      "\u001b[1;31mAttributeError\u001b[0m: 'Student' object has no attribute 'age'"
     ]
    }
   ],
   "source": [
    "class Student:\n",
    "    name = \"Parikh\"\n",
    "    def store_details(self):\n",
    "        self.age = 60\n",
    "    def print_age(self):\n",
    "        print(self.age)\n",
    "s = Student()\n",
    "s.store_details()\n",
    "s1 = Student()\n",
    "s1.print_age()"
   ]
  },
  {
   "cell_type": "code",
   "execution_count": 6,
   "metadata": {},
   "outputs": [
    {
     "ename": "TypeError",
     "evalue": "Student.__init__() missing 2 required positional arguments: 'name' and 'age'",
     "output_type": "error",
     "traceback": [
      "\u001b[1;31m---------------------------------------------------------------------------\u001b[0m",
      "\u001b[1;31mTypeError\u001b[0m                                 Traceback (most recent call last)",
      "\u001b[1;32mc:\\Users\\Artophilic\\OneDrive\\Desktop\\Coding Ninjas Assignment\\Algorithms.ipynb Cell 31\u001b[0m in \u001b[0;36m<cell line: 12>\u001b[1;34m()\u001b[0m\n\u001b[0;32m      <a href='vscode-notebook-cell:/c%3A/Users/Artophilic/OneDrive/Desktop/Coding%20Ninjas%20Assignment/Algorithms.ipynb#ch0000030?line=7'>8</a>\u001b[0m         \u001b[39mprint\u001b[39m(\u001b[39mself\u001b[39m\u001b[39m.\u001b[39mname, end\u001b[39m=\u001b[39m \u001b[39m\"\u001b[39m\u001b[39m\"\u001b[39m)\n\u001b[0;32m      <a href='vscode-notebook-cell:/c%3A/Users/Artophilic/OneDrive/Desktop/Coding%20Ninjas%20Assignment/Algorithms.ipynb#ch0000030?line=8'>9</a>\u001b[0m         \u001b[39mprint\u001b[39m(\u001b[39mself\u001b[39m\u001b[39m.\u001b[39mage)\n\u001b[1;32m---> <a href='vscode-notebook-cell:/c%3A/Users/Artophilic/OneDrive/Desktop/Coding%20Ninjas%20Assignment/Algorithms.ipynb#ch0000030?line=11'>12</a>\u001b[0m s \u001b[39m=\u001b[39m Student()\n\u001b[0;32m     <a href='vscode-notebook-cell:/c%3A/Users/Artophilic/OneDrive/Desktop/Coding%20Ninjas%20Assignment/Algorithms.ipynb#ch0000030?line=12'>13</a>\u001b[0m s\u001b[39m.\u001b[39mprint_student_details()\n",
      "\u001b[1;31mTypeError\u001b[0m: Student.__init__() missing 2 required positional arguments: 'name' and 'age'"
     ]
    }
   ],
   "source": [
    "class Student:\n",
    "\n",
    "    def __init__(self,name,age):\n",
    "        self.name = \"Rohan\"\n",
    "        self.age = 20\n",
    "\n",
    "    def print_student_details():\n",
    "        print(self.name, end= \"\")\n",
    "        print(self.age)\n",
    "\n",
    "\n",
    "s = Student()\n",
    "s.print_student_details()\n",
    "'''Once you create an object of the Student class, it also expects two arguments i.e one for name and one for age. \n",
    "But in this code no argument is passed while creating an object of the Student class, hence it will throw an error'''"
   ]
  },
  {
   "cell_type": "code",
   "execution_count": 7,
   "metadata": {},
   "outputs": [
    {
     "ename": "TypeError",
     "evalue": "Student.print_student_details() takes 0 positional arguments but 1 was given",
     "output_type": "error",
     "traceback": [
      "\u001b[1;31m---------------------------------------------------------------------------\u001b[0m",
      "\u001b[1;31mTypeError\u001b[0m                                 Traceback (most recent call last)",
      "\u001b[1;32mc:\\Users\\Artophilic\\OneDrive\\Desktop\\Coding Ninjas Assignment\\Algorithms.ipynb Cell 32\u001b[0m in \u001b[0;36m<cell line: 10>\u001b[1;34m()\u001b[0m\n\u001b[0;32m      <a href='vscode-notebook-cell:/c%3A/Users/Artophilic/OneDrive/Desktop/Coding%20Ninjas%20Assignment/Algorithms.ipynb#ch0000031?line=7'>8</a>\u001b[0m         \u001b[39mprint\u001b[39m(\u001b[39mself\u001b[39m\u001b[39m.\u001b[39mage)\n\u001b[0;32m      <a href='vscode-notebook-cell:/c%3A/Users/Artophilic/OneDrive/Desktop/Coding%20Ninjas%20Assignment/Algorithms.ipynb#ch0000031?line=8'>9</a>\u001b[0m s \u001b[39m=\u001b[39m Student(\u001b[39m\"\u001b[39m\u001b[39mParikh\u001b[39m\u001b[39m\"\u001b[39m,\u001b[39m25\u001b[39m)\n\u001b[1;32m---> <a href='vscode-notebook-cell:/c%3A/Users/Artophilic/OneDrive/Desktop/Coding%20Ninjas%20Assignment/Algorithms.ipynb#ch0000031?line=9'>10</a>\u001b[0m s\u001b[39m.\u001b[39;49mprint_student_details()\n",
      "\u001b[1;31mTypeError\u001b[0m: Student.print_student_details() takes 0 positional arguments but 1 was given"
     ]
    }
   ],
   "source": [
    "class Student:\n",
    "    def __init__(self,name,age):\n",
    "        self.name =\"Rohan\"\n",
    "        self.age = 20\n",
    "\n",
    "    def print_student_details():\n",
    "        print(self.name, end= \"\")\n",
    "        print(self.age)\n",
    "s = Student(\"Parikh\",25)\n",
    "s.print_student_details()"
   ]
  },
  {
   "cell_type": "code",
   "execution_count": 8,
   "metadata": {},
   "outputs": [
    {
     "name": "stdout",
     "output_type": "stream",
     "text": [
      "Rohan20\n"
     ]
    }
   ],
   "source": [
    "class Student:\n",
    "     def __init__(self,name,age):\n",
    "        self.__name = name\n",
    "        self.age = age\n",
    "     def print_student_details(self):\n",
    "        print(self.__name, end= \"\")\n",
    "        print(self.age)\n",
    "s = Student(\"Rohan\",20)\n",
    "s.print_student_details()"
   ]
  },
  {
   "cell_type": "code",
   "execution_count": 1,
   "metadata": {},
   "outputs": [
    {
     "ename": "AttributeError",
     "evalue": "'Car' object has no attribute 'color'",
     "output_type": "error",
     "traceback": [
      "\u001b[1;31m---------------------------------------------------------------------------\u001b[0m",
      "\u001b[1;31mAttributeError\u001b[0m                            Traceback (most recent call last)",
      "\u001b[1;32mc:\\Users\\Artophilic\\OneDrive\\Desktop\\Coding Ninjas Assignment\\Algorithms.ipynb Cell 34\u001b[0m in \u001b[0;36m<cell line: 8>\u001b[1;34m()\u001b[0m\n\u001b[0;32m      <a href='vscode-notebook-cell:/c%3A/Users/Artophilic/OneDrive/Desktop/Coding%20Ninjas%20Assignment/Algorithms.ipynb#ch0000033?line=5'>6</a>\u001b[0m          \u001b[39mself\u001b[39m\u001b[39m.\u001b[39mnumGears \u001b[39m=\u001b[39m numGears\n\u001b[0;32m      <a href='vscode-notebook-cell:/c%3A/Users/Artophilic/OneDrive/Desktop/Coding%20Ninjas%20Assignment/Algorithms.ipynb#ch0000033?line=6'>7</a>\u001b[0m c\u001b[39m=\u001b[39m Car(\u001b[39m\"\u001b[39m\u001b[39mblack\u001b[39m\u001b[39m\"\u001b[39m,\u001b[39m5\u001b[39m)\n\u001b[1;32m----> <a href='vscode-notebook-cell:/c%3A/Users/Artophilic/OneDrive/Desktop/Coding%20Ninjas%20Assignment/Algorithms.ipynb#ch0000033?line=7'>8</a>\u001b[0m \u001b[39mprint\u001b[39m(c\u001b[39m.\u001b[39;49mcolor)\n",
      "\u001b[1;31mAttributeError\u001b[0m: 'Car' object has no attribute 'color'"
     ]
    }
   ],
   "source": [
    "class Vehicle:\n",
    "     def __init__(self,color):\n",
    "         self.color = color\n",
    "class Car(Vehicle):\n",
    "     def __init__(self,color,numGears):\n",
    "         self.numGears = numGears\n",
    "c= Car(\"black\",5)\n",
    "print(c.color)"
   ]
  },
  {
   "cell_type": "code",
   "execution_count": 2,
   "metadata": {},
   "outputs": [
    {
     "name": "stdout",
     "output_type": "stream",
     "text": [
      "black\n"
     ]
    }
   ],
   "source": [
    "class Vehicle:\n",
    "    def __init__(self,color):\n",
    "        self.color = color\n",
    "class Car(Vehicle):\n",
    "    def __init__(self,color,numGears):\n",
    "        super().__init__(color)\n",
    "        self.numGears = numGears\n",
    "c= Car(\"black\",5)\n",
    "print(c.color)"
   ]
  },
  {
   "cell_type": "code",
   "execution_count": 13,
   "metadata": {},
   "outputs": [
    {
     "name": "stdout",
     "output_type": "stream",
     "text": [
      "Akshay\n",
      "Akshay\n",
      "Akshay\n",
      "Akshay\n",
      "Akshay\n",
      "Time required 1.0023865699768066\n"
     ]
    }
   ],
   "source": [
    "import time\n",
    "n = int(input())\n",
    "s = time.time()\n",
    "        \n",
    "for i in range(5):\n",
    "    print('Akshay')\n",
    "\n",
    "time.sleep(1)\n",
    "e = time.time()\n",
    "print('Time required',e-s)\n",
    "\n"
   ]
  },
  {
   "cell_type": "code",
   "execution_count": null,
   "metadata": {},
   "outputs": [],
   "source": [
    "def mergeSort(arr):\n",
    "    n = len(arr)\n",
    "    mid = n//2\n",
    "    if n == 1:\n",
    "        return arr\n",
    "    else:\n",
    "        a1 = arr[:mid]\n",
    "        a2 = arr[mid:]\n",
    "        arr1 = mergeSort(a1)\n",
    "        arr2 = mergeSort(a2)\n",
    "    arr = []\n",
    "    i = 0\n",
    "    j = 0\n",
    "    while i < len(arr1) and j < len(arr2):\n",
    "        if arr1[i] < arr2[j]:\n",
    "            arr.append(arr1[i])\n",
    "            i += 1\n",
    "        else:\n",
    "            arr.append(arr2[j])\n",
    "            j += 1\n",
    "    arr = arr + arr1[i:] + arr2[j:]\n",
    "    return arr\n",
    "\n",
    "for i in range(n):\n",
    "    for j in range(m):\n",
    "        if arr1[i] == arr2[j]:\n",
    "            print(arr1[i],end=' ')\n",
    "            arr2[j] = -1\n",
    "        break"
   ]
  },
  {
   "cell_type": "code",
   "execution_count": null,
   "metadata": {},
   "outputs": [],
   "source": []
  },
  {
   "cell_type": "code",
   "execution_count": 10,
   "metadata": {},
   "outputs": [
    {
     "name": "stdout",
     "output_type": "stream",
     "text": [
      "1 2 3 4 5 6 7 "
     ]
    }
   ],
   "source": [
    "arr1 = [2,3,4,5,1,6,7]\n",
    "arr2 = [7,6,5,4,1,2,3]\n",
    "n = len(l1)\n",
    "m = len(l2)\n",
    "def merge(arr1,n,arr2,m):\n",
    "    arr1.sort()\n",
    "    arr2.sort()\n",
    "    i , j = 0, 0\n",
    "    while i < n and j < m:\n",
    "        if arr1[i] < arr2[j]:\n",
    "            i += 1\n",
    "        elif arr1[j] < arr2[i]:\n",
    "            j += 1\n",
    "        else:\n",
    "            print(arr1[i],end=' ')\n",
    "            i += 1\n",
    "            j += 1\n",
    "merge(arr1,n,arr2,m)"
   ]
  },
  {
   "cell_type": "code",
   "execution_count": 7,
   "metadata": {},
   "outputs": [
    {
     "name": "stdout",
     "output_type": "stream",
     "text": [
      "['a', 'b', 'c', 'd', 'e', 'f', 'g', 'h', 'i', 'j', 'k', 'l', 'm', 'n', 'o', 'p', 'q', 'r', 's', 't', 'u', 'v', 'w', 'x', 'y', 'z', 'B', 'D', 'F', 'G', 'H', 'I', 'J', 'K', 'L', 'M', 'N', 'O', 'P', 'Q', 'R', 'S', 'T', 'U', 'V', 'W', 'X', 'Y', 'Z']\n",
      "49\n"
     ]
    }
   ],
   "source": [
    "import string\n",
    "l1 = list(string.ascii_letters)\n",
    "s = input()\n",
    "for i in range(0,len(s)):\n",
    "    for j in l1:\n",
    "        if j == s[i]:\n",
    "            l1.remove(j)\n",
    "            break\n",
    "        else:\n",
    "            continue\n",
    "\n",
    "print(l1)\n",
    "print(len(l1))"
   ]
  }
 ],
 "metadata": {
  "kernelspec": {
   "display_name": "Python 3.10.4 64-bit",
   "language": "python",
   "name": "python3"
  },
  "language_info": {
   "codemirror_mode": {
    "name": "ipython",
    "version": 3
   },
   "file_extension": ".py",
   "mimetype": "text/x-python",
   "name": "python",
   "nbconvert_exporter": "python",
   "pygments_lexer": "ipython3",
   "version": "3.10.4"
  },
  "orig_nbformat": 4,
  "vscode": {
   "interpreter": {
    "hash": "369f2c481f4da34e4445cda3fffd2e751bd1c4d706f27375911949ba6bb62e1c"
   }
  }
 },
 "nbformat": 4,
 "nbformat_minor": 2
}
